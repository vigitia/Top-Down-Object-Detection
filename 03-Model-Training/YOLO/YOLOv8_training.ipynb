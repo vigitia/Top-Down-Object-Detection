{
  "cells": [
    {
      "cell_type": "code",
      "execution_count": null,
      "id": "dd84ac80-2109-45f9-9506-11708cdc2c13",
      "metadata": {
        "id": "dd84ac80-2109-45f9-9506-11708cdc2c13"
      },
      "outputs": [],
      "source": [
        "!pip3 install torch torchvision torchaudio --extra-index-url https://download.pytorch.org/whl/cu116 -q\n",
        "!pip3 install ultralytics -q"
      ]
    },
    {
      "cell_type": "code",
      "execution_count": null,
      "id": "7df8bf51-89ac-43a7-bdd8-beb1643ef410",
      "metadata": {
        "id": "7df8bf51-89ac-43a7-bdd8-beb1643ef410"
      },
      "outputs": [],
      "source": [
        "import sys\n",
        "import torch\n",
        "print(f\"Python version: {sys.version}, {sys.version_info} \")\n",
        "print(f\"Pytorch version: {torch.__version__} \")"
      ]
    },
    {
      "cell_type": "code",
      "source": [
        "import ultralytics\n",
        "ultralytics.checks()"
      ],
      "metadata": {
        "id": "gujpeRvxDdkt"
      },
      "id": "gujpeRvxDdkt",
      "execution_count": null,
      "outputs": []
    },
    {
      "cell_type": "markdown",
      "source": [
        "SGD; 1e-2; no AUgmentation Epochs 50; Batch 4"
      ],
      "metadata": {
        "id": "PhJ2qybyDfxF"
      },
      "id": "PhJ2qybyDfxF"
    },
    {
      "cell_type": "code",
      "execution_count": null,
      "id": "e2f421fa-1c7b-4089-8cfb-7503ea7b6134",
      "metadata": {
        "id": "e2f421fa-1c7b-4089-8cfb-7503ea7b6134"
      },
      "outputs": [],
      "source": [
        "!yolo train model=yolov8n.pt data=\"/home/jovyan/splits/custom_data.yaml\" project=\"SGD_NO_4\" epochs=50 imgsz=640 batch=4 optimizer='SGD' lr0=0.01 hsv_h=0 hsv_s=0 hsv_v=0 translate=0 scale=0 fliplr=0 mosaic=0"
      ]
    },
    {
      "cell_type": "markdown",
      "id": "fbb0a75e-0be7-46d5-823c-96e2ac72fec9",
      "metadata": {
        "id": "fbb0a75e-0be7-46d5-823c-96e2ac72fec9"
      },
      "source": [
        "Adam; 1e-3; no Augmentation; Epochs 50; Batch 4"
      ]
    },
    {
      "cell_type": "code",
      "execution_count": null,
      "id": "1abe544a-702d-4c44-b3ba-f317b2f3030d",
      "metadata": {
        "id": "1abe544a-702d-4c44-b3ba-f317b2f3030d"
      },
      "outputs": [],
      "source": [
        "!yolo train model=yolov8n.pt data=\"/home/jovyan/splits/custom_data.yaml\" project=\"Adam_NO_4\" epochs=50 imgsz=640 batch=4 optimizer='Adam' lr0=0.001 hsv_h=0 hsv_s=0 hsv_v=0 translate=0 scale=0 fliplr=0 mosaic=0"
      ]
    },
    {
      "cell_type": "markdown",
      "id": "b2b9faa3-4efc-461e-94f5-8aabe8c33ca9",
      "metadata": {
        "id": "b2b9faa3-4efc-461e-94f5-8aabe8c33ca9"
      },
      "source": [
        "SGD; 1e-2; default Augmentation; Epochs 50; Batch 4"
      ]
    },
    {
      "cell_type": "code",
      "execution_count": null,
      "id": "7774ad49-fed7-437b-93f6-1345bab07ac7",
      "metadata": {
        "id": "7774ad49-fed7-437b-93f6-1345bab07ac7"
      },
      "outputs": [],
      "source": [
        "!yolo train model=yolov8n.pt data=\"/home/jovyan/splits/custom_data.yaml\" project=\"SGD_Default_4\" epochs=50 imgsz=640 batch=4 optimizer='SGD' lr0=0.01"
      ]
    },
    {
      "cell_type": "markdown",
      "id": "25f4165a-3542-43f7-9f97-c8c0b0bbd147",
      "metadata": {
        "id": "25f4165a-3542-43f7-9f97-c8c0b0bbd147"
      },
      "source": [
        "Adam; 1e-3; default Augmentation; Epochs 50; Batch 4"
      ]
    },
    {
      "cell_type": "code",
      "execution_count": null,
      "id": "9ea755eb-44f9-4f16-a909-b91d76c303ed",
      "metadata": {
        "id": "9ea755eb-44f9-4f16-a909-b91d76c303ed"
      },
      "outputs": [],
      "source": [
        "!yolo train model=yolov8n.pt data=\"/home/jovyan/splits/custom_data.yaml\" project=\"Adam_Default_4\" epochs=50 imgsz=640 batch=4 optimizer='Adam' lr0=0.001"
      ]
    },
    {
      "cell_type": "markdown",
      "id": "80d3ce5c-df46-40ac-814f-7c9c38cae61c",
      "metadata": {
        "id": "80d3ce5c-df46-40ac-814f-7c9c38cae61c"
      },
      "source": [
        "SGD; 1e-2; aligned Augmentation; Epochs 50; Batch 4"
      ]
    },
    {
      "cell_type": "code",
      "execution_count": null,
      "id": "c054d2b2-1d35-477f-904b-e704221d654a",
      "metadata": {
        "id": "c054d2b2-1d35-477f-904b-e704221d654a"
      },
      "outputs": [],
      "source": [
        "!yolo train model=yolov8n.pt data=\"/home/jovyan/splits/custom_data.yaml\" project=\"SGD_Aligned_4\" epochs=50 imgsz=640 batch=4 optimizer='SGD' lr0=0.01 translate=0 mosaic=0"
      ]
    },
    {
      "cell_type": "markdown",
      "id": "5db1cfde-d644-4901-b0b2-104031f22c43",
      "metadata": {
        "id": "5db1cfde-d644-4901-b0b2-104031f22c43"
      },
      "source": [
        "Adam; 1e-3; aligned Augmentation; Epochs 50; Batch 4"
      ]
    },
    {
      "cell_type": "code",
      "execution_count": null,
      "id": "ab64c259-b0d4-4f7f-9fce-8bab4fe2bc65",
      "metadata": {
        "id": "ab64c259-b0d4-4f7f-9fce-8bab4fe2bc65"
      },
      "outputs": [],
      "source": [
        "!yolo train model=yolov8n.pt data=\"/home/jovyan/splits/custom_data.yaml\" project=\"Adam_Aligned_4\" epochs=50 imgsz=640 batch=4 optimizer='Adam' lr0=0.001 translate=0 mosaic=0"
      ]
    }
  ],
  "metadata": {
    "kernelspec": {
      "display_name": "Python 3 (ipykernel)",
      "language": "python",
      "name": "python3"
    },
    "language_info": {
      "codemirror_mode": {
        "name": "ipython",
        "version": 3
      },
      "file_extension": ".py",
      "mimetype": "text/x-python",
      "name": "python",
      "nbconvert_exporter": "python",
      "pygments_lexer": "ipython3",
      "version": "3.9.13"
    },
    "colab": {
      "provenance": []
    }
  },
  "nbformat": 4,
  "nbformat_minor": 5
}