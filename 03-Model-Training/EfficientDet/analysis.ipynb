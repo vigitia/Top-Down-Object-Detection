{
 "cells": [
  {
   "cell_type": "markdown",
   "id": "3d93e893-154a-496d-92fe-4983d4c9d2c0",
   "metadata": {},
   "source": [
    "# Analysis"
   ]
  },
  {
   "cell_type": "markdown",
   "id": "228e3654-6098-4298-8879-0a8845cdd035",
   "metadata": {},
   "source": [
    "### Load Packages"
   ]
  },
  {
   "cell_type": "code",
   "execution_count": 2,
   "id": "d1367685-a634-4825-bfdb-f3d2f0657271",
   "metadata": {},
   "outputs": [],
   "source": [
    "# Load the recorded loss values from the event file\n",
    "from tensorflow.python.summary.summary_iterator import summary_iterator\n",
    "from tensorflow.python.framework import tensor_util\n",
    "import matplotlib.pyplot as plt\n",
    "import os\n",
    "import numpy as np"
   ]
  },
  {
   "cell_type": "markdown",
   "id": "639e320e-2dca-447d-a1d7-78ee1a2dc870",
   "metadata": {},
   "source": [
    "### Setup"
   ]
  },
  {
   "cell_type": "code",
   "execution_count": 3,
   "id": "abd2e01d-9e32-4c0b-afb7-675a3da264a1",
   "metadata": {},
   "outputs": [],
   "source": [
    "path = 'workspace/models/efficientdet_d1_coco17_tpu-32/epochs_100-batch_size_4-learning_rate_0.01-aug_False'\n",
    "train_path = os.path.join(path, 'train')\n",
    "val_path = os.path.join(path, 'eval')"
   ]
  },
  {
   "cell_type": "code",
   "execution_count": 9,
   "id": "848fe76f-728a-4cb3-b8ce-3668698998c8",
   "metadata": {},
   "outputs": [
    {
     "name": "stdout",
     "output_type": "stream",
     "text": [
      "Train: 218, Eval: 1\n"
     ]
    },
    {
     "data": {
      "image/png": "[encoded data removed]",
      "text/plain": [
       "<Figure size 432x288 with 1 Axes>"
      ]
     },
     "metadata": {
      "needs_background": "light"
     },
     "output_type": "display_data"
    }
   ],
   "source": [
    "# Load the evaluation metrics event file\n",
    "step_values = []\n",
    "train_loss_values = []\n",
    "val_loss_values = []\n",
    "\n",
    "for event in summary_iterator(os.path.join(train_path, os.listdir(train_path)[-1])):\n",
    "    for value in event.summary.value:\n",
    "        if value.tag == \"Loss/total_loss\":\n",
    "            loss = tensor_util.MakeNdarray(value.tensor)\n",
    "            step_values.append(event.step)\n",
    "            train_loss_values.append(loss)\n",
    "            \n",
    "for event in summary_iterator(os.path.join(val_path, os.listdir(val_path)[-1])):\n",
    "    for value in event.summary.value:\n",
    "        if value.tag == \"Loss/total_loss\":\n",
    "            loss = tensor_util.MakeNdarray(value.tensor)\n",
    "            val_loss_values.append(loss)\n",
    "            \n",
    "            \n",
    "print(f\"Train: {len(train_loss_values)}, Eval: {len(val_loss_values)}\")\n",
    "# Plot the loss curve using Matplotlib\n",
    "plt.plot(np.array(step_values) / 10, train_loss_values)\n",
    "plt.plot(step_values[-1] / 10, val_loss_values[-1], 'o')\n",
    "plt.xlabel(\"Epochs\")\n",
    "plt.ylabel(\"Loss\")\n",
    "plt.show()"
   ]
  },
  {
   "cell_type": "code",
   "execution_count": 59,
   "id": "081e20a8-bf0e-4fab-96e9-e9d16d2b3ef0",
   "metadata": {},
   "outputs": [],
   "source": [
    "def load_labelmap(path):\n",
    "  \"\"\"Loads label map proto.\n",
    "  Args:\n",
    "    path: path to StringIntLabelMap proto text file.\n",
    "  Returns:\n",
    "    a StringIntLabelMapProto\n",
    "  \"\"\"\n",
    "  with tf.io.gfile.GFile(path, 'r') as fid:\n",
    "    label_map_string = fid.read()\n",
    "    label_map = string_int_label_map_pb2.StringIntLabelMap()\n",
    "    return label_mapval_loss_values"
   ]
  },
  {
   "cell_type": "code",
   "execution_count": 60,
   "id": "035bdf9d-0656-48ba-9641-63cbcbe35d97",
   "metadata": {},
   "outputs": [
    {
     "name": "stdout",
     "output_type": "stream",
     "text": [
      "\n"
     ]
    },
    {
     "ename": "NameError",
     "evalue": "name 'label_map_util' is not defined",
     "output_type": "error",
     "traceback": [
      "\u001b[0;31m---------------------------------------------------------------------------\u001b[0m",
      "\u001b[0;31mNameError\u001b[0m                                 Traceback (most recent call last)",
      "Input \u001b[0;32mIn [60]\u001b[0m, in \u001b[0;36m<cell line: 17>\u001b[0;34m()\u001b[0m\n\u001b[1;32m     15\u001b[0m \u001b[38;5;28mprint\u001b[39m(label_map)\n\u001b[1;32m     16\u001b[0m \u001b[38;5;66;03m#categories = label_map_util.convert_label_map_to_categories(label_map, max_num_classes=10, use_display_name=True)\u001b[39;00m\n\u001b[0;32m---> 17\u001b[0m category_index \u001b[38;5;241m=\u001b[39m \u001b[43mlabel_map_util\u001b[49m\u001b[38;5;241m.\u001b[39mcreate_category_index(categories)\n\u001b[1;32m     19\u001b[0m \u001b[38;5;66;03m# Extract the precision and recall values\u001b[39;00m\n\u001b[1;32m     20\u001b[0m prec_vals \u001b[38;5;241m=\u001b[39m []\n",
      "\u001b[0;31mNameError\u001b[0m: name 'label_map_util' is not defined"
     ]
    }
   ],
   "source": [
    "# Import the necessary libraries\n",
    "#from object_detection.utils import label_map_util\n",
    "from object_detection.utils import metrics\n",
    "from object_detection.protos import string_int_label_map_pb2\n",
    "import tensorflow as tf\n",
    "\n",
    "# Path to the event file generated during evaluation\n",
    "event_file_path = 'workspace/models/efficientdet_d1_coco17_tpu-32/epochs_10-batch_size_4-learning_rate_0.001-aug_False/train'\n",
    "\n",
    "# Path to the label map file used during training\n",
    "label_map_path = 'workspace/data/label_map.pbtxt'\n",
    "\n",
    "# Load the label map file\n",
    "label_map = load_labelmap(label_map_path)\n",
    "print(label_map)\n",
    "#categories = label_map_util.convert_label_map_to_categories(label_map, max_num_classes=10, use_display_name=True)\n",
    "category_index = label_map_util.create_category_index(categories)\n",
    "\n",
    "# Extract the precision and recall values\n",
    "prec_vals = []\n",
    "for summary in summary_iterator(os.path.join(train_path, os.listdir(train_path)[-1])):\n",
    "    for value in summary.summary.value:\n",
    "        if value.tag == 'DetectionBoxes_Precision/mAP':\n",
    "            prec_vals.append((value.tag, value.simple_value))\n",
    "        elif value.tag == 'DetectionBoxes_Recall/AR@0.50IOU':\n",
    "            prec_vals.append((value.tag, value.simple_value))\n",
    "\n",
    "# Compute the average precision and recall over all classes\n",
    "ap_per_class, mAP = metrics.compute_average_precision(category_index, prec_vals)\n",
    "\n",
    "print('mAP: ', mAP)\n",
    "for i in range(1, len(category_index)):\n",
    "    print('AP for class {}: {}'.format(category_index[i]['name'], ap_per_class[i]))"
   ]
  },
  {
   "cell_type": "code",
   "execution_count": null,
   "id": "f9e8d0cf-5cbf-4c68-8c93-c4ef3872cab3",
   "metadata": {},
   "outputs": [],
   "source": []
  }
 ],
 "metadata": {
  "kernelspec": {
   "display_name": "Python 3 (ipykernel)",
   "language": "python",
   "name": "python3"
  },
  "language_info": {
   "codemirror_mode": {
    "name": "ipython",
    "version": 3
   },
   "file_extension": ".py",
   "mimetype": "text/x-python",
   "name": "python",
   "nbconvert_exporter": "python",
   "pygments_lexer": "ipython3",
   "version": "3.9.13"
  }
 },
 "nbformat": 4,
 "nbformat_minor": 5
}
