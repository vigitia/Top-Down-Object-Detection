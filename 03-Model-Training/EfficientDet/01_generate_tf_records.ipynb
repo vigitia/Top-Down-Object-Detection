{
 "cells": [
  {
   "cell_type": "code",
   "execution_count": null,
   "id": "10ce7ef5",
   "metadata": {},
   "outputs": [],
   "source": [
    "!pip uninstall object_detection"
   ]
  },
  {
   "cell_type": "markdown",
   "id": "9d72b0e2",
   "metadata": {},
   "source": [
    "### Load packages"
   ]
  },
  {
   "cell_type": "code",
   "execution_count": 1,
   "id": "8c8fb130",
   "metadata": {},
   "outputs": [],
   "source": [
    "import os"
   ]
  },
  {
   "cell_type": "markdown",
   "id": "8c87ca6a",
   "metadata": {},
   "source": [
    "### Setup"
   ]
  },
  {
   "cell_type": "code",
   "execution_count": 2,
   "id": "4578ffea",
   "metadata": {},
   "outputs": [],
   "source": [
    "DATA_PATH = os.path.abspath(os.path.join(\"../../../../..\", \"Seafile\", \"Detecting-Objects\", \"DataCollection\"))\n",
    "\n",
    "USE_AUGMENTED_DATA = False\n",
    "\n",
    "TRAIN_PATH = os.path.join(DATA_PATH, 'splits', 'train')\n",
    "VAL_PATH = os.path.join(DATA_PATH, 'splits', 'val')\n",
    "TEST_PATH = os.path.join(DATA_PATH, 'splits', 'test')\n",
    "\n",
    "if USE_AUGMENTED_DATA:\n",
    "    TRAIN_PATH = os.path.join(TRAIN_PATH, 'aug')\n",
    "    VAL_PATH = os.path.join(VAL_PATH, 'aug')\n",
    "    TEST_PATH = os.path.join(TEST_PATH, 'aug')"
   ]
  },
  {
   "cell_type": "markdown",
   "id": "c81659f7",
   "metadata": {},
   "source": [
    "### Download Tensorflow Object Detection API\n",
    "We need this, since we have to access the object_detection package that's inside"
   ]
  },
  {
   "cell_type": "code",
   "execution_count": null,
   "id": "f3cce8ce",
   "metadata": {},
   "outputs": [],
   "source": [
    "#!git clone https://github.com/tensorflow/models"
   ]
  },
  {
   "cell_type": "code",
   "execution_count": 5,
   "id": "03c23795",
   "metadata": {},
   "outputs": [
    {
     "name": "stdout",
     "output_type": "stream",
     "text": [
      "/Users/markusbink/Documents/dev/Top-Down-Object-Detection/03-Model-Training/EfficientDet/models/research\n"
     ]
    }
   ],
   "source": [
    "%cd models/research/"
   ]
  },
  {
   "cell_type": "code",
   "execution_count": null,
   "id": "8ce96a91",
   "metadata": {},
   "outputs": [],
   "source": [
    "!cp object_detection/packages/tf2/setup.py .\n",
    "!pip install ."
   ]
  },
  {
   "cell_type": "code",
   "execution_count": 6,
   "id": "afadc686",
   "metadata": {},
   "outputs": [
    {
     "name": "stdout",
     "output_type": "stream",
     "text": [
      "rm: opt/conda/lib/python3.9/site-packages/tensorflow/core/kernels/libtfkernel_sobol_op.so: No such file or directory\r\n"
     ]
    }
   ],
   "source": [
    "# Remove this file since it prevents the API to work in the Schlaubox\n",
    "!rm opt/conda/lib/python3.9/site-packages/tensorflow/core/kernels/libtfkernel_sobol_op.so"
   ]
  },
  {
   "cell_type": "code",
   "execution_count": 7,
   "id": "0cb252d8",
   "metadata": {},
   "outputs": [
    {
     "name": "stdout",
     "output_type": "stream",
     "text": [
      "/Users/markusbink/Documents/dev/Top-Down-Object-Detection/03-Model-Training/EfficientDet\n"
     ]
    }
   ],
   "source": [
    "%cd ../.."
   ]
  },
  {
   "cell_type": "markdown",
   "id": "823956a6",
   "metadata": {},
   "source": [
    "### Generate TF Records\n",
    "TFRecords are used to train object detection models using the Tensorflow Object Detection API. These records combine both the image and annotation data into one singular file. \n",
    "\n",
    "We need to create 3 different TFRecords, one for each split (train, validation, test).\n",
    "\n",
    "Once created, you can simply copy the files from the ***data directory*** to the server of your choice, where you are training the model (e.g. Schlaubox, Google Colab, etc.)"
   ]
  },
  {
   "cell_type": "code",
   "execution_count": 8,
   "id": "c7f43d8f",
   "metadata": {},
   "outputs": [
    {
     "name": "stdout",
     "output_type": "stream",
     "text": [
      "/Users/markusbink/Documents/dev/Top-Down-Object-Detection/env/lib/python3.10/site-packages/tensorflow_io/python/ops/__init__.py:98: UserWarning: unable to load libtensorflow_io_plugins.so: unable to open file: libtensorflow_io_plugins.so, from paths: ['/Users/markusbink/Documents/dev/Top-Down-Object-Detection/env/lib/python3.10/site-packages/tensorflow_io/python/ops/libtensorflow_io_plugins.so']\n",
      "caused by: [\"dlopen(/Users/markusbink/Documents/dev/Top-Down-Object-Detection/env/lib/python3.10/site-packages/tensorflow_io/python/ops/libtensorflow_io_plugins.so, 0x0006): symbol not found in flat namespace '__ZN3tsl2io7DirnameENSt3__117basic_string_viewIcNS1_11char_traitsIcEEEE'\"]\n",
      "  warnings.warn(f\"unable to load libtensorflow_io_plugins.so: {e}\")\n",
      "/Users/markusbink/Documents/dev/Top-Down-Object-Detection/env/lib/python3.10/site-packages/tensorflow_io/python/ops/__init__.py:104: UserWarning: file system plugins are not loaded: unable to open file: libtensorflow_io.so, from paths: ['/Users/markusbink/Documents/dev/Top-Down-Object-Detection/env/lib/python3.10/site-packages/tensorflow_io/python/ops/libtensorflow_io.so']\n",
      "caused by: [\"dlopen(/Users/markusbink/Documents/dev/Top-Down-Object-Detection/env/lib/python3.10/site-packages/tensorflow_io/python/ops/libtensorflow_io.so, 0x0006): symbol not found in flat namespace '__ZN10tensorflow12OpDefBuilder10SetShapeFnENSt3__18functionIFN3tsl6StatusEPNS_15shape_inference16InferenceContextEEEE'\"]\n",
      "  warnings.warn(f\"file system plugins are not loaded: {e}\")\n",
      "Successfully created the TFRecord file: data/train.tfrecord\n",
      "/Users/markusbink/Documents/dev/Top-Down-Object-Detection/env/lib/python3.10/site-packages/tensorflow_io/python/ops/__init__.py:98: UserWarning: unable to load libtensorflow_io_plugins.so: unable to open file: libtensorflow_io_plugins.so, from paths: ['/Users/markusbink/Documents/dev/Top-Down-Object-Detection/env/lib/python3.10/site-packages/tensorflow_io/python/ops/libtensorflow_io_plugins.so']\n",
      "caused by: [\"dlopen(/Users/markusbink/Documents/dev/Top-Down-Object-Detection/env/lib/python3.10/site-packages/tensorflow_io/python/ops/libtensorflow_io_plugins.so, 0x0006): symbol not found in flat namespace '__ZN3tsl2io7DirnameENSt3__117basic_string_viewIcNS1_11char_traitsIcEEEE'\"]\n",
      "  warnings.warn(f\"unable to load libtensorflow_io_plugins.so: {e}\")\n",
      "/Users/markusbink/Documents/dev/Top-Down-Object-Detection/env/lib/python3.10/site-packages/tensorflow_io/python/ops/__init__.py:104: UserWarning: file system plugins are not loaded: unable to open file: libtensorflow_io.so, from paths: ['/Users/markusbink/Documents/dev/Top-Down-Object-Detection/env/lib/python3.10/site-packages/tensorflow_io/python/ops/libtensorflow_io.so']\n",
      "caused by: [\"dlopen(/Users/markusbink/Documents/dev/Top-Down-Object-Detection/env/lib/python3.10/site-packages/tensorflow_io/python/ops/libtensorflow_io.so, 0x0006): symbol not found in flat namespace '__ZN10tensorflow12OpDefBuilder10SetShapeFnENSt3__18functionIFN3tsl6StatusEPNS_15shape_inference16InferenceContextEEEE'\"]\n",
      "  warnings.warn(f\"file system plugins are not loaded: {e}\")\n",
      "Successfully created the TFRecord file: data/val.tfrecord\n",
      "/Users/markusbink/Documents/dev/Top-Down-Object-Detection/env/lib/python3.10/site-packages/tensorflow_io/python/ops/__init__.py:98: UserWarning: unable to load libtensorflow_io_plugins.so: unable to open file: libtensorflow_io_plugins.so, from paths: ['/Users/markusbink/Documents/dev/Top-Down-Object-Detection/env/lib/python3.10/site-packages/tensorflow_io/python/ops/libtensorflow_io_plugins.so']\n",
      "caused by: [\"dlopen(/Users/markusbink/Documents/dev/Top-Down-Object-Detection/env/lib/python3.10/site-packages/tensorflow_io/python/ops/libtensorflow_io_plugins.so, 0x0006): symbol not found in flat namespace '__ZN3tsl2io7DirnameENSt3__117basic_string_viewIcNS1_11char_traitsIcEEEE'\"]\n",
      "  warnings.warn(f\"unable to load libtensorflow_io_plugins.so: {e}\")\n",
      "/Users/markusbink/Documents/dev/Top-Down-Object-Detection/env/lib/python3.10/site-packages/tensorflow_io/python/ops/__init__.py:104: UserWarning: file system plugins are not loaded: unable to open file: libtensorflow_io.so, from paths: ['/Users/markusbink/Documents/dev/Top-Down-Object-Detection/env/lib/python3.10/site-packages/tensorflow_io/python/ops/libtensorflow_io.so']\n",
      "caused by: [\"dlopen(/Users/markusbink/Documents/dev/Top-Down-Object-Detection/env/lib/python3.10/site-packages/tensorflow_io/python/ops/libtensorflow_io.so, 0x0006): symbol not found in flat namespace '__ZN10tensorflow12OpDefBuilder10SetShapeFnENSt3__18functionIFN3tsl6StatusEPNS_15shape_inference16InferenceContextEEEE'\"]\n",
      "  warnings.warn(f\"file system plugins are not loaded: {e}\")\n",
      "Successfully created the TFRecord file: data/test.tfrecord\n"
     ]
    }
   ],
   "source": [
    "!python {'scripts/generate_tfrecord.py'} -x {TRAIN_PATH} -l {'data/label_map.pbtxt'} -o {'data/train.tfrecord'}\n",
    "!python {'scripts/generate_tfrecord.py'} -x {VAL_PATH} -l {'data/label_map.pbtxt'} -o {'data/val.tfrecord'}\n",
    "!python {'scripts/generate_tfrecord.py'} -x {TEST_PATH} -l {'data/label_map.pbtxt'} -o {'data/test.tfrecord'}"
   ]
  },
  {
   "cell_type": "code",
   "execution_count": null,
   "id": "67f94736",
   "metadata": {},
   "outputs": [],
   "source": []
  }
 ],
 "metadata": {
  "kernelspec": {
   "display_name": "env",
   "language": "python",
   "name": "env"
  },
  "language_info": {
   "codemirror_mode": {
    "name": "ipython",
    "version": 3
   },
   "file_extension": ".py",
   "mimetype": "text/x-python",
   "name": "python",
   "nbconvert_exporter": "python",
   "pygments_lexer": "ipython3",
   "version": "3.10.6"
  }
 },
 "nbformat": 4,
 "nbformat_minor": 5
}
