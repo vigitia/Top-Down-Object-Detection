{
 "cells": [
  {
   "cell_type": "markdown",
   "id": "b7fb4ed9-dc8a-4209-a18a-9d95aa8a882f",
   "metadata": {},
   "source": [
    "# Train Model\n",
    "Folder structure was inspired by this [Blog Post](https://neptune.ai/blog/how-to-train-your-own-object-detector-using-tensorflow-object-detection-api)"
   ]
  },
  {
   "cell_type": "markdown",
   "id": "8f059f46-6ab5-4469-b946-c14538a0193c",
   "metadata": {},
   "source": [
    "### Load Packages\n",
    "When running the script, sometimes the following error comes up: \\\n",
    "`undefined symbol: _ZN10tensorflow8OpKernel11TraceStringEPNS_15OpKernelContextEb`\n",
    "\n",
    "To remedy this issue, we have to reinstall both tensorflow and keras"
   ]
  },
  {
   "cell_type": "code",
   "execution_count": 79,
   "id": "ca3d3f97-52e5-4d18-8e4b-21c432be396c",
   "metadata": {},
   "outputs": [
    {
     "name": "stdout",
     "output_type": "stream",
     "text": [
      "\u001b[33mWARNING: Ignoring invalid distribution -bject-detection (/home/jovyan/.local/lib/python3.9/site-packages)\u001b[0m\u001b[33m\n",
      "\u001b[0m\u001b[33mWARNING: Ignoring invalid distribution -bject-detection (/home/jovyan/.local/lib/python3.9/site-packages)\u001b[0m\u001b[33m\n",
      "\u001b[0mFound existing installation: tensorflow 2.6.0\n",
      "Uninstalling tensorflow-2.6.0:\n",
      "  Successfully uninstalled tensorflow-2.6.0\n",
      "\u001b[33mWARNING: Ignoring invalid distribution -bject-detection (/home/jovyan/.local/lib/python3.9/site-packages)\u001b[0m\u001b[33m\n",
      "\u001b[0mFound existing installation: keras 2.6.0\n",
      "Uninstalling keras-2.6.0:\n",
      "  Successfully uninstalled keras-2.6.0\n"
     ]
    }
   ],
   "source": [
    "!pip uninstall -y tensorflow keras"
   ]
  },
  {
   "cell_type": "code",
   "execution_count": 80,
   "id": "55c081f7-b290-4a05-a23f-41e64dd76ea3",
   "metadata": {},
   "outputs": [
    {
     "name": "stdout",
     "output_type": "stream",
     "text": [
      "\u001b[33mWARNING: Ignoring invalid distribution -bject-detection (/home/jovyan/.local/lib/python3.9/site-packages)\u001b[0m\u001b[33m\n",
      "\u001b[0m\u001b[33mWARNING: Ignoring invalid distribution -bject-detection (/home/jovyan/.local/lib/python3.9/site-packages)\u001b[0m\u001b[33m\n",
      "\u001b[0mCollecting tensorflow==2.6.0\n",
      "  Using cached tensorflow-2.6.0-cp39-cp39-manylinux2010_x86_64.whl (458.4 MB)\n",
      "Collecting keras==2.6.0\n",
      "  Using cached keras-2.6.0-py2.py3-none-any.whl (1.3 MB)\n",
      "Requirement already satisfied: tensorflow-estimator~=2.6 in /opt/conda/lib/python3.9/site-packages (from tensorflow==2.6.0) (2.9.0)\n",
      "Requirement already satisfied: termcolor~=1.1.0 in /opt/conda/lib/python3.9/site-packages (from tensorflow==2.6.0) (1.1.0)\n",
      "Requirement already satisfied: keras-preprocessing~=1.1.2 in /opt/conda/lib/python3.9/site-packages (from tensorflow==2.6.0) (1.1.2)\n",
      "Requirement already satisfied: opt-einsum~=3.3.0 in /opt/conda/lib/python3.9/site-packages (from tensorflow==2.6.0) (3.3.0)\n",
      "Requirement already satisfied: numpy~=1.19.2 in /home/jovyan/.local/lib/python3.9/site-packages (from tensorflow==2.6.0) (1.19.5)\n",
      "Requirement already satisfied: gast==0.4.0 in /opt/conda/lib/python3.9/site-packages (from tensorflow==2.6.0) (0.4.0)\n",
      "Requirement already satisfied: h5py~=3.1.0 in /home/jovyan/.local/lib/python3.9/site-packages (from tensorflow==2.6.0) (3.1.0)\n",
      "Requirement already satisfied: grpcio<2.0,>=1.37.0 in /opt/conda/lib/python3.9/site-packages (from tensorflow==2.6.0) (1.47.0)\n",
      "Requirement already satisfied: six~=1.15.0 in /home/jovyan/.local/lib/python3.9/site-packages (from tensorflow==2.6.0) (1.15.0)\n",
      "Requirement already satisfied: google-pasta~=0.2 in /opt/conda/lib/python3.9/site-packages (from tensorflow==2.6.0) (0.2.0)\n",
      "Requirement already satisfied: wrapt~=1.12.1 in /home/jovyan/.local/lib/python3.9/site-packages (from tensorflow==2.6.0) (1.12.1)\n",
      "Requirement already satisfied: flatbuffers~=1.12.0 in /opt/conda/lib/python3.9/site-packages (from tensorflow==2.6.0) (1.12)\n",
      "Requirement already satisfied: astunparse~=1.6.3 in /opt/conda/lib/python3.9/site-packages (from tensorflow==2.6.0) (1.6.3)\n",
      "Requirement already satisfied: clang~=5.0 in /home/jovyan/.local/lib/python3.9/site-packages (from tensorflow==2.6.0) (5.0)\n",
      "Requirement already satisfied: typing-extensions~=3.7.4 in /home/jovyan/.local/lib/python3.9/site-packages (from tensorflow==2.6.0) (3.7.4.3)\n",
      "Requirement already satisfied: tensorboard~=2.6 in /opt/conda/lib/python3.9/site-packages (from tensorflow==2.6.0) (2.9.1)\n",
      "Requirement already satisfied: protobuf>=3.9.2 in /home/jovyan/.local/lib/python3.9/site-packages (from tensorflow==2.6.0) (3.19.6)\n",
      "Requirement already satisfied: absl-py~=0.10 in /home/jovyan/.local/lib/python3.9/site-packages (from tensorflow==2.6.0) (0.15.0)\n",
      "Requirement already satisfied: wheel~=0.35 in /opt/conda/lib/python3.9/site-packages (from tensorflow==2.6.0) (0.37.1)\n",
      "Requirement already satisfied: markdown>=2.6.8 in /opt/conda/lib/python3.9/site-packages (from tensorboard~=2.6->tensorflow==2.6.0) (3.3.7)\n",
      "Requirement already satisfied: google-auth-oauthlib<0.5,>=0.4.1 in /opt/conda/lib/python3.9/site-packages (from tensorboard~=2.6->tensorflow==2.6.0) (0.4.6)\n",
      "Requirement already satisfied: google-auth<3,>=1.6.3 in /home/jovyan/.local/lib/python3.9/site-packages (from tensorboard~=2.6->tensorflow==2.6.0) (2.15.0)\n",
      "Requirement already satisfied: werkzeug>=1.0.1 in /opt/conda/lib/python3.9/site-packages (from tensorboard~=2.6->tensorflow==2.6.0) (2.1.2)\n",
      "Requirement already satisfied: tensorboard-data-server<0.7.0,>=0.6.0 in /opt/conda/lib/python3.9/site-packages (from tensorboard~=2.6->tensorflow==2.6.0) (0.6.1)\n",
      "Requirement already satisfied: tensorboard-plugin-wit>=1.6.0 in /opt/conda/lib/python3.9/site-packages (from tensorboard~=2.6->tensorflow==2.6.0) (1.8.1)\n",
      "Requirement already satisfied: setuptools>=41.0.0 in /opt/conda/lib/python3.9/site-packages (from tensorboard~=2.6->tensorflow==2.6.0) (63.1.0)\n",
      "Requirement already satisfied: requests<3,>=2.21.0 in /opt/conda/lib/python3.9/site-packages (from tensorboard~=2.6->tensorflow==2.6.0) (2.28.1)\n",
      "Requirement already satisfied: pyasn1-modules>=0.2.1 in /opt/conda/lib/python3.9/site-packages (from google-auth<3,>=1.6.3->tensorboard~=2.6->tensorflow==2.6.0) (0.2.8)\n",
      "Requirement already satisfied: rsa<5,>=3.1.4 in /opt/conda/lib/python3.9/site-packages (from google-auth<3,>=1.6.3->tensorboard~=2.6->tensorflow==2.6.0) (4.8)\n",
      "Requirement already satisfied: cachetools<6.0,>=2.0.0 in /opt/conda/lib/python3.9/site-packages (from google-auth<3,>=1.6.3->tensorboard~=2.6->tensorflow==2.6.0) (5.2.0)\n",
      "Requirement already satisfied: requests-oauthlib>=0.7.0 in /opt/conda/lib/python3.9/site-packages (from google-auth-oauthlib<0.5,>=0.4.1->tensorboard~=2.6->tensorflow==2.6.0) (1.3.1)\n",
      "Requirement already satisfied: importlib-metadata>=4.4 in /opt/conda/lib/python3.9/site-packages (from markdown>=2.6.8->tensorboard~=2.6->tensorflow==2.6.0) (4.11.4)\n",
      "Requirement already satisfied: urllib3<1.27,>=1.21.1 in /opt/conda/lib/python3.9/site-packages (from requests<3,>=2.21.0->tensorboard~=2.6->tensorflow==2.6.0) (1.26.9)\n",
      "Requirement already satisfied: certifi>=2017.4.17 in /opt/conda/lib/python3.9/site-packages (from requests<3,>=2.21.0->tensorboard~=2.6->tensorflow==2.6.0) (2022.6.15)\n",
      "Requirement already satisfied: charset-normalizer<3,>=2 in /opt/conda/lib/python3.9/site-packages (from requests<3,>=2.21.0->tensorboard~=2.6->tensorflow==2.6.0) (2.1.0)\n",
      "Requirement already satisfied: idna<4,>=2.5 in /opt/conda/lib/python3.9/site-packages (from requests<3,>=2.21.0->tensorboard~=2.6->tensorflow==2.6.0) (3.3)\n",
      "Requirement already satisfied: zipp>=0.5 in /opt/conda/lib/python3.9/site-packages (from importlib-metadata>=4.4->markdown>=2.6.8->tensorboard~=2.6->tensorflow==2.6.0) (3.8.0)\n",
      "Requirement already satisfied: pyasn1<0.5.0,>=0.4.6 in /opt/conda/lib/python3.9/site-packages (from pyasn1-modules>=0.2.1->google-auth<3,>=1.6.3->tensorboard~=2.6->tensorflow==2.6.0) (0.4.8)\n",
      "Requirement already satisfied: oauthlib>=3.0.0 in /opt/conda/lib/python3.9/site-packages (from requests-oauthlib>=0.7.0->google-auth-oauthlib<0.5,>=0.4.1->tensorboard~=2.6->tensorflow==2.6.0) (3.2.0)\n",
      "\u001b[33mWARNING: Ignoring invalid distribution -bject-detection (/home/jovyan/.local/lib/python3.9/site-packages)\u001b[0m\u001b[33m\n",
      "\u001b[0mInstalling collected packages: keras, tensorflow\n",
      "Successfully installed keras-2.6.0 tensorflow-2.6.0\n",
      "\u001b[33mWARNING: Ignoring invalid distribution -bject-detection (/home/jovyan/.local/lib/python3.9/site-packages)\u001b[0m\u001b[33m\n",
      "\u001b[0m\u001b[33mWARNING: Ignoring invalid distribution -bject-detection (/home/jovyan/.local/lib/python3.9/site-packages)\u001b[0m\u001b[33m\n",
      "\u001b[0m\u001b[33mWARNING: Ignoring invalid distribution -bject-detection (/home/jovyan/.local/lib/python3.9/site-packages)\u001b[0m\u001b[33m\n",
      "\u001b[0m"
     ]
    }
   ],
   "source": [
    "!pip install tensorflow==2.6.0 keras==2.6.0"
   ]
  },
  {
   "cell_type": "code",
   "execution_count": 81,
   "id": "83dae119-1699-4924-aea8-70a81f6118b8",
   "metadata": {},
   "outputs": [],
   "source": [
    "import os\n",
    "import time"
   ]
  },
  {
   "cell_type": "markdown",
   "id": "fa198318-b869-4b50-bd4e-3c6bafd24da2",
   "metadata": {},
   "source": [
    "### Setup\n",
    "- Go over to [Tensorflow Model Zoo](https://github.com/tensorflow/models/blob/master/research/object_detection/g3doc/tf2_detection_zoo.md) and select the model we want to fine-tune\n",
    "- Select which model to train and copy the path of the url e.g. *efficientdet_d1_coco17_tpu-32.tar.gz*"
   ]
  },
  {
   "cell_type": "code",
   "execution_count": 82,
   "id": "f327bb8d-f1b1-41ae-827e-b3d08a720afc",
   "metadata": {},
   "outputs": [],
   "source": [
    "SETUP_TENSORFLOW = True\n",
    "\n",
    "WORKSPACE_PATH = \"workspace\"\n",
    "DATA_PATH = os.path.join(WORKSPACE_PATH, \"data\")\n",
    "PRE_TRAINED_MODELS_PATH = os.path.join(WORKSPACE_PATH, \"pre_trained_models\")\n",
    "\n",
    "MODELS_PATH = os.path.join(WORKSPACE_PATH, \"models\")\n",
    "BASE_MODEL_URL = \"http://download.tensorflow.org/models/object_detection/tf2/20200711\"\n",
    "MODEL_NAME = \"efficientdet_d1_coco17_tpu-32\"\n",
    "\n",
    "PIPELINE_CONFIG_PATH = os.path.join(PRE_TRAINED_MODELS_PATH, MODEL_NAME, \"pipeline.config\")\n",
    "\n",
    "NUM_CLASSES = 10\n",
    "\n",
    "EPOCHS = 100\n",
    "BATCH_SIZE = 4\n",
    "LEARNING_RATE = 1e-2\n",
    "USE_AUGMENTATION = False\n",
    "COMBINATION_NAME = f\"epochs_{EPOCHS}-batch_size_{BATCH_SIZE}-learning_rate_{LEARNING_RATE}-aug_{USE_AUGMENTATION}\""
   ]
  },
  {
   "cell_type": "code",
   "execution_count": 83,
   "id": "155cb1a9-2df6-45d1-b703-5593477114ae",
   "metadata": {},
   "outputs": [],
   "source": [
    "if not os.path.exists(WORKSPACE_PATH):\n",
    "    os.mkdir(WORKSPACE_PATH)\n",
    "\n",
    "if not os.path.exists(MODELS_PATH):\n",
    "    os.mkdir(MODELS_PATH)\n",
    "    \n",
    "if not os.path.exists(DATA_PATH):\n",
    "    os.mkdir(DATA_PATH)\n",
    "    \n",
    "if not os.path.exists(PRE_TRAINED_MODELS_PATH):\n",
    "    os.mkdir(PRE_TRAINED_MODELS_PATH)\n",
    "    \n",
    "if not os.path.exists(os.path.join(MODELS_PATH, MODEL_NAME)):\n",
    "    os.mkdir(os.path.join(MODELS_PATH, MODEL_NAME))\n",
    "    \n",
    "if not os.path.isdir(os.path.join(MODELS_PATH, MODEL_NAME, COMBINATION_NAME)):\n",
    "    os.mkdir(os.path.join(MODELS_PATH, MODEL_NAME, COMBINATION_NAME))"
   ]
  },
  {
   "cell_type": "markdown",
   "id": "0cabd19a-801a-4436-9386-e68f908add64",
   "metadata": {},
   "source": [
    "### Download Tensorflow Object Detection API (only needed the first time)\n",
    "1. Download all files required for the Tensorflow Object Detection API\n",
    "2. Download and move *builder.py* that is required for the API to work (fix for Schlaubox)\n",
    "3. Compile Protos\n",
    "4. Test whether TFOD API was successfully installed"
   ]
  },
  {
   "cell_type": "code",
   "execution_count": 84,
   "id": "178e0ded-08fa-4d3f-82f8-425f7727aad5",
   "metadata": {},
   "outputs": [
    {
     "name": "stdout",
     "output_type": "stream",
     "text": [
      "Cloning into 'models'...\n",
      "remote: Enumerating objects: 74520, done.\u001b[K\n",
      "remote: Counting objects: 100% (234/234), done.\u001b[K\n",
      "remote: Compressing objects: 100% (162/162), done.\u001b[K\n",
      "remote: Total 74520 (delta 101), reused 194 (delta 72), pack-reused 74286\u001b[K\n",
      "Receiving objects: 100% (74520/74520), 595.26 MiB | 10.01 MiB/s, done.\n",
      "Resolving deltas: 100% (52948/52948), done.\n",
      "Updating files: 100% (3352/3352), done.\n"
     ]
    }
   ],
   "source": [
    "if SETUP_TENSORFLOW:\n",
    "    !rm -rf models\n",
    "    !git clone https://github.com/markusbink/models"
   ]
  },
  {
   "cell_type": "code",
   "execution_count": 95,
   "id": "bc7eaeb3-bc31-45ff-96fa-ffc73bc8fe0b",
   "metadata": {},
   "outputs": [
    {
     "name": "stdout",
     "output_type": "stream",
     "text": [
      "/home/jovyan/top-down-object-detection/models/research\n",
      "\u001b[33mWARNING: Ignoring invalid distribution -bject-detection (/home/jovyan/.local/lib/python3.9/site-packages)\u001b[0m\u001b[33m\n",
      "\u001b[0m\u001b[33mWARNING: Ignoring invalid distribution -bject-detection (/home/jovyan/.local/lib/python3.9/site-packages)\u001b[0m\u001b[33m\n",
      "\u001b[0m\u001b[33mWARNING: Ignoring invalid distribution -bject-detection (/home/jovyan/.local/lib/python3.9/site-packages)\u001b[0m\u001b[33m\n",
      "\u001b[0m\u001b[33m    WARNING: Ignoring invalid distribution -bject-detection (/home/jovyan/.local/lib/python3.9/site-packages)\u001b[0m\u001b[33m\n",
      "\u001b[0m\u001b[33mWARNING: Ignoring invalid distribution -bject-detection (/home/jovyan/.local/lib/python3.9/site-packages)\u001b[0m\u001b[33m\n",
      "\u001b[0m\u001b[33mWARNING: Ignoring invalid distribution -bject-detection (/home/jovyan/.local/lib/python3.9/site-packages)\u001b[0m\u001b[33m\n",
      "\u001b[0m\u001b[33mWARNING: Ignoring invalid distribution -bject-detection (/home/jovyan/.local/lib/python3.9/site-packages)\u001b[0m\u001b[33m\n",
      "\u001b[0m\u001b[33mWARNING: Ignoring invalid distribution -bject-detection (/home/jovyan/.local/lib/python3.9/site-packages)\u001b[0m\u001b[33m\n",
      "\u001b[0m/home/jovyan/top-down-object-detection\n"
     ]
    }
   ],
   "source": [
    "%cd models/research/\n",
    "!pip install -q --user .\n",
    "%cd ../.."
   ]
  },
  {
   "cell_type": "code",
   "execution_count": 96,
   "id": "228c6e66-224e-499c-9334-a10faafb4834",
   "metadata": {},
   "outputs": [
    {
     "name": "stdout",
     "output_type": "stream",
     "text": [
      "--2023-02-17 16:51:50--  https://raw.githubusercontent.com/protocolbuffers/protobuf/main/python/google/protobuf/internal/builder.py\n",
      "Resolving raw.githubusercontent.com (raw.githubusercontent.com)... 185.199.108.133, 185.199.111.133, 185.199.110.133, ...\n",
      "Connecting to raw.githubusercontent.com (raw.githubusercontent.com)|185.199.108.133|:443... connected.\n",
      "HTTP request sent, awaiting response... 200 OK\n",
      "Length: 5188 (5.1K) [text/plain]\n",
      "Saving to: ‘builder.py’\n",
      "\n",
      "builder.py          100%[===================>]   5.07K  --.-KB/s    in 0s      \n",
      "\n",
      "2023-02-17 16:51:50 (71.6 MB/s) - ‘builder.py’ saved [5188/5188]\n",
      "\n"
     ]
    }
   ],
   "source": [
    "if SETUP_TENSORFLOW:\n",
    "    !wget https://raw.githubusercontent.com/protocolbuffers/protobuf/main/python/google/protobuf/internal/builder.py\n",
    "    !mv builder.py /home/jovyan/.local/lib/python3.9/site-packages/google/protobuf/internal/"
   ]
  },
  {
   "cell_type": "code",
   "execution_count": 97,
   "id": "ab965e31-8883-45d0-91c5-6fd5942a32fc",
   "metadata": {},
   "outputs": [
    {
     "name": "stdout",
     "output_type": "stream",
     "text": [
      "/home/jovyan/top-down-object-detection/models/research\n",
      "/home/jovyan/top-down-object-detection\n",
      "/home/jovyan/.local/lib/python3.9/site-packages/tensorflow_io/python/ops/__init__.py:98: UserWarning: unable to load libtensorflow_io_plugins.so: unable to open file: libtensorflow_io_plugins.so, from paths: ['/home/jovyan/.local/lib/python3.9/site-packages/tensorflow_io/python/ops/libtensorflow_io_plugins.so']\n",
      "caused by: ['/home/jovyan/.local/lib/python3.9/site-packages/tensorflow_io/python/ops/libtensorflow_io_plugins.so: undefined symbol: _ZN3tsl5mutexC1Ev']\n",
      "  warnings.warn(f\"unable to load libtensorflow_io_plugins.so: {e}\")\n",
      "/home/jovyan/.local/lib/python3.9/site-packages/tensorflow_io/python/ops/__init__.py:104: UserWarning: file system plugins are not loaded: unable to open file: libtensorflow_io.so, from paths: ['/home/jovyan/.local/lib/python3.9/site-packages/tensorflow_io/python/ops/libtensorflow_io.so']\n",
      "caused by: ['/home/jovyan/.local/lib/python3.9/site-packages/tensorflow_io/python/ops/libtensorflow_io.so: undefined symbol: _ZNK10tensorflow4data11DatasetBase3GetEPNS_15OpKernelContextElPSt6vectorINS_6TensorESaIS5_EE']\n",
      "  warnings.warn(f\"file system plugins are not loaded: {e}\")\n",
      "Running tests under Python 3.9.13: /opt/conda/bin/python3\n",
      "[ RUN      ] ModelBuilderTF2Test.test_create_center_net_deepmac\n",
      "2023-02-17 16:51:56.775791: I tensorflow/core/platform/cpu_feature_guard.cc:142] This TensorFlow binary is optimized with oneAPI Deep Neural Network Library (oneDNN) to use the following CPU instructions in performance-critical operations:  AVX2 FMA\n",
      "To enable them in other operations, rebuild TensorFlow with the appropriate compiler flags.\n",
      "2023-02-17 16:51:57.244758: W tensorflow/core/common_runtime/gpu/gpu_bfc_allocator.cc:39] Overriding allow_growth setting because the TF_FORCE_GPU_ALLOW_GROWTH environment variable is set. Original config value was 0.\n",
      "2023-02-17 16:51:57.244805: I tensorflow/core/common_runtime/gpu/gpu_device.cc:1510] Created device /job:localhost/replica:0/task:0/device:GPU:0 with 10421 MB memory:  -> device: 0, name: NVIDIA GeForce GTX 1080 Ti, pci bus id: 0000:09:00.0, compute capability: 6.1\n",
      "/home/jovyan/.local/lib/python3.9/site-packages/object_detection/builders/model_builder.py:1112: DeprecationWarning: The 'warn' function is deprecated, use 'warning' instead\n",
      "  logging.warn(('Building experimental DeepMAC meta-arch.'\n",
      "W0217 16:51:57.421757 139647639414592 model_builder.py:1112] Building experimental DeepMAC meta-arch. Some features may be omitted.\n",
      "INFO:tensorflow:time(__main__.ModelBuilderTF2Test.test_create_center_net_deepmac): 0.94s\n",
      "I0217 16:51:57.704286 139647639414592 test_util.py:2188] time(__main__.ModelBuilderTF2Test.test_create_center_net_deepmac): 0.94s\n",
      "[       OK ] ModelBuilderTF2Test.test_create_center_net_deepmac\n",
      "[ RUN      ] ModelBuilderTF2Test.test_create_center_net_model0 (customize_head_params=True)\n",
      "INFO:tensorflow:time(__main__.ModelBuilderTF2Test.test_create_center_net_model0 (customize_head_params=True)): 0.41s\n",
      "I0217 16:51:58.112691 139647639414592 test_util.py:2188] time(__main__.ModelBuilderTF2Test.test_create_center_net_model0 (customize_head_params=True)): 0.41s\n",
      "[       OK ] ModelBuilderTF2Test.test_create_center_net_model0 (customize_head_params=True)\n",
      "[ RUN      ] ModelBuilderTF2Test.test_create_center_net_model1 (customize_head_params=False)\n",
      "INFO:tensorflow:time(__main__.ModelBuilderTF2Test.test_create_center_net_model1 (customize_head_params=False)): 0.2s\n",
      "I0217 16:51:58.310632 139647639414592 test_util.py:2188] time(__main__.ModelBuilderTF2Test.test_create_center_net_model1 (customize_head_params=False)): 0.2s\n",
      "[       OK ] ModelBuilderTF2Test.test_create_center_net_model1 (customize_head_params=False)\n",
      "[ RUN      ] ModelBuilderTF2Test.test_create_center_net_model_from_keypoints\n",
      "INFO:tensorflow:time(__main__.ModelBuilderTF2Test.test_create_center_net_model_from_keypoints): 0.18s\n",
      "I0217 16:51:58.490951 139647639414592 test_util.py:2188] time(__main__.ModelBuilderTF2Test.test_create_center_net_model_from_keypoints): 0.18s\n",
      "[       OK ] ModelBuilderTF2Test.test_create_center_net_model_from_keypoints\n",
      "[ RUN      ] ModelBuilderTF2Test.test_create_center_net_model_mobilenet\n",
      "INFO:tensorflow:time(__main__.ModelBuilderTF2Test.test_create_center_net_model_mobilenet): 1.29s\n",
      "I0217 16:51:59.784762 139647639414592 test_util.py:2188] time(__main__.ModelBuilderTF2Test.test_create_center_net_model_mobilenet): 1.29s\n",
      "[       OK ] ModelBuilderTF2Test.test_create_center_net_model_mobilenet\n",
      "[ RUN      ] ModelBuilderTF2Test.test_create_experimental_model\n",
      "INFO:tensorflow:time(__main__.ModelBuilderTF2Test.test_create_experimental_model): 0.0s\n",
      "I0217 16:51:59.785591 139647639414592 test_util.py:2188] time(__main__.ModelBuilderTF2Test.test_create_experimental_model): 0.0s\n",
      "[       OK ] ModelBuilderTF2Test.test_create_experimental_model\n",
      "[ RUN      ] ModelBuilderTF2Test.test_create_faster_rcnn_from_config_with_crop_feature0 (True)\n",
      "INFO:tensorflow:time(__main__.ModelBuilderTF2Test.test_create_faster_rcnn_from_config_with_crop_feature0 (True)): 0.02s\n",
      "I0217 16:51:59.802144 139647639414592 test_util.py:2188] time(__main__.ModelBuilderTF2Test.test_create_faster_rcnn_from_config_with_crop_feature0 (True)): 0.02s\n",
      "[       OK ] ModelBuilderTF2Test.test_create_faster_rcnn_from_config_with_crop_feature0 (True)\n",
      "[ RUN      ] ModelBuilderTF2Test.test_create_faster_rcnn_from_config_with_crop_feature1 (False)\n",
      "INFO:tensorflow:time(__main__.ModelBuilderTF2Test.test_create_faster_rcnn_from_config_with_crop_feature1 (False)): 0.01s\n",
      "I0217 16:51:59.813012 139647639414592 test_util.py:2188] time(__main__.ModelBuilderTF2Test.test_create_faster_rcnn_from_config_with_crop_feature1 (False)): 0.01s\n",
      "[       OK ] ModelBuilderTF2Test.test_create_faster_rcnn_from_config_with_crop_feature1 (False)\n",
      "[ RUN      ] ModelBuilderTF2Test.test_create_faster_rcnn_model_from_config_with_example_miner\n",
      "INFO:tensorflow:time(__main__.ModelBuilderTF2Test.test_create_faster_rcnn_model_from_config_with_example_miner): 0.01s\n",
      "I0217 16:51:59.824621 139647639414592 test_util.py:2188] time(__main__.ModelBuilderTF2Test.test_create_faster_rcnn_model_from_config_with_example_miner): 0.01s\n",
      "[       OK ] ModelBuilderTF2Test.test_create_faster_rcnn_model_from_config_with_example_miner\n",
      "[ RUN      ] ModelBuilderTF2Test.test_create_faster_rcnn_models_from_config_faster_rcnn_with_matmul\n",
      "INFO:tensorflow:time(__main__.ModelBuilderTF2Test.test_create_faster_rcnn_models_from_config_faster_rcnn_with_matmul): 0.07s\n",
      "I0217 16:51:59.898774 139647639414592 test_util.py:2188] time(__main__.ModelBuilderTF2Test.test_create_faster_rcnn_models_from_config_faster_rcnn_with_matmul): 0.07s\n",
      "[       OK ] ModelBuilderTF2Test.test_create_faster_rcnn_models_from_config_faster_rcnn_with_matmul\n",
      "[ RUN      ] ModelBuilderTF2Test.test_create_faster_rcnn_models_from_config_faster_rcnn_without_matmul\n",
      "INFO:tensorflow:time(__main__.ModelBuilderTF2Test.test_create_faster_rcnn_models_from_config_faster_rcnn_without_matmul): 0.07s\n",
      "I0217 16:51:59.969449 139647639414592 test_util.py:2188] time(__main__.ModelBuilderTF2Test.test_create_faster_rcnn_models_from_config_faster_rcnn_without_matmul): 0.07s\n",
      "[       OK ] ModelBuilderTF2Test.test_create_faster_rcnn_models_from_config_faster_rcnn_without_matmul\n",
      "[ RUN      ] ModelBuilderTF2Test.test_create_faster_rcnn_models_from_config_mask_rcnn_with_matmul\n",
      "INFO:tensorflow:time(__main__.ModelBuilderTF2Test.test_create_faster_rcnn_models_from_config_mask_rcnn_with_matmul): 0.07s\n",
      "I0217 16:52:00.043714 139647639414592 test_util.py:2188] time(__main__.ModelBuilderTF2Test.test_create_faster_rcnn_models_from_config_mask_rcnn_with_matmul): 0.07s\n",
      "[       OK ] ModelBuilderTF2Test.test_create_faster_rcnn_models_from_config_mask_rcnn_with_matmul\n",
      "[ RUN      ] ModelBuilderTF2Test.test_create_faster_rcnn_models_from_config_mask_rcnn_without_matmul\n",
      "INFO:tensorflow:time(__main__.ModelBuilderTF2Test.test_create_faster_rcnn_models_from_config_mask_rcnn_without_matmul): 0.07s\n",
      "I0217 16:52:00.118090 139647639414592 test_util.py:2188] time(__main__.ModelBuilderTF2Test.test_create_faster_rcnn_models_from_config_mask_rcnn_without_matmul): 0.07s\n",
      "[       OK ] ModelBuilderTF2Test.test_create_faster_rcnn_models_from_config_mask_rcnn_without_matmul\n",
      "[ RUN      ] ModelBuilderTF2Test.test_create_rfcn_model_from_config\n",
      "INFO:tensorflow:time(__main__.ModelBuilderTF2Test.test_create_rfcn_model_from_config): 0.07s\n",
      "I0217 16:52:00.188948 139647639414592 test_util.py:2188] time(__main__.ModelBuilderTF2Test.test_create_rfcn_model_from_config): 0.07s\n",
      "[       OK ] ModelBuilderTF2Test.test_create_rfcn_model_from_config\n",
      "[ RUN      ] ModelBuilderTF2Test.test_create_ssd_fpn_model_from_config\n",
      "INFO:tensorflow:time(__main__.ModelBuilderTF2Test.test_create_ssd_fpn_model_from_config): 0.02s\n",
      "I0217 16:52:00.208977 139647639414592 test_util.py:2188] time(__main__.ModelBuilderTF2Test.test_create_ssd_fpn_model_from_config): 0.02s\n",
      "[       OK ] ModelBuilderTF2Test.test_create_ssd_fpn_model_from_config\n",
      "[ RUN      ] ModelBuilderTF2Test.test_create_ssd_models_from_config\n",
      "I0217 16:52:00.337548 139647639414592 ssd_efficientnet_bifpn_feature_extractor.py:150] EfficientDet EfficientNet backbone version: efficientnet-b0\n",
      "I0217 16:52:00.337630 139647639414592 ssd_efficientnet_bifpn_feature_extractor.py:152] EfficientDet BiFPN num filters: 64\n",
      "I0217 16:52:00.337682 139647639414592 ssd_efficientnet_bifpn_feature_extractor.py:153] EfficientDet BiFPN num iterations: 3\n",
      "I0217 16:52:00.339342 139647639414592 efficientnet_model.py:147] round_filter input=32 output=32\n",
      "I0217 16:52:00.351256 139647639414592 efficientnet_model.py:147] round_filter input=32 output=32\n",
      "I0217 16:52:00.351327 139647639414592 efficientnet_model.py:147] round_filter input=16 output=16\n",
      "I0217 16:52:00.392329 139647639414592 efficientnet_model.py:147] round_filter input=16 output=16\n",
      "I0217 16:52:00.392401 139647639414592 efficientnet_model.py:147] round_filter input=24 output=24\n",
      "I0217 16:52:00.624687 139647639414592 efficientnet_model.py:147] round_filter input=24 output=24\n",
      "I0217 16:52:00.624809 139647639414592 efficientnet_model.py:147] round_filter input=40 output=40\n",
      "I0217 16:52:00.733188 139647639414592 efficientnet_model.py:147] round_filter input=40 output=40\n",
      "I0217 16:52:00.733295 139647639414592 efficientnet_model.py:147] round_filter input=80 output=80\n",
      "I0217 16:52:00.894046 139647639414592 efficientnet_model.py:147] round_filter input=80 output=80\n",
      "I0217 16:52:00.894134 139647639414592 efficientnet_model.py:147] round_filter input=112 output=112\n",
      "I0217 16:52:01.054903 139647639414592 efficientnet_model.py:147] round_filter input=112 output=112\n",
      "I0217 16:52:01.054997 139647639414592 efficientnet_model.py:147] round_filter input=192 output=192\n",
      "I0217 16:52:01.270299 139647639414592 efficientnet_model.py:147] round_filter input=192 output=192\n",
      "I0217 16:52:01.270414 139647639414592 efficientnet_model.py:147] round_filter input=320 output=320\n",
      "I0217 16:52:01.322483 139647639414592 efficientnet_model.py:147] round_filter input=1280 output=1280\n",
      "I0217 16:52:01.342706 139647639414592 efficientnet_model.py:457] Building model efficientnet with params ModelConfig(width_coefficient=1.0, depth_coefficient=1.0, resolution=224, dropout_rate=0.2, blocks=(BlockConfig(input_filters=32, output_filters=16, kernel_size=3, num_repeat=1, expand_ratio=1, strides=(1, 1), se_ratio=0.25, id_skip=True, fused_conv=False, conv_type='depthwise'), BlockConfig(input_filters=16, output_filters=24, kernel_size=3, num_repeat=2, expand_ratio=6, strides=(2, 2), se_ratio=0.25, id_skip=True, fused_conv=False, conv_type='depthwise'), BlockConfig(input_filters=24, output_filters=40, kernel_size=5, num_repeat=2, expand_ratio=6, strides=(2, 2), se_ratio=0.25, id_skip=True, fused_conv=False, conv_type='depthwise'), BlockConfig(input_filters=40, output_filters=80, kernel_size=3, num_repeat=3, expand_ratio=6, strides=(2, 2), se_ratio=0.25, id_skip=True, fused_conv=False, conv_type='depthwise'), BlockConfig(input_filters=80, output_filters=112, kernel_size=5, num_repeat=3, expand_ratio=6, strides=(1, 1), se_ratio=0.25, id_skip=True, fused_conv=False, conv_type='depthwise'), BlockConfig(input_filters=112, output_filters=192, kernel_size=5, num_repeat=4, expand_ratio=6, strides=(2, 2), se_ratio=0.25, id_skip=True, fused_conv=False, conv_type='depthwise'), BlockConfig(input_filters=192, output_filters=320, kernel_size=3, num_repeat=1, expand_ratio=6, strides=(1, 1), se_ratio=0.25, id_skip=True, fused_conv=False, conv_type='depthwise')), stem_base_filters=32, top_base_filters=1280, activation='simple_swish', batch_norm='default', bn_momentum=0.99, bn_epsilon=0.001, weight_decay=5e-06, drop_connect_rate=0.2, depth_divisor=8, min_depth=None, use_se=True, input_channels=3, num_classes=1000, model_name='efficientnet', rescale_input=False, data_format='channels_last', dtype='float32')\n",
      "I0217 16:52:01.382217 139647639414592 ssd_efficientnet_bifpn_feature_extractor.py:150] EfficientDet EfficientNet backbone version: efficientnet-b1\n",
      "I0217 16:52:01.382314 139647639414592 ssd_efficientnet_bifpn_feature_extractor.py:152] EfficientDet BiFPN num filters: 88\n",
      "I0217 16:52:01.382366 139647639414592 ssd_efficientnet_bifpn_feature_extractor.py:153] EfficientDet BiFPN num iterations: 4\n",
      "I0217 16:52:01.383621 139647639414592 efficientnet_model.py:147] round_filter input=32 output=32\n",
      "I0217 16:52:01.394696 139647639414592 efficientnet_model.py:147] round_filter input=32 output=32\n",
      "I0217 16:52:01.394764 139647639414592 efficientnet_model.py:147] round_filter input=16 output=16\n",
      "I0217 16:52:01.480397 139647639414592 efficientnet_model.py:147] round_filter input=16 output=16\n",
      "I0217 16:52:01.480486 139647639414592 efficientnet_model.py:147] round_filter input=24 output=24\n",
      "I0217 16:52:01.640448 139647639414592 efficientnet_model.py:147] round_filter input=24 output=24\n",
      "I0217 16:52:01.640544 139647639414592 efficientnet_model.py:147] round_filter input=40 output=40\n",
      "I0217 16:52:01.800054 139647639414592 efficientnet_model.py:147] round_filter input=40 output=40\n",
      "I0217 16:52:01.800160 139647639414592 efficientnet_model.py:147] round_filter input=80 output=80\n",
      "I0217 16:52:02.013740 139647639414592 efficientnet_model.py:147] round_filter input=80 output=80\n",
      "I0217 16:52:02.013837 139647639414592 efficientnet_model.py:147] round_filter input=112 output=112\n",
      "I0217 16:52:02.226053 139647639414592 efficientnet_model.py:147] round_filter input=112 output=112\n",
      "I0217 16:52:02.226150 139647639414592 efficientnet_model.py:147] round_filter input=192 output=192\n",
      "I0217 16:52:02.492509 139647639414592 efficientnet_model.py:147] round_filter input=192 output=192\n",
      "I0217 16:52:02.492605 139647639414592 efficientnet_model.py:147] round_filter input=320 output=320\n",
      "I0217 16:52:02.598053 139647639414592 efficientnet_model.py:147] round_filter input=1280 output=1280\n",
      "I0217 16:52:02.618673 139647639414592 efficientnet_model.py:457] Building model efficientnet with params ModelConfig(width_coefficient=1.0, depth_coefficient=1.1, resolution=240, dropout_rate=0.2, blocks=(BlockConfig(input_filters=32, output_filters=16, kernel_size=3, num_repeat=1, expand_ratio=1, strides=(1, 1), se_ratio=0.25, id_skip=True, fused_conv=False, conv_type='depthwise'), BlockConfig(input_filters=16, output_filters=24, kernel_size=3, num_repeat=2, expand_ratio=6, strides=(2, 2), se_ratio=0.25, id_skip=True, fused_conv=False, conv_type='depthwise'), BlockConfig(input_filters=24, output_filters=40, kernel_size=5, num_repeat=2, expand_ratio=6, strides=(2, 2), se_ratio=0.25, id_skip=True, fused_conv=False, conv_type='depthwise'), BlockConfig(input_filters=40, output_filters=80, kernel_size=3, num_repeat=3, expand_ratio=6, strides=(2, 2), se_ratio=0.25, id_skip=True, fused_conv=False, conv_type='depthwise'), BlockConfig(input_filters=80, output_filters=112, kernel_size=5, num_repeat=3, expand_ratio=6, strides=(1, 1), se_ratio=0.25, id_skip=True, fused_conv=False, conv_type='depthwise'), BlockConfig(input_filters=112, output_filters=192, kernel_size=5, num_repeat=4, expand_ratio=6, strides=(2, 2), se_ratio=0.25, id_skip=True, fused_conv=False, conv_type='depthwise'), BlockConfig(input_filters=192, output_filters=320, kernel_size=3, num_repeat=1, expand_ratio=6, strides=(1, 1), se_ratio=0.25, id_skip=True, fused_conv=False, conv_type='depthwise')), stem_base_filters=32, top_base_filters=1280, activation='simple_swish', batch_norm='default', bn_momentum=0.99, bn_epsilon=0.001, weight_decay=5e-06, drop_connect_rate=0.2, depth_divisor=8, min_depth=None, use_se=True, input_channels=3, num_classes=1000, model_name='efficientnet', rescale_input=False, data_format='channels_last', dtype='float32')\n",
      "I0217 16:52:02.664278 139647639414592 ssd_efficientnet_bifpn_feature_extractor.py:150] EfficientDet EfficientNet backbone version: efficientnet-b2\n",
      "I0217 16:52:02.664372 139647639414592 ssd_efficientnet_bifpn_feature_extractor.py:152] EfficientDet BiFPN num filters: 112\n",
      "I0217 16:52:02.664425 139647639414592 ssd_efficientnet_bifpn_feature_extractor.py:153] EfficientDet BiFPN num iterations: 5\n",
      "I0217 16:52:02.665662 139647639414592 efficientnet_model.py:147] round_filter input=32 output=32\n",
      "I0217 16:52:02.676657 139647639414592 efficientnet_model.py:147] round_filter input=32 output=32\n",
      "I0217 16:52:02.676726 139647639414592 efficientnet_model.py:147] round_filter input=16 output=16\n",
      "I0217 16:52:02.761868 139647639414592 efficientnet_model.py:147] round_filter input=16 output=16\n",
      "I0217 16:52:02.761951 139647639414592 efficientnet_model.py:147] round_filter input=24 output=24\n",
      "I0217 16:52:02.921582 139647639414592 efficientnet_model.py:147] round_filter input=24 output=24\n",
      "I0217 16:52:02.921688 139647639414592 efficientnet_model.py:147] round_filter input=40 output=48\n",
      "I0217 16:52:03.080821 139647639414592 efficientnet_model.py:147] round_filter input=40 output=48\n",
      "I0217 16:52:03.080915 139647639414592 efficientnet_model.py:147] round_filter input=80 output=88\n",
      "I0217 16:52:03.431411 139647639414592 efficientnet_model.py:147] round_filter input=80 output=88\n",
      "I0217 16:52:03.431528 139647639414592 efficientnet_model.py:147] round_filter input=112 output=120\n",
      "I0217 16:52:03.647227 139647639414592 efficientnet_model.py:147] round_filter input=112 output=120\n",
      "I0217 16:52:03.647325 139647639414592 efficientnet_model.py:147] round_filter input=192 output=208\n",
      "I0217 16:52:03.918519 139647639414592 efficientnet_model.py:147] round_filter input=192 output=208\n",
      "I0217 16:52:03.918627 139647639414592 efficientnet_model.py:147] round_filter input=320 output=352\n",
      "I0217 16:52:04.025961 139647639414592 efficientnet_model.py:147] round_filter input=1280 output=1408\n",
      "I0217 16:52:04.045973 139647639414592 efficientnet_model.py:457] Building model efficientnet with params ModelConfig(width_coefficient=1.1, depth_coefficient=1.2, resolution=260, dropout_rate=0.3, blocks=(BlockConfig(input_filters=32, output_filters=16, kernel_size=3, num_repeat=1, expand_ratio=1, strides=(1, 1), se_ratio=0.25, id_skip=True, fused_conv=False, conv_type='depthwise'), BlockConfig(input_filters=16, output_filters=24, kernel_size=3, num_repeat=2, expand_ratio=6, strides=(2, 2), se_ratio=0.25, id_skip=True, fused_conv=False, conv_type='depthwise'), BlockConfig(input_filters=24, output_filters=40, kernel_size=5, num_repeat=2, expand_ratio=6, strides=(2, 2), se_ratio=0.25, id_skip=True, fused_conv=False, conv_type='depthwise'), BlockConfig(input_filters=40, output_filters=80, kernel_size=3, num_repeat=3, expand_ratio=6, strides=(2, 2), se_ratio=0.25, id_skip=True, fused_conv=False, conv_type='depthwise'), BlockConfig(input_filters=80, output_filters=112, kernel_size=5, num_repeat=3, expand_ratio=6, strides=(1, 1), se_ratio=0.25, id_skip=True, fused_conv=False, conv_type='depthwise'), BlockConfig(input_filters=112, output_filters=192, kernel_size=5, num_repeat=4, expand_ratio=6, strides=(2, 2), se_ratio=0.25, id_skip=True, fused_conv=False, conv_type='depthwise'), BlockConfig(input_filters=192, output_filters=320, kernel_size=3, num_repeat=1, expand_ratio=6, strides=(1, 1), se_ratio=0.25, id_skip=True, fused_conv=False, conv_type='depthwise')), stem_base_filters=32, top_base_filters=1280, activation='simple_swish', batch_norm='default', bn_momentum=0.99, bn_epsilon=0.001, weight_decay=5e-06, drop_connect_rate=0.2, depth_divisor=8, min_depth=None, use_se=True, input_channels=3, num_classes=1000, model_name='efficientnet', rescale_input=False, data_format='channels_last', dtype='float32')\n",
      "I0217 16:52:04.093899 139647639414592 ssd_efficientnet_bifpn_feature_extractor.py:150] EfficientDet EfficientNet backbone version: efficientnet-b3\n",
      "I0217 16:52:04.093997 139647639414592 ssd_efficientnet_bifpn_feature_extractor.py:152] EfficientDet BiFPN num filters: 160\n",
      "I0217 16:52:04.094049 139647639414592 ssd_efficientnet_bifpn_feature_extractor.py:153] EfficientDet BiFPN num iterations: 6\n",
      "I0217 16:52:04.095306 139647639414592 efficientnet_model.py:147] round_filter input=32 output=40\n",
      "I0217 16:52:04.106444 139647639414592 efficientnet_model.py:147] round_filter input=32 output=40\n",
      "I0217 16:52:04.106514 139647639414592 efficientnet_model.py:147] round_filter input=16 output=24\n",
      "I0217 16:52:04.192696 139647639414592 efficientnet_model.py:147] round_filter input=16 output=24\n",
      "I0217 16:52:04.192789 139647639414592 efficientnet_model.py:147] round_filter input=24 output=32\n",
      "I0217 16:52:04.353060 139647639414592 efficientnet_model.py:147] round_filter input=24 output=32\n",
      "I0217 16:52:04.353149 139647639414592 efficientnet_model.py:147] round_filter input=40 output=48\n",
      "I0217 16:52:04.512018 139647639414592 efficientnet_model.py:147] round_filter input=40 output=48\n",
      "I0217 16:52:04.512118 139647639414592 efficientnet_model.py:147] round_filter input=80 output=96\n",
      "I0217 16:52:04.778593 139647639414592 efficientnet_model.py:147] round_filter input=80 output=96\n",
      "I0217 16:52:04.778695 139647639414592 efficientnet_model.py:147] round_filter input=112 output=136\n",
      "I0217 16:52:05.045797 139647639414592 efficientnet_model.py:147] round_filter input=112 output=136\n",
      "I0217 16:52:05.045901 139647639414592 efficientnet_model.py:147] round_filter input=192 output=232\n",
      "I0217 16:52:05.367240 139647639414592 efficientnet_model.py:147] round_filter input=192 output=232\n",
      "I0217 16:52:05.367353 139647639414592 efficientnet_model.py:147] round_filter input=320 output=384\n",
      "I0217 16:52:05.474264 139647639414592 efficientnet_model.py:147] round_filter input=1280 output=1536\n",
      "I0217 16:52:05.495202 139647639414592 efficientnet_model.py:457] Building model efficientnet with params ModelConfig(width_coefficient=1.2, depth_coefficient=1.4, resolution=300, dropout_rate=0.3, blocks=(BlockConfig(input_filters=32, output_filters=16, kernel_size=3, num_repeat=1, expand_ratio=1, strides=(1, 1), se_ratio=0.25, id_skip=True, fused_conv=False, conv_type='depthwise'), BlockConfig(input_filters=16, output_filters=24, kernel_size=3, num_repeat=2, expand_ratio=6, strides=(2, 2), se_ratio=0.25, id_skip=True, fused_conv=False, conv_type='depthwise'), BlockConfig(input_filters=24, output_filters=40, kernel_size=5, num_repeat=2, expand_ratio=6, strides=(2, 2), se_ratio=0.25, id_skip=True, fused_conv=False, conv_type='depthwise'), BlockConfig(input_filters=40, output_filters=80, kernel_size=3, num_repeat=3, expand_ratio=6, strides=(2, 2), se_ratio=0.25, id_skip=True, fused_conv=False, conv_type='depthwise'), BlockConfig(input_filters=80, output_filters=112, kernel_size=5, num_repeat=3, expand_ratio=6, strides=(1, 1), se_ratio=0.25, id_skip=True, fused_conv=False, conv_type='depthwise'), BlockConfig(input_filters=112, output_filters=192, kernel_size=5, num_repeat=4, expand_ratio=6, strides=(2, 2), se_ratio=0.25, id_skip=True, fused_conv=False, conv_type='depthwise'), BlockConfig(input_filters=192, output_filters=320, kernel_size=3, num_repeat=1, expand_ratio=6, strides=(1, 1), se_ratio=0.25, id_skip=True, fused_conv=False, conv_type='depthwise')), stem_base_filters=32, top_base_filters=1280, activation='simple_swish', batch_norm='default', bn_momentum=0.99, bn_epsilon=0.001, weight_decay=5e-06, drop_connect_rate=0.2, depth_divisor=8, min_depth=None, use_se=True, input_channels=3, num_classes=1000, model_name='efficientnet', rescale_input=False, data_format='channels_last', dtype='float32')\n",
      "I0217 16:52:05.543123 139647639414592 ssd_efficientnet_bifpn_feature_extractor.py:150] EfficientDet EfficientNet backbone version: efficientnet-b4\n",
      "I0217 16:52:05.543215 139647639414592 ssd_efficientnet_bifpn_feature_extractor.py:152] EfficientDet BiFPN num filters: 224\n",
      "I0217 16:52:05.543267 139647639414592 ssd_efficientnet_bifpn_feature_extractor.py:153] EfficientDet BiFPN num iterations: 7\n",
      "I0217 16:52:05.544491 139647639414592 efficientnet_model.py:147] round_filter input=32 output=48\n",
      "I0217 16:52:05.555562 139647639414592 efficientnet_model.py:147] round_filter input=32 output=48\n",
      "I0217 16:52:05.555630 139647639414592 efficientnet_model.py:147] round_filter input=16 output=24\n",
      "I0217 16:52:05.640771 139647639414592 efficientnet_model.py:147] round_filter input=16 output=24\n",
      "I0217 16:52:05.640854 139647639414592 efficientnet_model.py:147] round_filter input=24 output=32\n",
      "I0217 16:52:05.856304 139647639414592 efficientnet_model.py:147] round_filter input=24 output=32\n",
      "I0217 16:52:05.856421 139647639414592 efficientnet_model.py:147] round_filter input=40 output=56\n",
      "I0217 16:52:06.070080 139647639414592 efficientnet_model.py:147] round_filter input=40 output=56\n",
      "I0217 16:52:06.070192 139647639414592 efficientnet_model.py:147] round_filter input=80 output=112\n",
      "I0217 16:52:06.575654 139647639414592 efficientnet_model.py:147] round_filter input=80 output=112\n",
      "I0217 16:52:06.575769 139647639414592 efficientnet_model.py:147] round_filter input=112 output=160\n",
      "I0217 16:52:06.904601 139647639414592 efficientnet_model.py:147] round_filter input=112 output=160\n",
      "I0217 16:52:06.904718 139647639414592 efficientnet_model.py:147] round_filter input=192 output=272\n",
      "I0217 16:52:07.340711 139647639414592 efficientnet_model.py:147] round_filter input=192 output=272\n",
      "I0217 16:52:07.340831 139647639414592 efficientnet_model.py:147] round_filter input=320 output=448\n",
      "I0217 16:52:07.449397 139647639414592 efficientnet_model.py:147] round_filter input=1280 output=1792\n",
      "I0217 16:52:07.469553 139647639414592 efficientnet_model.py:457] Building model efficientnet with params ModelConfig(width_coefficient=1.4, depth_coefficient=1.8, resolution=380, dropout_rate=0.4, blocks=(BlockConfig(input_filters=32, output_filters=16, kernel_size=3, num_repeat=1, expand_ratio=1, strides=(1, 1), se_ratio=0.25, id_skip=True, fused_conv=False, conv_type='depthwise'), BlockConfig(input_filters=16, output_filters=24, kernel_size=3, num_repeat=2, expand_ratio=6, strides=(2, 2), se_ratio=0.25, id_skip=True, fused_conv=False, conv_type='depthwise'), BlockConfig(input_filters=24, output_filters=40, kernel_size=5, num_repeat=2, expand_ratio=6, strides=(2, 2), se_ratio=0.25, id_skip=True, fused_conv=False, conv_type='depthwise'), BlockConfig(input_filters=40, output_filters=80, kernel_size=3, num_repeat=3, expand_ratio=6, strides=(2, 2), se_ratio=0.25, id_skip=True, fused_conv=False, conv_type='depthwise'), BlockConfig(input_filters=80, output_filters=112, kernel_size=5, num_repeat=3, expand_ratio=6, strides=(1, 1), se_ratio=0.25, id_skip=True, fused_conv=False, conv_type='depthwise'), BlockConfig(input_filters=112, output_filters=192, kernel_size=5, num_repeat=4, expand_ratio=6, strides=(2, 2), se_ratio=0.25, id_skip=True, fused_conv=False, conv_type='depthwise'), BlockConfig(input_filters=192, output_filters=320, kernel_size=3, num_repeat=1, expand_ratio=6, strides=(1, 1), se_ratio=0.25, id_skip=True, fused_conv=False, conv_type='depthwise')), stem_base_filters=32, top_base_filters=1280, activation='simple_swish', batch_norm='default', bn_momentum=0.99, bn_epsilon=0.001, weight_decay=5e-06, drop_connect_rate=0.2, depth_divisor=8, min_depth=None, use_se=True, input_channels=3, num_classes=1000, model_name='efficientnet', rescale_input=False, data_format='channels_last', dtype='float32')\n",
      "I0217 16:52:07.527271 139647639414592 ssd_efficientnet_bifpn_feature_extractor.py:150] EfficientDet EfficientNet backbone version: efficientnet-b5\n",
      "I0217 16:52:07.527375 139647639414592 ssd_efficientnet_bifpn_feature_extractor.py:152] EfficientDet BiFPN num filters: 288\n",
      "I0217 16:52:07.527427 139647639414592 ssd_efficientnet_bifpn_feature_extractor.py:153] EfficientDet BiFPN num iterations: 7\n",
      "I0217 16:52:07.528671 139647639414592 efficientnet_model.py:147] round_filter input=32 output=48\n",
      "I0217 16:52:07.539773 139647639414592 efficientnet_model.py:147] round_filter input=32 output=48\n",
      "I0217 16:52:07.539841 139647639414592 efficientnet_model.py:147] round_filter input=16 output=24\n",
      "I0217 16:52:07.671026 139647639414592 efficientnet_model.py:147] round_filter input=16 output=24\n",
      "I0217 16:52:07.671144 139647639414592 efficientnet_model.py:147] round_filter input=24 output=40\n",
      "I0217 16:52:07.949760 139647639414592 efficientnet_model.py:147] round_filter input=24 output=40\n",
      "I0217 16:52:07.949875 139647639414592 efficientnet_model.py:147] round_filter input=40 output=64\n",
      "I0217 16:52:08.220549 139647639414592 efficientnet_model.py:147] round_filter input=40 output=64\n",
      "I0217 16:52:08.220658 139647639414592 efficientnet_model.py:147] round_filter input=80 output=128\n",
      "I0217 16:52:08.600008 139647639414592 efficientnet_model.py:147] round_filter input=80 output=128\n",
      "I0217 16:52:08.600119 139647639414592 efficientnet_model.py:147] round_filter input=112 output=176\n",
      "I0217 16:52:08.980084 139647639414592 efficientnet_model.py:147] round_filter input=112 output=176\n",
      "I0217 16:52:08.980199 139647639414592 efficientnet_model.py:147] round_filter input=192 output=304\n",
      "I0217 16:52:09.463403 139647639414592 efficientnet_model.py:147] round_filter input=192 output=304\n",
      "I0217 16:52:09.463520 139647639414592 efficientnet_model.py:147] round_filter input=320 output=512\n",
      "I0217 16:52:09.626891 139647639414592 efficientnet_model.py:147] round_filter input=1280 output=2048\n",
      "I0217 16:52:09.646627 139647639414592 efficientnet_model.py:457] Building model efficientnet with params ModelConfig(width_coefficient=1.6, depth_coefficient=2.2, resolution=456, dropout_rate=0.4, blocks=(BlockConfig(input_filters=32, output_filters=16, kernel_size=3, num_repeat=1, expand_ratio=1, strides=(1, 1), se_ratio=0.25, id_skip=True, fused_conv=False, conv_type='depthwise'), BlockConfig(input_filters=16, output_filters=24, kernel_size=3, num_repeat=2, expand_ratio=6, strides=(2, 2), se_ratio=0.25, id_skip=True, fused_conv=False, conv_type='depthwise'), BlockConfig(input_filters=24, output_filters=40, kernel_size=5, num_repeat=2, expand_ratio=6, strides=(2, 2), se_ratio=0.25, id_skip=True, fused_conv=False, conv_type='depthwise'), BlockConfig(input_filters=40, output_filters=80, kernel_size=3, num_repeat=3, expand_ratio=6, strides=(2, 2), se_ratio=0.25, id_skip=True, fused_conv=False, conv_type='depthwise'), BlockConfig(input_filters=80, output_filters=112, kernel_size=5, num_repeat=3, expand_ratio=6, strides=(1, 1), se_ratio=0.25, id_skip=True, fused_conv=False, conv_type='depthwise'), BlockConfig(input_filters=112, output_filters=192, kernel_size=5, num_repeat=4, expand_ratio=6, strides=(2, 2), se_ratio=0.25, id_skip=True, fused_conv=False, conv_type='depthwise'), BlockConfig(input_filters=192, output_filters=320, kernel_size=3, num_repeat=1, expand_ratio=6, strides=(1, 1), se_ratio=0.25, id_skip=True, fused_conv=False, conv_type='depthwise')), stem_base_filters=32, top_base_filters=1280, activation='simple_swish', batch_norm='default', bn_momentum=0.99, bn_epsilon=0.001, weight_decay=5e-06, drop_connect_rate=0.2, depth_divisor=8, min_depth=None, use_se=True, input_channels=3, num_classes=1000, model_name='efficientnet', rescale_input=False, data_format='channels_last', dtype='float32')\n",
      "I0217 16:52:09.888451 139647639414592 ssd_efficientnet_bifpn_feature_extractor.py:150] EfficientDet EfficientNet backbone version: efficientnet-b6\n",
      "I0217 16:52:09.888574 139647639414592 ssd_efficientnet_bifpn_feature_extractor.py:152] EfficientDet BiFPN num filters: 384\n",
      "I0217 16:52:09.888626 139647639414592 ssd_efficientnet_bifpn_feature_extractor.py:153] EfficientDet BiFPN num iterations: 8\n",
      "I0217 16:52:09.889894 139647639414592 efficientnet_model.py:147] round_filter input=32 output=56\n",
      "I0217 16:52:09.901279 139647639414592 efficientnet_model.py:147] round_filter input=32 output=56\n",
      "I0217 16:52:09.901348 139647639414592 efficientnet_model.py:147] round_filter input=16 output=32\n",
      "I0217 16:52:10.032268 139647639414592 efficientnet_model.py:147] round_filter input=16 output=32\n",
      "I0217 16:52:10.032375 139647639414592 efficientnet_model.py:147] round_filter input=24 output=40\n",
      "I0217 16:52:10.362321 139647639414592 efficientnet_model.py:147] round_filter input=24 output=40\n",
      "I0217 16:52:10.362438 139647639414592 efficientnet_model.py:147] round_filter input=40 output=72\n",
      "I0217 16:52:10.693860 139647639414592 efficientnet_model.py:147] round_filter input=40 output=72\n",
      "I0217 16:52:10.693978 139647639414592 efficientnet_model.py:147] round_filter input=80 output=144\n",
      "I0217 16:52:11.128883 139647639414592 efficientnet_model.py:147] round_filter input=80 output=144\n",
      "I0217 16:52:11.129000 139647639414592 efficientnet_model.py:147] round_filter input=112 output=200\n",
      "I0217 16:52:11.562330 139647639414592 efficientnet_model.py:147] round_filter input=112 output=200\n",
      "I0217 16:52:11.562444 139647639414592 efficientnet_model.py:147] round_filter input=192 output=344\n",
      "I0217 16:52:12.156021 139647639414592 efficientnet_model.py:147] round_filter input=192 output=344\n",
      "I0217 16:52:12.156135 139647639414592 efficientnet_model.py:147] round_filter input=320 output=576\n",
      "I0217 16:52:12.315712 139647639414592 efficientnet_model.py:147] round_filter input=1280 output=2304\n",
      "I0217 16:52:12.335541 139647639414592 efficientnet_model.py:457] Building model efficientnet with params ModelConfig(width_coefficient=1.8, depth_coefficient=2.6, resolution=528, dropout_rate=0.5, blocks=(BlockConfig(input_filters=32, output_filters=16, kernel_size=3, num_repeat=1, expand_ratio=1, strides=(1, 1), se_ratio=0.25, id_skip=True, fused_conv=False, conv_type='depthwise'), BlockConfig(input_filters=16, output_filters=24, kernel_size=3, num_repeat=2, expand_ratio=6, strides=(2, 2), se_ratio=0.25, id_skip=True, fused_conv=False, conv_type='depthwise'), BlockConfig(input_filters=24, output_filters=40, kernel_size=5, num_repeat=2, expand_ratio=6, strides=(2, 2), se_ratio=0.25, id_skip=True, fused_conv=False, conv_type='depthwise'), BlockConfig(input_filters=40, output_filters=80, kernel_size=3, num_repeat=3, expand_ratio=6, strides=(2, 2), se_ratio=0.25, id_skip=True, fused_conv=False, conv_type='depthwise'), BlockConfig(input_filters=80, output_filters=112, kernel_size=5, num_repeat=3, expand_ratio=6, strides=(1, 1), se_ratio=0.25, id_skip=True, fused_conv=False, conv_type='depthwise'), BlockConfig(input_filters=112, output_filters=192, kernel_size=5, num_repeat=4, expand_ratio=6, strides=(2, 2), se_ratio=0.25, id_skip=True, fused_conv=False, conv_type='depthwise'), BlockConfig(input_filters=192, output_filters=320, kernel_size=3, num_repeat=1, expand_ratio=6, strides=(1, 1), se_ratio=0.25, id_skip=True, fused_conv=False, conv_type='depthwise')), stem_base_filters=32, top_base_filters=1280, activation='simple_swish', batch_norm='default', bn_momentum=0.99, bn_epsilon=0.001, weight_decay=5e-06, drop_connect_rate=0.2, depth_divisor=8, min_depth=None, use_se=True, input_channels=3, num_classes=1000, model_name='efficientnet', rescale_input=False, data_format='channels_last', dtype='float32')\n",
      "I0217 16:52:12.410074 139647639414592 ssd_efficientnet_bifpn_feature_extractor.py:150] EfficientDet EfficientNet backbone version: efficientnet-b7\n",
      "I0217 16:52:12.410182 139647639414592 ssd_efficientnet_bifpn_feature_extractor.py:152] EfficientDet BiFPN num filters: 384\n",
      "I0217 16:52:12.410243 139647639414592 ssd_efficientnet_bifpn_feature_extractor.py:153] EfficientDet BiFPN num iterations: 8\n",
      "I0217 16:52:12.411483 139647639414592 efficientnet_model.py:147] round_filter input=32 output=64\n",
      "I0217 16:52:12.422592 139647639414592 efficientnet_model.py:147] round_filter input=32 output=64\n",
      "I0217 16:52:12.422660 139647639414592 efficientnet_model.py:147] round_filter input=16 output=32\n",
      "I0217 16:52:12.595239 139647639414592 efficientnet_model.py:147] round_filter input=16 output=32\n",
      "I0217 16:52:12.595332 139647639414592 efficientnet_model.py:147] round_filter input=24 output=48\n",
      "I0217 16:52:12.969970 139647639414592 efficientnet_model.py:147] round_filter input=24 output=48\n",
      "I0217 16:52:12.970082 139647639414592 efficientnet_model.py:147] round_filter input=40 output=80\n",
      "I0217 16:52:13.345367 139647639414592 efficientnet_model.py:147] round_filter input=40 output=80\n",
      "I0217 16:52:13.345484 139647639414592 efficientnet_model.py:147] round_filter input=80 output=160\n",
      "I0217 16:52:14.133676 139647639414592 efficientnet_model.py:147] round_filter input=80 output=160\n",
      "I0217 16:52:14.133794 139647639414592 efficientnet_model.py:147] round_filter input=112 output=224\n",
      "I0217 16:52:14.682728 139647639414592 efficientnet_model.py:147] round_filter input=112 output=224\n",
      "I0217 16:52:14.682846 139647639414592 efficientnet_model.py:147] round_filter input=192 output=384\n",
      "I0217 16:52:15.395123 139647639414592 efficientnet_model.py:147] round_filter input=192 output=384\n",
      "I0217 16:52:15.395239 139647639414592 efficientnet_model.py:147] round_filter input=320 output=640\n",
      "I0217 16:52:15.611955 139647639414592 efficientnet_model.py:147] round_filter input=1280 output=2560\n",
      "I0217 16:52:15.639568 139647639414592 efficientnet_model.py:457] Building model efficientnet with params ModelConfig(width_coefficient=2.0, depth_coefficient=3.1, resolution=600, dropout_rate=0.5, blocks=(BlockConfig(input_filters=32, output_filters=16, kernel_size=3, num_repeat=1, expand_ratio=1, strides=(1, 1), se_ratio=0.25, id_skip=True, fused_conv=False, conv_type='depthwise'), BlockConfig(input_filters=16, output_filters=24, kernel_size=3, num_repeat=2, expand_ratio=6, strides=(2, 2), se_ratio=0.25, id_skip=True, fused_conv=False, conv_type='depthwise'), BlockConfig(input_filters=24, output_filters=40, kernel_size=5, num_repeat=2, expand_ratio=6, strides=(2, 2), se_ratio=0.25, id_skip=True, fused_conv=False, conv_type='depthwise'), BlockConfig(input_filters=40, output_filters=80, kernel_size=3, num_repeat=3, expand_ratio=6, strides=(2, 2), se_ratio=0.25, id_skip=True, fused_conv=False, conv_type='depthwise'), BlockConfig(input_filters=80, output_filters=112, kernel_size=5, num_repeat=3, expand_ratio=6, strides=(1, 1), se_ratio=0.25, id_skip=True, fused_conv=False, conv_type='depthwise'), BlockConfig(input_filters=112, output_filters=192, kernel_size=5, num_repeat=4, expand_ratio=6, strides=(2, 2), se_ratio=0.25, id_skip=True, fused_conv=False, conv_type='depthwise'), BlockConfig(input_filters=192, output_filters=320, kernel_size=3, num_repeat=1, expand_ratio=6, strides=(1, 1), se_ratio=0.25, id_skip=True, fused_conv=False, conv_type='depthwise')), stem_base_filters=32, top_base_filters=1280, activation='simple_swish', batch_norm='default', bn_momentum=0.99, bn_epsilon=0.001, weight_decay=5e-06, drop_connect_rate=0.2, depth_divisor=8, min_depth=None, use_se=True, input_channels=3, num_classes=1000, model_name='efficientnet', rescale_input=False, data_format='channels_last', dtype='float32')\n",
      "INFO:tensorflow:time(__main__.ModelBuilderTF2Test.test_create_ssd_models_from_config): 15.52s\n",
      "I0217 16:52:15.728003 139647639414592 test_util.py:2188] time(__main__.ModelBuilderTF2Test.test_create_ssd_models_from_config): 15.52s\n",
      "[       OK ] ModelBuilderTF2Test.test_create_ssd_models_from_config\n",
      "[ RUN      ] ModelBuilderTF2Test.test_invalid_faster_rcnn_batchnorm_update\n",
      "INFO:tensorflow:time(__main__.ModelBuilderTF2Test.test_invalid_faster_rcnn_batchnorm_update): 0.0s\n",
      "I0217 16:52:15.736061 139647639414592 test_util.py:2188] time(__main__.ModelBuilderTF2Test.test_invalid_faster_rcnn_batchnorm_update): 0.0s\n",
      "[       OK ] ModelBuilderTF2Test.test_invalid_faster_rcnn_batchnorm_update\n",
      "[ RUN      ] ModelBuilderTF2Test.test_invalid_first_stage_nms_iou_threshold\n",
      "INFO:tensorflow:time(__main__.ModelBuilderTF2Test.test_invalid_first_stage_nms_iou_threshold): 0.0s\n",
      "I0217 16:52:15.737344 139647639414592 test_util.py:2188] time(__main__.ModelBuilderTF2Test.test_invalid_first_stage_nms_iou_threshold): 0.0s\n",
      "[       OK ] ModelBuilderTF2Test.test_invalid_first_stage_nms_iou_threshold\n",
      "[ RUN      ] ModelBuilderTF2Test.test_invalid_model_config_proto\n",
      "INFO:tensorflow:time(__main__.ModelBuilderTF2Test.test_invalid_model_config_proto): 0.0s\n",
      "I0217 16:52:15.737663 139647639414592 test_util.py:2188] time(__main__.ModelBuilderTF2Test.test_invalid_model_config_proto): 0.0s\n",
      "[       OK ] ModelBuilderTF2Test.test_invalid_model_config_proto\n",
      "[ RUN      ] ModelBuilderTF2Test.test_invalid_second_stage_batch_size\n",
      "INFO:tensorflow:time(__main__.ModelBuilderTF2Test.test_invalid_second_stage_batch_size): 0.0s\n",
      "I0217 16:52:15.738840 139647639414592 test_util.py:2188] time(__main__.ModelBuilderTF2Test.test_invalid_second_stage_batch_size): 0.0s\n",
      "[       OK ] ModelBuilderTF2Test.test_invalid_second_stage_batch_size\n",
      "[ RUN      ] ModelBuilderTF2Test.test_session\n",
      "[  SKIPPED ] ModelBuilderTF2Test.test_session\n",
      "[ RUN      ] ModelBuilderTF2Test.test_unknown_faster_rcnn_feature_extractor\n",
      "INFO:tensorflow:time(__main__.ModelBuilderTF2Test.test_unknown_faster_rcnn_feature_extractor): 0.0s\n",
      "I0217 16:52:15.739924 139647639414592 test_util.py:2188] time(__main__.ModelBuilderTF2Test.test_unknown_faster_rcnn_feature_extractor): 0.0s\n",
      "[       OK ] ModelBuilderTF2Test.test_unknown_faster_rcnn_feature_extractor\n",
      "[ RUN      ] ModelBuilderTF2Test.test_unknown_meta_architecture\n",
      "INFO:tensorflow:time(__main__.ModelBuilderTF2Test.test_unknown_meta_architecture): 0.0s\n",
      "I0217 16:52:15.740215 139647639414592 test_util.py:2188] time(__main__.ModelBuilderTF2Test.test_unknown_meta_architecture): 0.0s\n",
      "[       OK ] ModelBuilderTF2Test.test_unknown_meta_architecture\n",
      "[ RUN      ] ModelBuilderTF2Test.test_unknown_ssd_feature_extractor\n",
      "INFO:tensorflow:time(__main__.ModelBuilderTF2Test.test_unknown_ssd_feature_extractor): 0.0s\n",
      "I0217 16:52:15.740998 139647639414592 test_util.py:2188] time(__main__.ModelBuilderTF2Test.test_unknown_ssd_feature_extractor): 0.0s\n",
      "[       OK ] ModelBuilderTF2Test.test_unknown_ssd_feature_extractor\n",
      "----------------------------------------------------------------------\n",
      "Ran 24 tests in 18.973s\n",
      "\n",
      "OK (skipped=1)\n"
     ]
    }
   ],
   "source": [
    "# Compile protos.\n",
    "%cd models/research/\n",
    "!protoc object_detection/protos/*.proto --python_out=.\n",
    "%cd ../..\n",
    "\n",
    "# Remove this file since it prevents the API to work in the Schlaubox\n",
    "#!rm models/research/opt/conda/lib/python3.9/site-packages/tensorflow/core/kernels/libtfkernel_sobol_op.so\n",
    "\n",
    "if SETUP_TENSORFLOW:\n",
    "    # Test if the Object Dectection API is working correctly\n",
    "    !python3 models/research/object_detection/builders/model_builder_tf2_test.py"
   ]
  },
  {
   "cell_type": "markdown",
   "id": "847c4225-dfcd-4580-930a-38f4813f080c",
   "metadata": {
    "tags": []
   },
   "source": [
    "### Create TFRecords\n",
    "1. Upload zip of folders with train, validation and test files (images and annotations)\n",
    "2. Extract zip\n",
    "3. Create TFRecords using ***generate_tf_record.py***\n",
    "----\n",
    "*Note: Have to create TFRecords here since creating these locally and afterwards uploading them seems to corrupt the files*"
   ]
  },
  {
   "cell_type": "code",
   "execution_count": 88,
   "id": "bfd9b776-4039-4fef-b35c-1aafd0867eef",
   "metadata": {},
   "outputs": [],
   "source": [
    "#!rm -rf {DATA_PATH}/train {DATA_PATH}/test {DATA_PATH}/val"
   ]
  },
  {
   "cell_type": "code",
   "execution_count": 89,
   "id": "d9bb4b18-1645-4670-affa-6b5a325bf119",
   "metadata": {},
   "outputs": [],
   "source": [
    "%%capture\n",
    "#!unzip {DATA_PATH}/splits.zip -d {DATA_PATH}"
   ]
  },
  {
   "cell_type": "code",
   "execution_count": 90,
   "id": "47ec949c-bd94-42ee-9d68-4d4add2091c0",
   "metadata": {},
   "outputs": [],
   "source": [
    "#!python {WORKSPACE_PATH}'/scripts/generate_tfrecord.py' -x {DATA_PATH}'/train' -l {DATA_PATH}'/label_map.pbtxt' -o {DATA_PATH}'/train.tfrecord'\n",
    "#!python {WORKSPACE_PATH}'/scripts/generate_tfrecord.py' -x {DATA_PATH}'/val' -l {DATA_PATH}'/label_map.pbtxt' -o {DATA_PATH}'/val.tfrecord'\n",
    "#!python {WORKSPACE_PATH}'/scripts/generate_tfrecord.py' -x {DATA_PATH}'/test' -l {DATA_PATH}'/label_map.pbtxt' -o {DATA_PATH}'/test.tfrecord'"
   ]
  },
  {
   "cell_type": "code",
   "execution_count": 91,
   "id": "9a1cb6c2-3611-4a0a-bfd9-a45d19bfcf5d",
   "metadata": {},
   "outputs": [
    {
     "name": "stdout",
     "output_type": "stream",
     "text": [
      "total 2781M\n",
      "-rw-r--r-- 1 jovyan users    1M Feb 12 23:01 label_map.pbtxt\n",
      "-rw-r--r-- 1 jovyan users 1233M Feb 15 20:39 splits.zip\n",
      "drwxr-xr-x 2 jovyan users    1M Feb 15 18:10 test\n",
      "-rw-r--r-- 1 jovyan users    1M Feb 16 19:23 test.csv\n",
      "-rw-r--r-- 1 jovyan users  161M Feb 16 19:23 test.tfrecord\n",
      "drwxr-xr-x 2 jovyan users    1M Feb 15 18:10 train\n",
      "-rw-r--r-- 1 jovyan users    1M Feb 16 19:22 train.csv\n",
      "-rw-r--r-- 1 jovyan users 1081M Feb 16 19:22 train.tfrecord\n",
      "drwxr-xr-x 2 jovyan users    1M Feb 15 18:10 val\n",
      "-rw-r--r-- 1 jovyan users    1M Feb 16 19:23 val.csv\n",
      "-rw-r--r-- 1 jovyan users  309M Feb 16 19:23 val.tfrecord\n"
     ]
    }
   ],
   "source": [
    "!ls {DATA_PATH} -l --block-size=M"
   ]
  },
  {
   "cell_type": "markdown",
   "id": "d5751e65-d2d6-4ce0-8ab8-fdcb4f57fc0d",
   "metadata": {
    "tags": []
   },
   "source": [
    "### Download pre-trained model\n",
    "1. Download model specified in **MODEL_NAME**\n",
    "2. Extract the zipped model\n",
    "3. Remove the zip-file we no longer need\n",
    "4. Copy pipeline.config to our models/MODEL_NAME folder to configure it to our own liking"
   ]
  },
  {
   "cell_type": "code",
   "execution_count": 92,
   "id": "e441f142-e524-4a60-9925-0463f56dd533",
   "metadata": {},
   "outputs": [],
   "source": [
    "#!wget {BASE_MODEL_URL}/{MODEL_NAME}.tar.gz -P {PRE_TRAINED_MODELS_PATH} \n",
    "#!tar -xvzf {PRE_TRAINED_MODELS_PATH}/{MODEL_NAME}.tar.gz -C {PRE_TRAINED_MODELS_PATH}\n",
    "#!rm -rf {PRE_TRAINED_MODELS_PATH}/{MODEL_NAME}.tar.gz"
   ]
  },
  {
   "cell_type": "markdown",
   "id": "3f657871-cf2e-40d5-a40f-760d19bf156a",
   "metadata": {
    "tags": []
   },
   "source": [
    "### Update parameters in the pipeline.config\n",
    "- **Batch Size:** 4\n",
    "- **Learning Rate:** 1e-3, 5e-4, 1e-2\n",
    "- **Epochs:** 25, 50, 100\n",
    "\n",
    "-------\n",
    "\n",
    "*Note: The pipeline.config does not have a epochs parameter. Instead we have to calculate the **num_steps** based on the epochs we want to use:*\n",
    "\n",
    "- ***num_steps = epochs * (num_samples / batch_size)***\n",
    "- ***epochs = num_steps / (num_samples / batch_size)***\n"
   ]
  },
  {
   "cell_type": "code",
   "execution_count": 93,
   "id": "102d402f-55d2-418a-a850-93cab4058ef6",
   "metadata": {},
   "outputs": [
    {
     "ename": "ImportError",
     "evalue": "cannot import name 'eval_pb2' from 'object_detection.protos' (/home/jovyan/.local/lib/python3.9/site-packages/object_detection/protos/__init__.py)",
     "output_type": "error",
     "traceback": [
      "\u001b[0;31m---------------------------------------------------------------------------\u001b[0m",
      "\u001b[0;31mImportError\u001b[0m                               Traceback (most recent call last)",
      "Input \u001b[0;32mIn [93]\u001b[0m, in \u001b[0;36m<cell line: 2>\u001b[0;34m()\u001b[0m\n\u001b[1;32m      1\u001b[0m \u001b[38;5;66;03m# Manipulate pipeline.config\u001b[39;00m\n\u001b[0;32m----> 2\u001b[0m \u001b[38;5;28;01mfrom\u001b[39;00m \u001b[38;5;21;01mobject_detection\u001b[39;00m\u001b[38;5;21;01m.\u001b[39;00m\u001b[38;5;21;01mutils\u001b[39;00m \u001b[38;5;28;01mimport\u001b[39;00m config_util\n",
      "File \u001b[0;32m~/.local/lib/python3.9/site-packages/object_detection/utils/config_util.py:28\u001b[0m, in \u001b[0;36m<module>\u001b[0;34m\u001b[0m\n\u001b[1;32m     24\u001b[0m \u001b[38;5;28;01mimport\u001b[39;00m \u001b[38;5;21;01mtensorflow\u001b[39;00m\u001b[38;5;21;01m.\u001b[39;00m\u001b[38;5;21;01mcompat\u001b[39;00m\u001b[38;5;21;01m.\u001b[39;00m\u001b[38;5;21;01mv1\u001b[39;00m \u001b[38;5;28;01mas\u001b[39;00m \u001b[38;5;21;01mtf\u001b[39;00m\n\u001b[1;32m     26\u001b[0m \u001b[38;5;28;01mfrom\u001b[39;00m \u001b[38;5;21;01mtensorflow\u001b[39;00m\u001b[38;5;21;01m.\u001b[39;00m\u001b[38;5;21;01mpython\u001b[39;00m\u001b[38;5;21;01m.\u001b[39;00m\u001b[38;5;21;01mlib\u001b[39;00m\u001b[38;5;21;01m.\u001b[39;00m\u001b[38;5;21;01mio\u001b[39;00m \u001b[38;5;28;01mimport\u001b[39;00m file_io\n\u001b[0;32m---> 28\u001b[0m \u001b[38;5;28;01mfrom\u001b[39;00m \u001b[38;5;21;01mobject_detection\u001b[39;00m\u001b[38;5;21;01m.\u001b[39;00m\u001b[38;5;21;01mprotos\u001b[39;00m \u001b[38;5;28;01mimport\u001b[39;00m eval_pb2\n\u001b[1;32m     29\u001b[0m \u001b[38;5;28;01mfrom\u001b[39;00m \u001b[38;5;21;01mobject_detection\u001b[39;00m\u001b[38;5;21;01m.\u001b[39;00m\u001b[38;5;21;01mprotos\u001b[39;00m \u001b[38;5;28;01mimport\u001b[39;00m graph_rewriter_pb2\n\u001b[1;32m     30\u001b[0m \u001b[38;5;28;01mfrom\u001b[39;00m \u001b[38;5;21;01mobject_detection\u001b[39;00m\u001b[38;5;21;01m.\u001b[39;00m\u001b[38;5;21;01mprotos\u001b[39;00m \u001b[38;5;28;01mimport\u001b[39;00m input_reader_pb2\n",
      "\u001b[0;31mImportError\u001b[0m: cannot import name 'eval_pb2' from 'object_detection.protos' (/home/jovyan/.local/lib/python3.9/site-packages/object_detection/protos/__init__.py)"
     ]
    }
   ],
   "source": [
    "# Manipulate pipeline.config\n",
    "from object_detection.utils import config_util"
   ]
  },
  {
   "cell_type": "code",
   "execution_count": null,
   "id": "97a8d77e-6f12-4c8b-88fc-699f695eaf9d",
   "metadata": {},
   "outputs": [],
   "source": [
    "NUM_SAMPLES = len([x for x in os.listdir(os.path.join(DATA_PATH, 'train')) if x.endswith('.xml')])\n",
    "NUM_STEPS = int(EPOCHS * (NUM_SAMPLES / BATCH_SIZE))"
   ]
  },
  {
   "cell_type": "code",
   "execution_count": null,
   "id": "291a7a9d-8598-4918-91a1-c1173daf7240",
   "metadata": {},
   "outputs": [],
   "source": [
    "!cp {PRE_TRAINED_MODELS_PATH}/{MODEL_NAME}/pipeline.config {MODELS_PATH}/{MODEL_NAME}/{COMBINATION_NAME}\n",
    "config = config_util.get_configs_from_pipeline_file(os.path.join(MODELS_PATH, MODEL_NAME, COMBINATION_NAME, \"pipeline.config\"))\n",
    "\n",
    "config['model'].ssd.num_classes = NUM_CLASSES\n",
    "config['train_config'].fine_tune_checkpoint_type = \"detection\"\n",
    "config['train_config'].batch_size = BATCH_SIZE\n",
    "config['train_config'].num_steps = NUM_STEPS\n",
    "config['train_config'].fine_tune_checkpoint = os.path.join(PRE_TRAINED_MODELS_PATH, MODEL_NAME, \"checkpoint\", \"ckpt-0\")\n",
    "config['train_config'].optimizer.momentum_optimizer.learning_rate.cosine_decay_learning_rate.learning_rate_base = LEARNING_RATE\n",
    "config['train_config'].optimizer.momentum_optimizer.learning_rate.cosine_decay_learning_rate.warmup_learning_rate = LEARNING_RATE / 5\n",
    "config['train_config'].optimizer.momentum_optimizer.learning_rate.cosine_decay_learning_rate.warmup_steps = int(NUM_STEPS * 0.01)\n",
    "config['train_config'].optimizer.momentum_optimizer.learning_rate.cosine_decay_learning_rate.total_steps = NUM_STEPS\n",
    "config['train_input_config'].label_map_path = os.path.join(DATA_PATH, 'label_map.pbtxt')\n",
    "config['train_input_config'].tf_record_input_reader.input_path[0] = os.path.join(DATA_PATH, 'train.tfrecord')\n",
    "config['eval_config'].batch_size = 1\n",
    "config['eval_config'].metrics_set[0] = 'coco_detection_metrics' # default value\n",
    "#config['eval_config'].metrics_set[0] = 'pascal_voc_detection_metrics'\n",
    "#config['eval_config'].include_metrics_per_category = True # include per category metrics\n",
    "config['eval_config'].all_metrics_per_category = True # include detailed per category metrics\n",
    "\n",
    "config['eval_input_config'].label_map_path = os.path.join(DATA_PATH, 'label_map.pbtxt')\n",
    "config['eval_input_config'].tf_record_input_reader.input_path[0] = os.path.join(DATA_PATH, 'val.tfrecord')\n",
    "\n",
    "# Remove data augmentation\n",
    "del config['train_config'].data_augmentation_options[0]\n",
    "del config['train_config'].data_augmentation_options[0]\n",
    "\n",
    "# Save updated config\n",
    "config = config_util.create_pipeline_proto_from_configs(config)\n",
    "config_util.save_pipeline_config(config, os.path.join(MODELS_PATH, MODEL_NAME, COMBINATION_NAME))"
   ]
  },
  {
   "cell_type": "markdown",
   "id": "07774ef0-ef55-4704-9cfc-89d7e6fe6e43",
   "metadata": {},
   "source": [
    "### Start training\n",
    "1. Move the model_main_tf2.py training script to our workspace folder\n",
    "2. Start the training process\n",
    "3. Directly after starting, run the **eval.ipynb** for evaluation"
   ]
  },
  {
   "cell_type": "code",
   "execution_count": null,
   "id": "d01543e1-8e1a-476f-a34d-521f6056973f",
   "metadata": {},
   "outputs": [],
   "source": [
    "!cp models/research/object_detection/model_main_tf2.py {WORKSPACE_PATH}"
   ]
  },
  {
   "cell_type": "code",
   "execution_count": null,
   "id": "034943de-91eb-4720-bfe6-1d5e7705131d",
   "metadata": {},
   "outputs": [],
   "source": [
    "'''\n",
    "\n",
    "start_time = time.time()\n",
    "\n",
    "!python3 workspace/model_main_tf2.py \\\n",
    "    --pipeline_config_path=workspace/models/{MODEL_NAME}/{COMBINATION_NAME}/pipeline.config \\\n",
    "    --model_dir=workspace/models/{MODEL_NAME}/{COMBINATION_NAME} \\\n",
    "    --checkpoint_every_n=100 \\\n",
    "    --alsologtostderr\n",
    "\n",
    "end_time = time.time()\n",
    "elapsed_time = (end_time - start_time) / 60\n",
    "\n",
    "print(f\"Elapsed time: {round(elapsed_time, 2)} minutes\")\n",
    "'''"
   ]
  },
  {
   "cell_type": "code",
   "execution_count": null,
   "id": "46320420-b31a-4c1c-bf2c-36029fe6d9aa",
   "metadata": {},
   "outputs": [],
   "source": []
  }
 ],
 "metadata": {
  "kernelspec": {
   "display_name": "Python 3 (ipykernel)",
   "language": "python",
   "name": "python3"
  },
  "language_info": {
   "codemirror_mode": {
    "name": "ipython",
    "version": 3
   },
   "file_extension": ".py",
   "mimetype": "text/x-python",
   "name": "python",
   "nbconvert_exporter": "python",
   "pygments_lexer": "ipython3",
   "version": "3.9.13"
  }
 },
 "nbformat": 4,
 "nbformat_minor": 5
}
