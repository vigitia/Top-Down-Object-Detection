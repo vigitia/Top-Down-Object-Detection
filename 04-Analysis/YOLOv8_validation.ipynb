{
  "cells": [
    {
      "cell_type": "code",
      "execution_count": null,
      "id": "7fe6217e-f072-4cde-b713-994aabdf36e0",
      "metadata": {
        "id": "7fe6217e-f072-4cde-b713-994aabdf36e0"
      },
      "outputs": [],
      "source": [
        "!pip3 install torch torchvision torchaudio --extra-index-url https://download.pytorch.org/whl/cu116 -q"
      ]
    },
    {
      "cell_type": "code",
      "execution_count": null,
      "id": "8904542b-7c54-4a6d-8648-4bc6759b4963",
      "metadata": {
        "id": "8904542b-7c54-4a6d-8648-4bc6759b4963"
      },
      "outputs": [],
      "source": [
        "!pip3 install ultralytics -q"
      ]
    },
    {
      "cell_type": "code",
      "execution_count": null,
      "id": "f325e49a-131e-4e5c-810e-2d990edde7a3",
      "metadata": {
        "id": "f325e49a-131e-4e5c-810e-2d990edde7a3",
        "outputId": "6be5cefa-7b32-471e-e661-dc658a50e890"
      },
      "outputs": [
        {
          "name": "stderr",
          "output_type": "stream",
          "text": [
            "Ultralytics YOLOv8.0.53 🚀 Python-3.9.13 torch-1.13.1+cu116 CUDA:0 (NVIDIA GeForce RTX 2080 Ti, 11020MiB)\n",
            "Setup complete ✅ (48 CPUs, 125.7 GB RAM, 359.2/456.9 GB disk)\n"
          ]
        }
      ],
      "source": [
        "import ultralytics\n",
        "ultralytics.checks()"
      ]
    },
    {
      "cell_type": "code",
      "execution_count": null,
      "id": "3bfbf877-5ec2-4e6b-9175-d78a65b51ceb",
      "metadata": {
        "id": "3bfbf877-5ec2-4e6b-9175-d78a65b51ceb"
      },
      "outputs": [],
      "source": [
        "from ultralytics import YOLO\n",
        "import pandas as pd"
      ]
    },
    {
      "cell_type": "code",
      "execution_count": null,
      "id": "a2a4b563-9303-4f71-831b-73f465c0b805",
      "metadata": {
        "id": "a2a4b563-9303-4f71-831b-73f465c0b805"
      },
      "outputs": [],
      "source": [
        "#folder names with the model to validate\n",
        "folders = ['Adam_Aligned_4', 'Adam_Default_4', 'Adam_NO_4', 'SGD_Aligned_4', 'SGD_Default_4', 'SGD_NO_4']\n",
        "folder = folders[0]\n",
        "\n",
        "#splits to use for validation\n",
        "splits = ['test', 'train', 'val']\n",
        "split = splits[0]\n",
        "\n",
        "#all categories in the data set (yolo order)\n",
        "categories = [\"cup\", \"bowl\", \"bottle\", \"plate\", \"pen\", \"book\", \"stapler\", \"hole_puncher\", \"flashdrive\", \"smartphone\", \"all\"]"
      ]
    },
    {
      "cell_type": "markdown",
      "source": [
        "Generate CSV with mAP values"
      ],
      "metadata": {
        "id": "2yLD2ULSESkL"
      },
      "id": "2yLD2ULSESkL"
    },
    {
      "cell_type": "code",
      "execution_count": null,
      "id": "02b2e83d-7b77-4b84-9c94-530e34cb9941",
      "metadata": {
        "id": "02b2e83d-7b77-4b84-9c94-530e34cb9941"
      },
      "outputs": [],
      "source": [
        "def get_csv(result):\n",
        "    p = []\n",
        "    r = []\n",
        "    mAP50 = []\n",
        "    mAP75 = []\n",
        "    mAP50_95 = []\n",
        "\n",
        "\n",
        "    for i in range(len(categories)):\n",
        "        if i == len(categories)-1:\n",
        "            p.append(result.box.mp)\n",
        "            r.append(result.box.mr)\n",
        "            mAP50.append(result.box.map50)\n",
        "            mAP75.append(result.box.map75)\n",
        "            mAP50_95.append(result.box.map)\n",
        "        else:\n",
        "            res = result.class_result(i)\n",
        "            p.append(res[0])\n",
        "            r.append(res[1])\n",
        "            mAP50.append(res[2])\n",
        "            mAP75.append(\" \")\n",
        "            mAP50_95.append(res[3])\n",
        "\n",
        "    df = pd.DataFrame(list(zip(categories, p, r, mAP50, mAP75, mAP50_95)))\n",
        "    df.columns = [\"Class\", \"P\", \"R\", \"mAP50\", \"mAP75\", \"mAP50:95\"]\n",
        "    df.to_csv(\"/home/jovyan/\" + folder + \"/\" + split + \"_val_data.csv\")\n",
        "    #df.to_csv(\"/home/jovyan/\" + folder + \"/foreign_val_data.csv\")"
      ]
    },
    {
      "cell_type": "markdown",
      "source": [
        "Itterate over all models"
      ],
      "metadata": {
        "id": "JncYGi3NEc1A"
      },
      "id": "JncYGi3NEc1A"
    },
    {
      "cell_type": "code",
      "execution_count": null,
      "id": "ad0702a1-2c86-4fa4-9b5a-41ddb569f1f2",
      "metadata": {
        "id": "ad0702a1-2c86-4fa4-9b5a-41ddb569f1f2"
      },
      "outputs": [],
      "source": [
        "# Load a model\n",
        "for u in range(len(folders)):\n",
        "    model = YOLO(\"/home/jovyan/\" + folder + \"/train/weights/best.pt\") \n",
        "    folder = folders[u]\n",
        "    for i in range(len(splits)):\n",
        "        split = splits[i]\n",
        "        name = 'val_' + 'foreign' #split \n",
        "        results = model.val(split=split, name=name, project=folder)  \n",
        "        get_csv(results)"
      ]
    }
  ],
  "metadata": {
    "kernelspec": {
      "display_name": "Python 3 (ipykernel)",
      "language": "python",
      "name": "python3"
    },
    "language_info": {
      "codemirror_mode": {
        "name": "ipython",
        "version": 3
      },
      "file_extension": ".py",
      "mimetype": "text/x-python",
      "name": "python",
      "nbconvert_exporter": "python",
      "pygments_lexer": "ipython3",
      "version": "3.9.13"
    },
    "colab": {
      "provenance": []
    }
  },
  "nbformat": 4,
  "nbformat_minor": 5
}