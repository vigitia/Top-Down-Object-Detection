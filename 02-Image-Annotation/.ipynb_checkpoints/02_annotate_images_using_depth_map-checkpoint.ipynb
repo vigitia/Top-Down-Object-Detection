{
 "cells": [
  {
   "cell_type": "markdown",
   "id": "c733a159",
   "metadata": {},
   "source": [
    "## Load packages"
   ]
  },
  {
   "cell_type": "code",
   "execution_count": 2,
   "id": "629333c2",
   "metadata": {},
   "outputs": [],
   "source": [
    "import cv2\n",
    "import os\n",
    "import matplotlib.pyplot as plt\n",
    "import numpy as np"
   ]
  },
  {
   "cell_type": "markdown",
   "id": "bf14d89f",
   "metadata": {},
   "source": [
    "## Settings"
   ]
  },
  {
   "cell_type": "code",
   "execution_count": 158,
   "id": "960a054a",
   "metadata": {},
   "outputs": [],
   "source": [
    "SEAFILE_PATH = os.path.abspath(os.path.join(\"../../../..\", \"Seafile\", \"Detecting-Objects\", \"DataCollection\"))\n",
    "IMAGE_PATH = os.path.join(SEAFILE_PATH, \"images\")\n",
    "LABEL_PATH = os.path.join(SEAFILE_PATH, \"labels\")\n",
    "OBJECT_CLASS = \"bowl2\"\n",
    "\n",
    "OBJECT_PATH = os.path.join(IMAGE_PATH, OBJECT_CLASS)\n",
    "\n",
    "RGB_IMAGE_PATH = os.path.join(OBJECT_PATH, \"rgb\")\n",
    "DEPTH_IMAGE_PATH = os.path.join(OBJECT_PATH, \"depth\")"
   ]
  },
  {
   "cell_type": "code",
   "execution_count": 3,
   "id": "295d22c1",
   "metadata": {},
   "outputs": [],
   "source": [
    "SEAFILE_PATH = os.path.abspath(os.path.join(\"../../../..\", \"Seafile\", \"Detecting-Objects\", \"DataCollection\"))\n",
    "IMAGE_PATH = os.path.join(SEAFILE_PATH, \"images\")\n",
    "\n",
    "RGB_IMAGE_PATH = os.path.join(IMAGE_PATH, \"tiefenbilder_gemittelt\", \"rgb\")\n",
    "DEPTH_IMAGE_PATH = os.path.join(IMAGE_PATH, \"tiefenbilder_gemittelt\", \"depth\")"
   ]
  },
  {
   "cell_type": "code",
   "execution_count": 159,
   "id": "42b2c7d2",
   "metadata": {},
   "outputs": [],
   "source": [
    "def get_filtered_contours(contours):\n",
    "    # Confines of the desk\n",
    "    xmin, xmax, ymin, ymax = 340, 940, 60, 660\n",
    "    tolerance = 0\n",
    "    filtered_contours = []\n",
    "    \n",
    "    for cntr in contours:\n",
    "        x,y,w,h = cv2.boundingRect(cntr)  \n",
    "\n",
    "        if x > xmax-tolerance or x < xmin+tolerance or y > ymax-tolerance or y < ymin+tolerance:\n",
    "            pass\n",
    "\n",
    "        if x+w > xmax or y+h > ymax:\n",
    "            pass\n",
    "\n",
    "        if w*h < 500:\n",
    "            pass\n",
    "\n",
    "        if w/h > 2:\n",
    "            pass\n",
    "\n",
    "        filtered_contours.append(cv2.boundingRect(cntr)) \n",
    "    return filtered_contours"
   ]
  },
  {
   "cell_type": "code",
   "execution_count": 160,
   "id": "5c6b9cdb",
   "metadata": {},
   "outputs": [],
   "source": [
    "# Combine multiple bounding boxes to one single bounding box\n",
    "def get_bounding_box(contours):\n",
    "    box_xmin, box_xmax, box_ymin, box_ymax = 0, 0, 0, 0\n",
    "    \n",
    "    for contour in contours:\n",
    "        x, y, w, h, = contour\n",
    "\n",
    "        if box_xmin == 0 or x < box_xmin:\n",
    "            box_xmin = x\n",
    "\n",
    "        if box_xmax == 0 or x + w > box_xmin:\n",
    "            box_xmax = x + w\n",
    "\n",
    "        if box_ymin == 0 or y < box_ymin:\n",
    "            box_ymin = y\n",
    "\n",
    "        if box_ymax == 0 or y + h < box_ymax:\n",
    "            box_ymax = y + h    \n",
    "            \n",
    "    return box_xmin, box_xmax, box_ymin, box_ymax"
   ]
  },
  {
   "cell_type": "code",
   "execution_count": null,
   "id": "f3b1bb59",
   "metadata": {},
   "outputs": [],
   "source": [
    "def draw_boxes(object_name, save_to_disc=False):\n",
    "    OBJECT_PATH = os.path.join(IMAGE_PATH, object_name)\n",
    "    RGB_IMAGE_PATH = os.path.join(OBJECT_PATH, \"rgb\")\n",
    "    DEPTH_IMAGE_PATH = os.path.join(OBJECT_PATH, \"depth\")\n",
    "    \n",
    "    #RGB_IMAGE_PATH = os.path.join(IMAGE_PATH, \"tiefenbilder_gemittelt\", \"rgb\")\n",
    "    #DEPTH_IMAGE_PATH = os.path.join(IMAGE_PATH, \"tiefenbilder_gemittelt\", \"depth\")\n",
    "    \n",
    "    detections = 0\n",
    "    files = os.listdir(RGB_IMAGE_PATH)\n",
    "    \n",
    "    for file_name in files:\n",
    "        # Read images\n",
    "        rgb_img = cv2.imread(os.path.join(RGB_IMAGE_PATH, file_name), cv2.IMREAD_UNCHANGED).astype('uint8')\n",
    "        depth_img = cv2.imread(os.path.join(DEPTH_IMAGE_PATH, file_name), cv2.IMREAD_UNCHANGED).astype('uint8')\n",
    "\n",
    "        # Convert colours\n",
    "        rgb_img = cv2.cvtColor(rgb_img, cv2.COLOR_BGR2RGB)\n",
    "        depth_img = cv2.cvtColor(depth_img, cv2.COLOR_BGR2RGB)\n",
    "        depth_img = cv2.cvtColor(depth_img, cv2.COLOR_RGB2GRAY)\n",
    "        \n",
    "\n",
    "        #blurred = cv2.GaussianBlur(depth_img, (10, 10), 0)\n",
    "        blurred = cv2.GaussianBlur(depth_img, (5, 5), 0)\n",
    "        edged = cv2.Canny(blurred, 13, 13)\n",
    "        kernel = cv2.getStructuringElement(cv2.MORPH_RECT, (3, 3))\n",
    "\n",
    "        \n",
    "        #'''\n",
    "        #edged = cv2.Canny(depth_img, 13, 13)\n",
    "        #kernel = cv2.getStructuringElement(cv2.MORPH_RECT, (3, 3))\n",
    "\n",
    "        # apply the dilation operation to the edged image\n",
    "        dilate = cv2.dilate(edged, kernel, iterations=2)\n",
    "\n",
    "        # find the contours in the dilated image\n",
    "        contours, _ = cv2.findContours(dilate, cv2.RETR_EXTERNAL, cv2.CHAIN_APPROX_SIMPLE)\n",
    "        result = rgb_img.copy()\n",
    "\n",
    "        contour_color = (0, 255, 0)\n",
    "        contour_thickness = 3\n",
    "        \n",
    "        filtered_contours = get_filtered_contours(contours)\n",
    "        for cntr in filtered_contours:\n",
    "            x,y,w,h = cntr\n",
    "            \n",
    "            box_x_min = x\n",
    "            box_x_max = x + w\n",
    "            box_y_min = y\n",
    "            box_y_max = y + h\n",
    "            #box_xmin, box_xmax, box_ymin, box_ymax = get_bounding_box(filtered_contours)\n",
    "            \n",
    "            cv2.rectangle(result, (box_x_min, box_y_min), (box_x_max, box_y_max), contour_color, contour_thickness)\n",
    "        \n",
    "        \n",
    "            if box_x_min != 0:\n",
    "                detections += 1\n",
    "        \n",
    "        if save_to_disc:\n",
    "            if not os.path.exists(os.path.join(OBJECT_PATH, \"test\")):\n",
    "                os.mkdir(os.path.join(OBJECT_PATH, \"test\"))\n",
    "            cv2.imwrite(os.path.join(OBJECT_PATH, \"test\", file_name), result)\n",
    "\n",
    "        \n",
    "        #'''\n",
    "        plt.imshow(depth_img)\n",
    "        plt.show()\n",
    "        plt.imshow(dilate)\n",
    "        plt.show()\n",
    "        print(len(filtered_contours), \"objects were found in this image.\")\n",
    "        plt.imshow(result)\n",
    "        plt.show()\n",
    "        #'''\n",
    "    \n",
    "    print(f\"Accuracy: {detections / len(files)}\")"
   ]
  },
  {
   "cell_type": "code",
   "execution_count": null,
   "id": "e6e664b3",
   "metadata": {},
   "outputs": [],
   "source": [
    "draw_boxes(\"cup\")"
   ]
  },
  {
   "cell_type": "code",
   "execution_count": null,
   "id": "315c88e6",
   "metadata": {},
   "outputs": [],
   "source": []
  }
 ],
 "metadata": {
  "kernelspec": {
   "display_name": "Python 3 (ipykernel)",
   "language": "python",
   "name": "python3"
  },
  "language_info": {
   "codemirror_mode": {
    "name": "ipython",
    "version": 3
   },
   "file_extension": ".py",
   "mimetype": "text/x-python",
   "name": "python",
   "nbconvert_exporter": "python",
   "pygments_lexer": "ipython3",
   "version": "3.10.6"
  }
 },
 "nbformat": 4,
 "nbformat_minor": 5
}
