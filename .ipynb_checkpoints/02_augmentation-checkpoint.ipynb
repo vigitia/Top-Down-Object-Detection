{
 "cells": [
  {
   "cell_type": "code",
   "execution_count": 3,
   "id": "d50ecd8d",
   "metadata": {},
   "outputs": [],
   "source": [
    "# !pip install lxml matplotlib bs4"
   ]
  },
  {
   "cell_type": "code",
   "execution_count": 4,
   "id": "b8cccfb8",
   "metadata": {},
   "outputs": [
    {
     "ename": "ModuleNotFoundError",
     "evalue": "No module named 'bs4'",
     "output_type": "error",
     "traceback": [
      "\u001b[0;31m---------------------------------------------------------------------------\u001b[0m",
      "\u001b[0;31mModuleNotFoundError\u001b[0m                       Traceback (most recent call last)",
      "Cell \u001b[0;32mIn [4], line 1\u001b[0m\n\u001b[0;32m----> 1\u001b[0m \u001b[38;5;28;01mfrom\u001b[39;00m \u001b[38;5;21;01mbs4\u001b[39;00m \u001b[38;5;28;01mimport\u001b[39;00m BeautifulSoup \u001b[38;5;28;01mas\u001b[39;00m BS\n\u001b[1;32m      2\u001b[0m \u001b[38;5;28;01mimport\u001b[39;00m \u001b[38;5;21;01malbumentations\u001b[39;00m \u001b[38;5;28;01mas\u001b[39;00m \u001b[38;5;21;01mA\u001b[39;00m\n\u001b[1;32m      3\u001b[0m \u001b[38;5;28;01mimport\u001b[39;00m \u001b[38;5;21;01mos\u001b[39;00m\n",
      "\u001b[0;31mModuleNotFoundError\u001b[0m: No module named 'bs4'"
     ]
    }
   ],
   "source": [
    "from bs4 import BeautifulSoup as BS\n",
    "import albumentations as A\n",
    "import os\n",
    "import numpy as np\n",
    "import cv2\n",
    "from matplotlib import pyplot as plt"
   ]
  },
  {
   "cell_type": "code",
   "execution_count": 51,
   "id": "c0599060",
   "metadata": {},
   "outputs": [],
   "source": [
    "IMAGE_PATH = os.path.join(\"DataCollection\", \"images\")\n",
    "LABEL_PATH = os.path.join(\"DataCollection\", \"labels\")\n",
    "\n",
    "OBJECT_CLASS = \"glasses\""
   ]
  },
  {
   "cell_type": "code",
   "execution_count": 60,
   "id": "a3066965",
   "metadata": {},
   "outputs": [],
   "source": [
    "BOX_COLOR = (255, 0, 0) # Red\n",
    "TEXT_COLOR = (255, 255, 255) # White\n",
    "\n",
    "\n",
    "def visualize_bbox(img, bbox, class_name, color=BOX_COLOR, thickness=2):\n",
    "    \"\"\"Visualizes a single bounding box on the image\"\"\"\n",
    "    x_min, y_min, w, h = bbox\n",
    "    x_min, x_max, y_min, y_max = int(x_min), int(x_min + w), int(y_min), int(y_min + h)\n",
    "   \n",
    "    cv2.rectangle(img, (x_min, y_min), (x_max, y_max), color=color, thickness=thickness)\n",
    "    \n",
    "    ((text_width, text_height), _) = cv2.getTextSize(class_name, cv2.FONT_HERSHEY_SIMPLEX, 0.35, 1)    \n",
    "    cv2.rectangle(img, (x_min, y_min - int(1.3 * text_height)), (x_min + text_width, y_min), BOX_COLOR, -1)\n",
    "    cv2.putText(\n",
    "        img,\n",
    "        text=class_name,\n",
    "        org=(x_min, y_min - int(0.3 * text_height)),\n",
    "        fontFace=cv2.FONT_HERSHEY_SIMPLEX,\n",
    "        fontScale=0.35, \n",
    "        color=TEXT_COLOR, \n",
    "        lineType=cv2.LINE_AA,\n",
    "    )\n",
    "    return img\n",
    "\n",
    "\n",
    "def visualize(image, bboxes, category_ids, category_id_to_name):\n",
    "    img = image.copy()\n",
    "    for bbox, category_id in zip(bboxes, category_ids):\n",
    "        class_name = category_id_to_name[category_id]\n",
    "        img = visualize_bbox(img, bbox, class_name)\n",
    "    plt.figure(figsize=(12, 12))\n",
    "    plt.axis('off')\n",
    "    plt.imshow(img)"
   ]
  },
  {
   "cell_type": "markdown",
   "id": "6166188f",
   "metadata": {},
   "source": [
    "## Convert single label"
   ]
  },
  {
   "cell_type": "code",
   "execution_count": 52,
   "id": "f977b851",
   "metadata": {},
   "outputs": [],
   "source": [
    "file_name = \"c2c94bee-64ef-11ed-8bda-acde48001122\"\n",
    "with open(f'{os.path.join(LABEL_PATH, OBJECT_CLASS, file_name)}.xml', 'r') as f:\n",
    "    data = f.read()"
   ]
  },
  {
   "cell_type": "code",
   "execution_count": 53,
   "id": "4ddf65ea",
   "metadata": {},
   "outputs": [],
   "source": [
    "data = BS(data)\n",
    "\n",
    "# Image size\n",
    "im_width = int(data.find(\"width\").text)\n",
    "im_height = int(data.find(\"height\").text)\n",
    "\n",
    "# Get data of interest\n",
    "object_data = data.find({\"name\": \"glasses\"}).parent\n",
    "bbox_coords = object_data.find(\"bndbox\")\n",
    "class_name = object_data.find(\"name\").text"
   ]
  },
  {
   "cell_type": "code",
   "execution_count": 54,
   "id": "cefbb06f",
   "metadata": {},
   "outputs": [],
   "source": [
    "# Get coordinates of bounding box in form [xmin, ymin, xmax, ymax]\n",
    "coords = [int(coord.text.strip()) for coord in bbox_coords if coord.text.strip()]\n",
    "\n",
    "# Normalize coordinates for albumentation format\n",
    "coords = list(np.divide(coords, [im_width, im_height, im_width, im_height]))"
   ]
  },
  {
   "cell_type": "markdown",
   "id": "37d3c4bc",
   "metadata": {},
   "source": [
    "## Create augmentor"
   ]
  },
  {
   "cell_type": "code",
   "execution_count": 64,
   "id": "519e0b3b",
   "metadata": {},
   "outputs": [],
   "source": [
    "transform = A.Compose(\n",
    "    [A.RandomSizedBBoxSafeCrop(width=im_height * 0.7, height=im_height * 0.7)],\n",
    "    bbox_params=A.BboxParams(format='albumentations', label_fields=['class_labels'])\n",
    ")"
   ]
  },
  {
   "cell_type": "code",
   "execution_count": 66,
   "id": "f5a8255b",
   "metadata": {},
   "outputs": [],
   "source": [
    "image = cv2.imread(os.path.join(IMAGE_PATH, OBJECT_CLASS, f'{file_name}.jpg'))\n",
    "image = cv2.cvtColor(image, cv2.COLOR_BGR2RGB)\n",
    "\n",
    "visualize()\n",
    "#transformed = transform(image=image, bboxes=[coords], class_labels=['glasses'])"
   ]
  },
  {
   "cell_type": "code",
   "execution_count": null,
   "id": "d80bc3d8",
   "metadata": {},
   "outputs": [],
   "source": []
  },
  {
   "cell_type": "code",
   "execution_count": null,
   "id": "27b6d100",
   "metadata": {},
   "outputs": [],
   "source": []
  }
 ],
 "metadata": {
  "kernelspec": {
   "display_name": "env",
   "language": "python",
   "name": "env"
  },
  "language_info": {
   "codemirror_mode": {
    "name": "ipython",
    "version": 3
   },
   "file_extension": ".py",
   "mimetype": "text/x-python",
   "name": "python",
   "nbconvert_exporter": "python",
   "pygments_lexer": "ipython3",
   "version": "3.10.6"
  }
 },
 "nbformat": 4,
 "nbformat_minor": 5
}
