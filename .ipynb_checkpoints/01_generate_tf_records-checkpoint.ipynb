{
 "cells": [
  {
   "cell_type": "code",
   "execution_count": null,
   "id": "2c23c1c2",
   "metadata": {},
   "outputs": [],
   "source": [
    "!pip uninstall object_detection"
   ]
  },
  {
   "cell_type": "markdown",
   "id": "d1a5dd94",
   "metadata": {},
   "source": [
    "### Load packages"
   ]
  },
  {
   "cell_type": "code",
   "execution_count": 2,
   "id": "bb195110",
   "metadata": {},
   "outputs": [],
   "source": [
    "import os"
   ]
  },
  {
   "cell_type": "markdown",
   "id": "50d54a2e",
   "metadata": {},
   "source": [
    "### Setup"
   ]
  },
  {
   "cell_type": "code",
   "execution_count": 3,
   "id": "c7544509",
   "metadata": {},
   "outputs": [],
   "source": [
    "DATA_PATH = os.path.abspath(os.path.join(\"../../../../..\", \"Seafile\", \"Detecting-Objects\", \"DataCollection\"))\n",
    "\n",
    "USE_AUGMENTED_DATA = False\n",
    "\n",
    "TRAIN_PATH = os.path.join(DATA_PATH, 'splits', 'train')\n",
    "VAL_PATH = os.path.join(DATA_PATH, 'splits', 'val')\n",
    "TEST_PATH = os.path.join(DATA_PATH, 'splits', 'test')\n",
    "\n",
    "if USE_AUGMENTED_DATA:\n",
    "    TRAIN_PATH = os.path.join(TRAIN_PATH, 'aug')\n",
    "    VAL_PATH = os.path.join(VAL_PATH, 'aug')\n",
    "    TEST_PATH = os.path.join(TEST_PATH, 'aug')"
   ]
  },
  {
   "cell_type": "markdown",
   "id": "e177e975",
   "metadata": {},
   "source": [
    "### Download Tensorflow Object Detection API\n",
    "We need this, since we have to access the object_detection package that's inside"
   ]
  },
  {
   "cell_type": "code",
   "execution_count": 3,
   "id": "fb9854e7",
   "metadata": {},
   "outputs": [],
   "source": [
    "#!git clone https://github.com/tensorflow/models"
   ]
  },
  {
   "cell_type": "code",
   "execution_count": 4,
   "id": "f1c03c73",
   "metadata": {},
   "outputs": [
    {
     "name": "stdout",
     "output_type": "stream",
     "text": [
      "/Users/markusbink/Documents/dev/Top-Down-Object-Detection/03-Model-Training/EfficientDet/models/research\n"
     ]
    }
   ],
   "source": [
    "%cd models/research/"
   ]
  },
  {
   "cell_type": "code",
   "execution_count": 5,
   "id": "cb0a9b88",
   "metadata": {},
   "outputs": [
    {
     "name": "stdout",
     "output_type": "stream",
     "text": [
      "Processing /Users/markusbink/Documents/dev/Top-Down-Object-Detection/03-Model-Training/EfficientDet/models/research\n",
      "  Preparing metadata (setup.py) ... \u001b[?25ldone\n",
      "\u001b[?25hRequirement already satisfied: avro-python3 in /Users/markusbink/Documents/dev/Top-Down-Object-Detection/env/lib/python3.10/site-packages (from object-detection==0.1) (1.10.2)\n",
      "Requirement already satisfied: apache-beam in /Users/markusbink/Documents/dev/Top-Down-Object-Detection/env/lib/python3.10/site-packages (from object-detection==0.1) (2.43.0)\n",
      "Requirement already satisfied: pillow in /Users/markusbink/Documents/dev/Top-Down-Object-Detection/env/lib/python3.10/site-packages (from object-detection==0.1) (9.3.0)\n",
      "Requirement already satisfied: lxml in /Users/markusbink/Documents/dev/Top-Down-Object-Detection/env/lib/python3.10/site-packages (from object-detection==0.1) (4.9.1)\n",
      "Requirement already satisfied: matplotlib in /Users/markusbink/Documents/dev/Top-Down-Object-Detection/env/lib/python3.10/site-packages (from object-detection==0.1) (3.5.3)\n",
      "Requirement already satisfied: Cython in /Users/markusbink/Documents/dev/Top-Down-Object-Detection/env/lib/python3.10/site-packages (from object-detection==0.1) (0.29.32)\n",
      "Requirement already satisfied: contextlib2 in /Users/markusbink/Documents/dev/Top-Down-Object-Detection/env/lib/python3.10/site-packages (from object-detection==0.1) (21.6.0)\n",
      "Requirement already satisfied: tf-slim in /Users/markusbink/Documents/dev/Top-Down-Object-Detection/env/lib/python3.10/site-packages (from object-detection==0.1) (1.1.0)\n",
      "Requirement already satisfied: six in /Users/markusbink/Documents/dev/Top-Down-Object-Detection/env/lib/python3.10/site-packages (from object-detection==0.1) (1.16.0)\n",
      "Requirement already satisfied: pycocotools in /Users/markusbink/Documents/dev/Top-Down-Object-Detection/env/lib/python3.10/site-packages (from object-detection==0.1) (2.0.6)\n",
      "Requirement already satisfied: lvis in /Users/markusbink/Documents/dev/Top-Down-Object-Detection/env/lib/python3.10/site-packages (from object-detection==0.1) (0.5.3)\n",
      "Requirement already satisfied: scipy in /Users/markusbink/Documents/dev/Top-Down-Object-Detection/env/lib/python3.10/site-packages (from object-detection==0.1) (1.9.3)\n",
      "Requirement already satisfied: pandas in /Users/markusbink/Documents/dev/Top-Down-Object-Detection/env/lib/python3.10/site-packages (from object-detection==0.1) (1.5.2)\n",
      "Requirement already satisfied: tf-models-official>=2.5.1 in /Users/markusbink/Documents/dev/Top-Down-Object-Detection/env/lib/python3.10/site-packages (from object-detection==0.1) (2.10.1)\n",
      "Requirement already satisfied: tensorflow_io in /Users/markusbink/Documents/dev/Top-Down-Object-Detection/env/lib/python3.10/site-packages (from object-detection==0.1) (0.28.0)\n",
      "Requirement already satisfied: keras in /Users/markusbink/Documents/dev/Top-Down-Object-Detection/env/lib/python3.10/site-packages (from object-detection==0.1) (2.10.0)\n",
      "Requirement already satisfied: pyparsing==2.4.7 in /Users/markusbink/Documents/dev/Top-Down-Object-Detection/env/lib/python3.10/site-packages (from object-detection==0.1) (2.4.7)\n",
      "Requirement already satisfied: sacrebleu<=2.2.0 in /Users/markusbink/Documents/dev/Top-Down-Object-Detection/env/lib/python3.10/site-packages (from object-detection==0.1) (2.2.0)\n",
      "Requirement already satisfied: portalocker in /Users/markusbink/Documents/dev/Top-Down-Object-Detection/env/lib/python3.10/site-packages (from sacrebleu<=2.2.0->object-detection==0.1) (2.6.0)\n",
      "Requirement already satisfied: numpy>=1.17 in /Users/markusbink/Documents/dev/Top-Down-Object-Detection/env/lib/python3.10/site-packages (from sacrebleu<=2.2.0->object-detection==0.1) (1.22.4)\n",
      "Requirement already satisfied: tabulate>=0.8.9 in /Users/markusbink/Documents/dev/Top-Down-Object-Detection/env/lib/python3.10/site-packages (from sacrebleu<=2.2.0->object-detection==0.1) (0.9.0)\n",
      "Requirement already satisfied: colorama in /Users/markusbink/Documents/dev/Top-Down-Object-Detection/env/lib/python3.10/site-packages (from sacrebleu<=2.2.0->object-detection==0.1) (0.4.6)\n",
      "Requirement already satisfied: regex in /Users/markusbink/Documents/dev/Top-Down-Object-Detection/env/lib/python3.10/site-packages (from sacrebleu<=2.2.0->object-detection==0.1) (2022.10.31)\n",
      "Requirement already satisfied: immutabledict in /Users/markusbink/Documents/dev/Top-Down-Object-Detection/env/lib/python3.10/site-packages (from tf-models-official>=2.5.1->object-detection==0.1) (2.2.3)\n",
      "Requirement already satisfied: pyyaml<6.0,>=5.1 in /Users/markusbink/Documents/dev/Top-Down-Object-Detection/env/lib/python3.10/site-packages (from tf-models-official>=2.5.1->object-detection==0.1) (5.4.1)\n",
      "Requirement already satisfied: psutil>=5.4.3 in /Users/markusbink/Documents/dev/Top-Down-Object-Detection/env/lib/python3.10/site-packages (from tf-models-official>=2.5.1->object-detection==0.1) (5.9.4)\n",
      "Requirement already satisfied: tensorflow-datasets in /Users/markusbink/Documents/dev/Top-Down-Object-Detection/env/lib/python3.10/site-packages (from tf-models-official>=2.5.1->object-detection==0.1) (4.7.0)\n",
      "Requirement already satisfied: py-cpuinfo>=3.3.0 in /Users/markusbink/Documents/dev/Top-Down-Object-Detection/env/lib/python3.10/site-packages (from tf-models-official>=2.5.1->object-detection==0.1) (9.0.0)\n",
      "Requirement already satisfied: kaggle>=1.3.9 in /Users/markusbink/Documents/dev/Top-Down-Object-Detection/env/lib/python3.10/site-packages (from tf-models-official>=2.5.1->object-detection==0.1) (1.5.12)\n",
      "Requirement already satisfied: opencv-python-headless in /Users/markusbink/Documents/dev/Top-Down-Object-Detection/env/lib/python3.10/site-packages (from tf-models-official>=2.5.1->object-detection==0.1) (4.6.0.66)\n",
      "Requirement already satisfied: tensorflow-model-optimization>=0.4.1 in /Users/markusbink/Documents/dev/Top-Down-Object-Detection/env/lib/python3.10/site-packages (from tf-models-official>=2.5.1->object-detection==0.1) (0.7.3)\n",
      "Requirement already satisfied: seqeval in /Users/markusbink/Documents/dev/Top-Down-Object-Detection/env/lib/python3.10/site-packages (from tf-models-official>=2.5.1->object-detection==0.1) (1.2.2)\n",
      "Requirement already satisfied: gin-config in /Users/markusbink/Documents/dev/Top-Down-Object-Detection/env/lib/python3.10/site-packages (from tf-models-official>=2.5.1->object-detection==0.1) (0.5.0)\n",
      "Requirement already satisfied: oauth2client in /Users/markusbink/Documents/dev/Top-Down-Object-Detection/env/lib/python3.10/site-packages (from tf-models-official>=2.5.1->object-detection==0.1) (4.1.3)\n",
      "Requirement already satisfied: sentencepiece in /Users/markusbink/Documents/dev/Top-Down-Object-Detection/env/lib/python3.10/site-packages (from tf-models-official>=2.5.1->object-detection==0.1) (0.1.97)\n",
      "Requirement already satisfied: tensorflow-hub>=0.6.0 in /Users/markusbink/Documents/dev/Top-Down-Object-Detection/env/lib/python3.10/site-packages (from tf-models-official>=2.5.1->object-detection==0.1) (0.12.0)\n",
      "Requirement already satisfied: google-api-python-client>=1.6.7 in /Users/markusbink/Documents/dev/Top-Down-Object-Detection/env/lib/python3.10/site-packages (from tf-models-official>=2.5.1->object-detection==0.1) (2.69.0)\n",
      "Requirement already satisfied: tensorflow-addons in /Users/markusbink/Documents/dev/Top-Down-Object-Detection/env/lib/python3.10/site-packages (from tf-models-official>=2.5.1->object-detection==0.1) (0.19.0)\n",
      "Requirement already satisfied: tensorflow-text~=2.10.0 in /Users/markusbink/Documents/dev/Top-Down-Object-Detection/env/lib/python3.10/site-packages (from tf-models-official>=2.5.1->object-detection==0.1) (2.10.0)\n",
      "Requirement already satisfied: tensorflow~=2.10.0 in /Users/markusbink/Documents/dev/Top-Down-Object-Detection/env/lib/python3.10/site-packages (from tf-models-official>=2.5.1->object-detection==0.1) (2.10.1)\n",
      "Requirement already satisfied: pytz>=2020.1 in /Users/markusbink/Documents/dev/Top-Down-Object-Detection/env/lib/python3.10/site-packages (from pandas->object-detection==0.1) (2022.6)\n",
      "Requirement already satisfied: python-dateutil>=2.8.1 in /Users/markusbink/Documents/dev/Top-Down-Object-Detection/env/lib/python3.10/site-packages (from pandas->object-detection==0.1) (2.8.2)\n",
      "Requirement already satisfied: absl-py>=0.2.2 in /Users/markusbink/Documents/dev/Top-Down-Object-Detection/env/lib/python3.10/site-packages (from tf-slim->object-detection==0.1) (1.3.0)\n"
     ]
    },
    {
     "name": "stdout",
     "output_type": "stream",
     "text": [
      "Requirement already satisfied: objsize<0.6.0,>=0.5.2 in /Users/markusbink/Documents/dev/Top-Down-Object-Detection/env/lib/python3.10/site-packages (from apache-beam->object-detection==0.1) (0.5.2)\n",
      "Requirement already satisfied: protobuf<3.19.5,>3.12.2 in /Users/markusbink/Documents/dev/Top-Down-Object-Detection/env/lib/python3.10/site-packages (from apache-beam->object-detection==0.1) (3.19.4)\n",
      "Requirement already satisfied: hdfs<3.0.0,>=2.1.0 in /Users/markusbink/Documents/dev/Top-Down-Object-Detection/env/lib/python3.10/site-packages (from apache-beam->object-detection==0.1) (2.7.0)\n",
      "Requirement already satisfied: grpcio!=1.48.0,<2,>=1.33.1 in /Users/markusbink/Documents/dev/Top-Down-Object-Detection/env/lib/python3.10/site-packages (from apache-beam->object-detection==0.1) (1.50.0)\n",
      "Requirement already satisfied: orjson<4.0 in /Users/markusbink/Documents/dev/Top-Down-Object-Detection/env/lib/python3.10/site-packages (from apache-beam->object-detection==0.1) (3.8.3)\n",
      "Requirement already satisfied: crcmod<2.0,>=1.7 in /Users/markusbink/Documents/dev/Top-Down-Object-Detection/env/lib/python3.10/site-packages (from apache-beam->object-detection==0.1) (1.7)\n",
      "Requirement already satisfied: zstandard<1,>=0.18.0 in /Users/markusbink/Documents/dev/Top-Down-Object-Detection/env/lib/python3.10/site-packages (from apache-beam->object-detection==0.1) (0.19.0)\n",
      "Requirement already satisfied: cloudpickle~=2.2.0 in /Users/markusbink/Documents/dev/Top-Down-Object-Detection/env/lib/python3.10/site-packages (from apache-beam->object-detection==0.1) (2.2.0)\n",
      "Requirement already satisfied: requests<3.0.0,>=2.24.0 in /Users/markusbink/Documents/dev/Top-Down-Object-Detection/env/lib/python3.10/site-packages (from apache-beam->object-detection==0.1) (2.28.1)\n",
      "Requirement already satisfied: typing-extensions>=3.7.0 in /Users/markusbink/Documents/dev/Top-Down-Object-Detection/env/lib/python3.10/site-packages (from apache-beam->object-detection==0.1) (4.4.0)\n",
      "Requirement already satisfied: fasteners<1.0,>=0.3 in /Users/markusbink/Documents/dev/Top-Down-Object-Detection/env/lib/python3.10/site-packages (from apache-beam->object-detection==0.1) (0.18)\n",
      "Requirement already satisfied: fastavro<2,>=0.23.6 in /Users/markusbink/Documents/dev/Top-Down-Object-Detection/env/lib/python3.10/site-packages (from apache-beam->object-detection==0.1) (1.7.0)\n",
      "Requirement already satisfied: httplib2<0.21.0,>=0.8 in /Users/markusbink/Documents/dev/Top-Down-Object-Detection/env/lib/python3.10/site-packages (from apache-beam->object-detection==0.1) (0.20.4)\n",
      "Requirement already satisfied: pymongo<4.0.0,>=3.8.0 in /Users/markusbink/Documents/dev/Top-Down-Object-Detection/env/lib/python3.10/site-packages (from apache-beam->object-detection==0.1) (3.13.0)\n",
      "Requirement already satisfied: pyarrow<10.0.0,>=0.15.1 in /Users/markusbink/Documents/dev/Top-Down-Object-Detection/env/lib/python3.10/site-packages (from apache-beam->object-detection==0.1) (9.0.0)\n",
      "Requirement already satisfied: proto-plus<2,>=1.7.1 in /Users/markusbink/Documents/dev/Top-Down-Object-Detection/env/lib/python3.10/site-packages (from apache-beam->object-detection==0.1) (1.22.1)\n",
      "Requirement already satisfied: pydot<2,>=1.2.0 in /Users/markusbink/Documents/dev/Top-Down-Object-Detection/env/lib/python3.10/site-packages (from apache-beam->object-detection==0.1) (1.4.2)\n",
      "Requirement already satisfied: dill<0.3.2,>=0.3.1.1 in /Users/markusbink/Documents/dev/Top-Down-Object-Detection/env/lib/python3.10/site-packages (from apache-beam->object-detection==0.1) (0.3.1.1)\n",
      "Requirement already satisfied: kiwisolver>=1.1.0 in /Users/markusbink/Documents/dev/Top-Down-Object-Detection/env/lib/python3.10/site-packages (from lvis->object-detection==0.1) (1.4.4)\n",
      "Requirement already satisfied: cycler>=0.10.0 in /Users/markusbink/Documents/dev/Top-Down-Object-Detection/env/lib/python3.10/site-packages (from lvis->object-detection==0.1) (0.11.0)\n",
      "Requirement already satisfied: opencv-python>=4.1.0.25 in /Users/markusbink/Documents/dev/Top-Down-Object-Detection/env/lib/python3.10/site-packages (from lvis->object-detection==0.1) (4.6.0.66)\n",
      "Requirement already satisfied: packaging>=20.0 in /Users/markusbink/Documents/dev/Top-Down-Object-Detection/env/lib/python3.10/site-packages (from matplotlib->object-detection==0.1) (21.3)\n",
      "Requirement already satisfied: fonttools>=4.22.0 in /Users/markusbink/Documents/dev/Top-Down-Object-Detection/env/lib/python3.10/site-packages (from matplotlib->object-detection==0.1) (4.38.0)\n",
      "Requirement already satisfied: tensorflow-io-gcs-filesystem==0.28.0 in /Users/markusbink/Documents/dev/Top-Down-Object-Detection/env/lib/python3.10/site-packages (from tensorflow_io->object-detection==0.1) (0.28.0)\n",
      "Requirement already satisfied: google-auth<3.0.0dev,>=1.19.0 in /Users/markusbink/Documents/dev/Top-Down-Object-Detection/env/lib/python3.10/site-packages (from google-api-python-client>=1.6.7->tf-models-official>=2.5.1->object-detection==0.1) (2.14.1)\n",
      "Requirement already satisfied: google-api-core!=2.0.*,!=2.1.*,!=2.2.*,!=2.3.0,<3.0.0dev,>=1.31.5 in /Users/markusbink/Documents/dev/Top-Down-Object-Detection/env/lib/python3.10/site-packages (from google-api-python-client>=1.6.7->tf-models-official>=2.5.1->object-detection==0.1) (2.8.2)\n",
      "Requirement already satisfied: uritemplate<5,>=3.0.1 in /Users/markusbink/Documents/dev/Top-Down-Object-Detection/env/lib/python3.10/site-packages (from google-api-python-client>=1.6.7->tf-models-official>=2.5.1->object-detection==0.1) (4.1.1)\n",
      "Requirement already satisfied: google-auth-httplib2>=0.1.0 in /Users/markusbink/Documents/dev/Top-Down-Object-Detection/env/lib/python3.10/site-packages (from google-api-python-client>=1.6.7->tf-models-official>=2.5.1->object-detection==0.1) (0.1.0)\n",
      "Requirement already satisfied: docopt in /Users/markusbink/Documents/dev/Top-Down-Object-Detection/env/lib/python3.10/site-packages (from hdfs<3.0.0,>=2.1.0->apache-beam->object-detection==0.1) (0.6.2)\n",
      "Requirement already satisfied: certifi in /Users/markusbink/Documents/dev/Top-Down-Object-Detection/env/lib/python3.10/site-packages (from kaggle>=1.3.9->tf-models-official>=2.5.1->object-detection==0.1) (2022.9.24)\n",
      "Requirement already satisfied: tqdm in /Users/markusbink/Documents/dev/Top-Down-Object-Detection/env/lib/python3.10/site-packages (from kaggle>=1.3.9->tf-models-official>=2.5.1->object-detection==0.1) (4.64.1)\n",
      "Requirement already satisfied: urllib3 in /Users/markusbink/Documents/dev/Top-Down-Object-Detection/env/lib/python3.10/site-packages (from kaggle>=1.3.9->tf-models-official>=2.5.1->object-detection==0.1) (1.26.12)\n",
      "Requirement already satisfied: python-slugify in /Users/markusbink/Documents/dev/Top-Down-Object-Detection/env/lib/python3.10/site-packages (from kaggle>=1.3.9->tf-models-official>=2.5.1->object-detection==0.1) (7.0.0)\n",
      "Requirement already satisfied: charset-normalizer<3,>=2 in /Users/markusbink/Documents/dev/Top-Down-Object-Detection/env/lib/python3.10/site-packages (from requests<3.0.0,>=2.24.0->apache-beam->object-detection==0.1) (2.1.1)\n",
      "Requirement already satisfied: idna<4,>=2.5 in /Users/markusbink/Documents/dev/Top-Down-Object-Detection/env/lib/python3.10/site-packages (from requests<3.0.0,>=2.24.0->apache-beam->object-detection==0.1) (3.4)\n",
      "Requirement already satisfied: gast<=0.4.0,>=0.2.1 in /Users/markusbink/Documents/dev/Top-Down-Object-Detection/env/lib/python3.10/site-packages (from tensorflow~=2.10.0->tf-models-official>=2.5.1->object-detection==0.1) (0.4.0)\n",
      "Requirement already satisfied: h5py>=2.9.0 in /Users/markusbink/Documents/dev/Top-Down-Object-Detection/env/lib/python3.10/site-packages (from tensorflow~=2.10.0->tf-models-official>=2.5.1->object-detection==0.1) (3.7.0)\n",
      "Requirement already satisfied: astunparse>=1.6.0 in /Users/markusbink/Documents/dev/Top-Down-Object-Detection/env/lib/python3.10/site-packages (from tensorflow~=2.10.0->tf-models-official>=2.5.1->object-detection==0.1) (1.6.3)\n",
      "Requirement already satisfied: google-pasta>=0.1.1 in /Users/markusbink/Documents/dev/Top-Down-Object-Detection/env/lib/python3.10/site-packages (from tensorflow~=2.10.0->tf-models-official>=2.5.1->object-detection==0.1) (0.2.0)\n",
      "Requirement already satisfied: keras-preprocessing>=1.1.1 in /Users/markusbink/Documents/dev/Top-Down-Object-Detection/env/lib/python3.10/site-packages (from tensorflow~=2.10.0->tf-models-official>=2.5.1->object-detection==0.1) (1.1.2)\n",
      "Requirement already satisfied: flatbuffers>=2.0 in /Users/markusbink/Documents/dev/Top-Down-Object-Detection/env/lib/python3.10/site-packages (from tensorflow~=2.10.0->tf-models-official>=2.5.1->object-detection==0.1) (23.1.21)\n",
      "Requirement already satisfied: opt-einsum>=2.3.2 in /Users/markusbink/Documents/dev/Top-Down-Object-Detection/env/lib/python3.10/site-packages (from tensorflow~=2.10.0->tf-models-official>=2.5.1->object-detection==0.1) (3.3.0)\n",
      "Requirement already satisfied: setuptools in /Users/markusbink/Documents/dev/Top-Down-Object-Detection/env/lib/python3.10/site-packages (from tensorflow~=2.10.0->tf-models-official>=2.5.1->object-detection==0.1) (65.5.0)\n",
      "Requirement already satisfied: tensorboard<2.11,>=2.10 in /Users/markusbink/Documents/dev/Top-Down-Object-Detection/env/lib/python3.10/site-packages (from tensorflow~=2.10.0->tf-models-official>=2.5.1->object-detection==0.1) (2.10.1)\n",
      "Requirement already satisfied: tensorflow-estimator<2.11,>=2.10.0 in /Users/markusbink/Documents/dev/Top-Down-Object-Detection/env/lib/python3.10/site-packages (from tensorflow~=2.10.0->tf-models-official>=2.5.1->object-detection==0.1) (2.10.0)\n",
      "Requirement already satisfied: libclang>=13.0.0 in /Users/markusbink/Documents/dev/Top-Down-Object-Detection/env/lib/python3.10/site-packages (from tensorflow~=2.10.0->tf-models-official>=2.5.1->object-detection==0.1) (14.0.6)\n",
      "Requirement already satisfied: wrapt>=1.11.0 in /Users/markusbink/Documents/dev/Top-Down-Object-Detection/env/lib/python3.10/site-packages (from tensorflow~=2.10.0->tf-models-official>=2.5.1->object-detection==0.1) (1.14.1)\n",
      "Requirement already satisfied: termcolor>=1.1.0 in /Users/markusbink/Documents/dev/Top-Down-Object-Detection/env/lib/python3.10/site-packages (from tensorflow~=2.10.0->tf-models-official>=2.5.1->object-detection==0.1) (2.1.1)\n",
      "Requirement already satisfied: dm-tree~=0.1.1 in /Users/markusbink/Documents/dev/Top-Down-Object-Detection/env/lib/python3.10/site-packages (from tensorflow-model-optimization>=0.4.1->tf-models-official>=2.5.1->object-detection==0.1) (0.1.7)\n"
     ]
    },
    {
     "name": "stdout",
     "output_type": "stream",
     "text": [
      "Requirement already satisfied: pyasn1-modules>=0.0.5 in /Users/markusbink/Documents/dev/Top-Down-Object-Detection/env/lib/python3.10/site-packages (from oauth2client->tf-models-official>=2.5.1->object-detection==0.1) (0.2.8)\n",
      "Requirement already satisfied: rsa>=3.1.4 in /Users/markusbink/Documents/dev/Top-Down-Object-Detection/env/lib/python3.10/site-packages (from oauth2client->tf-models-official>=2.5.1->object-detection==0.1) (4.9)\n",
      "Requirement already satisfied: pyasn1>=0.1.7 in /Users/markusbink/Documents/dev/Top-Down-Object-Detection/env/lib/python3.10/site-packages (from oauth2client->tf-models-official>=2.5.1->object-detection==0.1) (0.4.8)\n",
      "Requirement already satisfied: scikit-learn>=0.21.3 in /Users/markusbink/Documents/dev/Top-Down-Object-Detection/env/lib/python3.10/site-packages (from seqeval->tf-models-official>=2.5.1->object-detection==0.1) (1.1.3)\n",
      "Requirement already satisfied: typeguard>=2.7 in /Users/markusbink/Documents/dev/Top-Down-Object-Detection/env/lib/python3.10/site-packages (from tensorflow-addons->tf-models-official>=2.5.1->object-detection==0.1) (2.13.3)\n",
      "Requirement already satisfied: tensorflow-metadata in /Users/markusbink/Documents/dev/Top-Down-Object-Detection/env/lib/python3.10/site-packages (from tensorflow-datasets->tf-models-official>=2.5.1->object-detection==0.1) (1.12.0)\n",
      "Requirement already satisfied: promise in /Users/markusbink/Documents/dev/Top-Down-Object-Detection/env/lib/python3.10/site-packages (from tensorflow-datasets->tf-models-official>=2.5.1->object-detection==0.1) (2.3)\n",
      "Requirement already satisfied: etils[epath] in /Users/markusbink/Documents/dev/Top-Down-Object-Detection/env/lib/python3.10/site-packages (from tensorflow-datasets->tf-models-official>=2.5.1->object-detection==0.1) (0.9.0)\n",
      "Requirement already satisfied: toml in /Users/markusbink/Documents/dev/Top-Down-Object-Detection/env/lib/python3.10/site-packages (from tensorflow-datasets->tf-models-official>=2.5.1->object-detection==0.1) (0.10.2)\n",
      "Requirement already satisfied: wheel<1.0,>=0.23.0 in /Users/markusbink/Documents/dev/Top-Down-Object-Detection/env/lib/python3.10/site-packages (from astunparse>=1.6.0->tensorflow~=2.10.0->tf-models-official>=2.5.1->object-detection==0.1) (0.37.1)\n",
      "Requirement already satisfied: googleapis-common-protos<2.0dev,>=1.56.2 in /Users/markusbink/Documents/dev/Top-Down-Object-Detection/env/lib/python3.10/site-packages (from google-api-core!=2.0.*,!=2.1.*,!=2.2.*,!=2.3.0,<3.0.0dev,>=1.31.5->google-api-python-client>=1.6.7->tf-models-official>=2.5.1->object-detection==0.1) (1.56.4)\n",
      "Requirement already satisfied: cachetools<6.0,>=2.0.0 in /Users/markusbink/Documents/dev/Top-Down-Object-Detection/env/lib/python3.10/site-packages (from google-auth<3.0.0dev,>=1.19.0->google-api-python-client>=1.6.7->tf-models-official>=2.5.1->object-detection==0.1) (5.2.0)\n",
      "Requirement already satisfied: threadpoolctl>=2.0.0 in /Users/markusbink/Documents/dev/Top-Down-Object-Detection/env/lib/python3.10/site-packages (from scikit-learn>=0.21.3->seqeval->tf-models-official>=2.5.1->object-detection==0.1) (3.1.0)\n",
      "Requirement already satisfied: joblib>=1.0.0 in /Users/markusbink/Documents/dev/Top-Down-Object-Detection/env/lib/python3.10/site-packages (from scikit-learn>=0.21.3->seqeval->tf-models-official>=2.5.1->object-detection==0.1) (1.2.0)\n",
      "Requirement already satisfied: markdown>=2.6.8 in /Users/markusbink/Documents/dev/Top-Down-Object-Detection/env/lib/python3.10/site-packages (from tensorboard<2.11,>=2.10->tensorflow~=2.10.0->tf-models-official>=2.5.1->object-detection==0.1) (3.4.1)\n",
      "Requirement already satisfied: google-auth-oauthlib<0.5,>=0.4.1 in /Users/markusbink/Documents/dev/Top-Down-Object-Detection/env/lib/python3.10/site-packages (from tensorboard<2.11,>=2.10->tensorflow~=2.10.0->tf-models-official>=2.5.1->object-detection==0.1) (0.4.6)\n",
      "Requirement already satisfied: tensorboard-plugin-wit>=1.6.0 in /Users/markusbink/Documents/dev/Top-Down-Object-Detection/env/lib/python3.10/site-packages (from tensorboard<2.11,>=2.10->tensorflow~=2.10.0->tf-models-official>=2.5.1->object-detection==0.1) (1.8.1)\n",
      "Requirement already satisfied: werkzeug>=1.0.1 in /Users/markusbink/Documents/dev/Top-Down-Object-Detection/env/lib/python3.10/site-packages (from tensorboard<2.11,>=2.10->tensorflow~=2.10.0->tf-models-official>=2.5.1->object-detection==0.1) (2.2.2)\n",
      "Requirement already satisfied: tensorboard-data-server<0.7.0,>=0.6.0 in /Users/markusbink/Documents/dev/Top-Down-Object-Detection/env/lib/python3.10/site-packages (from tensorboard<2.11,>=2.10->tensorflow~=2.10.0->tf-models-official>=2.5.1->object-detection==0.1) (0.6.1)\n",
      "Requirement already satisfied: importlib_resources in /Users/markusbink/Documents/dev/Top-Down-Object-Detection/env/lib/python3.10/site-packages (from etils[epath]->tensorflow-datasets->tf-models-official>=2.5.1->object-detection==0.1) (5.10.1)\n",
      "Requirement already satisfied: zipp in /Users/markusbink/Documents/dev/Top-Down-Object-Detection/env/lib/python3.10/site-packages (from etils[epath]->tensorflow-datasets->tf-models-official>=2.5.1->object-detection==0.1) (3.11.0)\n",
      "Requirement already satisfied: text-unidecode>=1.3 in /Users/markusbink/Documents/dev/Top-Down-Object-Detection/env/lib/python3.10/site-packages (from python-slugify->kaggle>=1.3.9->tf-models-official>=2.5.1->object-detection==0.1) (1.3)\n",
      "Requirement already satisfied: requests-oauthlib>=0.7.0 in /Users/markusbink/Documents/dev/Top-Down-Object-Detection/env/lib/python3.10/site-packages (from google-auth-oauthlib<0.5,>=0.4.1->tensorboard<2.11,>=2.10->tensorflow~=2.10.0->tf-models-official>=2.5.1->object-detection==0.1) (1.3.1)\n",
      "Requirement already satisfied: MarkupSafe>=2.1.1 in /Users/markusbink/Documents/dev/Top-Down-Object-Detection/env/lib/python3.10/site-packages (from werkzeug>=1.0.1->tensorboard<2.11,>=2.10->tensorflow~=2.10.0->tf-models-official>=2.5.1->object-detection==0.1) (2.1.1)\n",
      "Requirement already satisfied: oauthlib>=3.0.0 in /Users/markusbink/Documents/dev/Top-Down-Object-Detection/env/lib/python3.10/site-packages (from requests-oauthlib>=0.7.0->google-auth-oauthlib<0.5,>=0.4.1->tensorboard<2.11,>=2.10->tensorflow~=2.10.0->tf-models-official>=2.5.1->object-detection==0.1) (3.2.2)\n",
      "Building wheels for collected packages: object-detection\n",
      "  Building wheel for object-detection (setup.py) ... \u001b[?25ldone\n",
      "\u001b[?25h  Created wheel for object-detection: filename=object_detection-0.1-py3-none-any.whl size=1609573 sha256=2fbba0d99802a97d7013e8bceeac91bf80ba82143eced8d6a1f80811aae0db55\n",
      "  Stored in directory: /private/var/folders/h5/hp2v99qn73g0fwqq5k_93vlr0000gn/T/pip-ephem-wheel-cache-ledu0m4x/wheels/20/92/f4/49dc76a1b4c63dedc633e05d5c86eb1f19908f8badbe7ed65a\n",
      "Successfully built object-detection\n",
      "Installing collected packages: object-detection\n",
      "  Attempting uninstall: object-detection\n",
      "    Found existing installation: object-detection 0.1\n",
      "    Uninstalling object-detection-0.1:\n",
      "      Successfully uninstalled object-detection-0.1\n",
      "Successfully installed object-detection-0.1\n",
      "\n",
      "\u001b[1m[\u001b[0m\u001b[34;49mnotice\u001b[0m\u001b[1;39;49m]\u001b[0m\u001b[39;49m A new release of pip available: \u001b[0m\u001b[31;49m22.3\u001b[0m\u001b[39;49m -> \u001b[0m\u001b[32;49m23.0\u001b[0m\n",
      "\u001b[1m[\u001b[0m\u001b[34;49mnotice\u001b[0m\u001b[1;39;49m]\u001b[0m\u001b[39;49m To update, run: \u001b[0m\u001b[32;49mpip install --upgrade pip\u001b[0m\n"
     ]
    }
   ],
   "source": [
    "!cp object_detection/packages/tf2/setup.py .\n",
    "!pip install ."
   ]
  },
  {
   "cell_type": "code",
   "execution_count": 6,
   "id": "22c518b5",
   "metadata": {},
   "outputs": [
    {
     "name": "stdout",
     "output_type": "stream",
     "text": [
      "rm: opt/conda/lib/python3.9/site-packages/tensorflow/core/kernels/libtfkernel_sobol_op.so: No such file or directory\r\n"
     ]
    }
   ],
   "source": [
    "# Remove this file since it prevents the API to work in the Schlaubox\n",
    "!rm opt/conda/lib/python3.9/site-packages/tensorflow/core/kernels/libtfkernel_sobol_op.so"
   ]
  },
  {
   "cell_type": "code",
   "execution_count": 7,
   "id": "372edf3b",
   "metadata": {},
   "outputs": [
    {
     "name": "stdout",
     "output_type": "stream",
     "text": [
      "/Users/markusbink/Documents/dev/Top-Down-Object-Detection/03-Model-Training/EfficientDet\n"
     ]
    }
   ],
   "source": [
    "%cd ../.."
   ]
  },
  {
   "cell_type": "markdown",
   "id": "86ba8295",
   "metadata": {},
   "source": [
    "### Generate TF Records\n",
    "TFRecords are used to train object detection models using the Tensorflow Object Detection API. These records combine both the image and annotation data into one singular file. \n",
    "\n",
    "We need to create 3 different TFRecords, one for each split (train, validation, test).\n",
    "\n",
    "Once created, you can simply copy the files from the ***data directory*** to the server of your choice, where you are training the model (e.g. Schlaubox, Google Colab, etc.)"
   ]
  },
  {
   "cell_type": "code",
   "execution_count": 5,
   "id": "329f1e55",
   "metadata": {},
   "outputs": [
    {
     "name": "stdout",
     "output_type": "stream",
     "text": [
      "/Users/markusbink/Documents/dev/Top-Down-Object-Detection/env/lib/python3.10/site-packages/tensorflow_io/python/ops/__init__.py:98: UserWarning: unable to load libtensorflow_io_plugins.so: unable to open file: libtensorflow_io_plugins.so, from paths: ['/Users/markusbink/Documents/dev/Top-Down-Object-Detection/env/lib/python3.10/site-packages/tensorflow_io/python/ops/libtensorflow_io_plugins.so']\n",
      "caused by: [\"dlopen(/Users/markusbink/Documents/dev/Top-Down-Object-Detection/env/lib/python3.10/site-packages/tensorflow_io/python/ops/libtensorflow_io_plugins.so, 0x0006): symbol not found in flat namespace '__ZN3tsl2io7DirnameENSt3__117basic_string_viewIcNS1_11char_traitsIcEEEE'\"]\n",
      "  warnings.warn(f\"unable to load libtensorflow_io_plugins.so: {e}\")\n",
      "/Users/markusbink/Documents/dev/Top-Down-Object-Detection/env/lib/python3.10/site-packages/tensorflow_io/python/ops/__init__.py:104: UserWarning: file system plugins are not loaded: unable to open file: libtensorflow_io.so, from paths: ['/Users/markusbink/Documents/dev/Top-Down-Object-Detection/env/lib/python3.10/site-packages/tensorflow_io/python/ops/libtensorflow_io.so']\n",
      "caused by: [\"dlopen(/Users/markusbink/Documents/dev/Top-Down-Object-Detection/env/lib/python3.10/site-packages/tensorflow_io/python/ops/libtensorflow_io.so, 0x0006): symbol not found in flat namespace '__ZN10tensorflow12OpDefBuilder10SetShapeFnENSt3__18functionIFN3tsl6StatusEPNS_15shape_inference16InferenceContextEEEE'\"]\n",
      "  warnings.warn(f\"file system plugins are not loaded: {e}\")\n",
      "                                   filename  width  height  ... ymin  xmax  ymax\n",
      "0  05701562-a920-11ed-b1ca-21b471c85555.png   1280     720  ...  306   473   408\n",
      "1  55433db6-a7b9-11ed-90ca-bf9ebf562902.png   1280     720  ...  436   923   517\n",
      "2  95776b22-a7ba-11ed-90ca-bf9ebf562902.png   1280     720  ...  541   801   621\n",
      "3  90d9f36e-a927-11ed-b1ca-21b471c85555.png   1280     720  ...  168   828   329\n",
      "4  574bc54c-a7af-11ed-90ca-bf9ebf562902.png   1280     720  ...  536   699   603\n",
      "\n",
      "[5 rows x 8 columns]\n",
      "Successfully created the TFRecord file: data/train.tfrecord\n",
      "/Users/markusbink/Documents/dev/Top-Down-Object-Detection/env/lib/python3.10/site-packages/tensorflow_io/python/ops/__init__.py:98: UserWarning: unable to load libtensorflow_io_plugins.so: unable to open file: libtensorflow_io_plugins.so, from paths: ['/Users/markusbink/Documents/dev/Top-Down-Object-Detection/env/lib/python3.10/site-packages/tensorflow_io/python/ops/libtensorflow_io_plugins.so']\n",
      "caused by: [\"dlopen(/Users/markusbink/Documents/dev/Top-Down-Object-Detection/env/lib/python3.10/site-packages/tensorflow_io/python/ops/libtensorflow_io_plugins.so, 0x0006): symbol not found in flat namespace '__ZN3tsl2io7DirnameENSt3__117basic_string_viewIcNS1_11char_traitsIcEEEE'\"]\n",
      "  warnings.warn(f\"unable to load libtensorflow_io_plugins.so: {e}\")\n",
      "/Users/markusbink/Documents/dev/Top-Down-Object-Detection/env/lib/python3.10/site-packages/tensorflow_io/python/ops/__init__.py:104: UserWarning: file system plugins are not loaded: unable to open file: libtensorflow_io.so, from paths: ['/Users/markusbink/Documents/dev/Top-Down-Object-Detection/env/lib/python3.10/site-packages/tensorflow_io/python/ops/libtensorflow_io.so']\n",
      "caused by: [\"dlopen(/Users/markusbink/Documents/dev/Top-Down-Object-Detection/env/lib/python3.10/site-packages/tensorflow_io/python/ops/libtensorflow_io.so, 0x0006): symbol not found in flat namespace '__ZN10tensorflow12OpDefBuilder10SetShapeFnENSt3__18functionIFN3tsl6StatusEPNS_15shape_inference16InferenceContextEEEE'\"]\n",
      "  warnings.warn(f\"file system plugins are not loaded: {e}\")\n",
      "                                   filename  width  height  ... ymin  xmax  ymax\n",
      "0  858cee02-a7c0-11ed-90ca-bf9ebf562902.png   1280     720  ...  208   915   282\n",
      "1  851cdefe-a91f-11ed-b1ca-21b471c85555.png   1280     720  ...  206   900   294\n",
      "2  b4da43cc-a706-11ed-b191-510e205b9dbb.png   1280     720  ...  128   546   170\n",
      "3  389804d0-a926-11ed-b1ca-21b471c85555.png   1280     720  ...  500   509   638\n",
      "4  3e199f7c-a7b9-11ed-90ca-bf9ebf562902.png   1280     720  ...  430   485   506\n",
      "\n",
      "[5 rows x 8 columns]\n",
      "Successfully created the TFRecord file: data/val.tfrecord\n",
      "/Users/markusbink/Documents/dev/Top-Down-Object-Detection/env/lib/python3.10/site-packages/tensorflow_io/python/ops/__init__.py:98: UserWarning: unable to load libtensorflow_io_plugins.so: unable to open file: libtensorflow_io_plugins.so, from paths: ['/Users/markusbink/Documents/dev/Top-Down-Object-Detection/env/lib/python3.10/site-packages/tensorflow_io/python/ops/libtensorflow_io_plugins.so']\n",
      "caused by: [\"dlopen(/Users/markusbink/Documents/dev/Top-Down-Object-Detection/env/lib/python3.10/site-packages/tensorflow_io/python/ops/libtensorflow_io_plugins.so, 0x0006): symbol not found in flat namespace '__ZN3tsl2io7DirnameENSt3__117basic_string_viewIcNS1_11char_traitsIcEEEE'\"]\n",
      "  warnings.warn(f\"unable to load libtensorflow_io_plugins.so: {e}\")\n",
      "/Users/markusbink/Documents/dev/Top-Down-Object-Detection/env/lib/python3.10/site-packages/tensorflow_io/python/ops/__init__.py:104: UserWarning: file system plugins are not loaded: unable to open file: libtensorflow_io.so, from paths: ['/Users/markusbink/Documents/dev/Top-Down-Object-Detection/env/lib/python3.10/site-packages/tensorflow_io/python/ops/libtensorflow_io.so']\n",
      "caused by: [\"dlopen(/Users/markusbink/Documents/dev/Top-Down-Object-Detection/env/lib/python3.10/site-packages/tensorflow_io/python/ops/libtensorflow_io.so, 0x0006): symbol not found in flat namespace '__ZN10tensorflow12OpDefBuilder10SetShapeFnENSt3__18functionIFN3tsl6StatusEPNS_15shape_inference16InferenceContextEEEE'\"]\n",
      "  warnings.warn(f\"file system plugins are not loaded: {e}\")\n",
      "Successfully created the TFRecord file: data/test.tfrecord\n"
     ]
    }
   ],
   "source": [
    "!python {'scripts/generate_tfrecord.py'} -x {TRAIN_PATH} -l {'data/label_map.pbtxt'} -o {'data/train.tfrecord'}\n",
    "!python {'scripts/generate_tfrecord.py'} -x {VAL_PATH} -l {'data/label_map.pbtxt'} -o {'data/val.tfrecord'}\n",
    "!python {'scripts/generate_tfrecord.py'} -x {TEST_PATH} -l {'data/label_map.pbtxt'} -o {'data/test.tfrecord'}"
   ]
  },
  {
   "cell_type": "code",
   "execution_count": null,
   "id": "24dd075d",
   "metadata": {},
   "outputs": [],
   "source": []
  }
 ],
 "metadata": {
  "kernelspec": {
   "display_name": "env",
   "language": "python",
   "name": "env"
  },
  "language_info": {
   "codemirror_mode": {
    "name": "ipython",
    "version": 3
   },
   "file_extension": ".py",
   "mimetype": "text/x-python",
   "name": "python",
   "nbconvert_exporter": "python",
   "pygments_lexer": "ipython3",
   "version": "3.10.6"
  }
 },
 "nbformat": 4,
 "nbformat_minor": 5
}
