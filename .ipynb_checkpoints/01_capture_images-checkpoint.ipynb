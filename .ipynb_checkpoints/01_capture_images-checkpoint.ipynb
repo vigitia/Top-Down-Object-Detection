{
 "cells": [
  {
   "cell_type": "code",
   "execution_count": 1,
   "id": "57c726ac",
   "metadata": {},
   "outputs": [],
   "source": [
    "# !pip install opencv-python"
   ]
  },
  {
   "cell_type": "code",
   "execution_count": 2,
   "id": "c2bba642",
   "metadata": {},
   "outputs": [],
   "source": [
    "import os\n",
    "import time\n",
    "import uuid\n",
    "import cv2"
   ]
  },
  {
   "cell_type": "code",
   "execution_count": 7,
   "id": "2794ec46",
   "metadata": {},
   "outputs": [],
   "source": [
    "IMAGE_PATH = os.path.join(\"DataCollection\", \"images\")\n",
    "OBJECT_CLASS = \"glasses\"\n",
    "\n",
    "OBJECT_PATH = os.path.join(IMAGE_PATH, OBJECT_CLASS)"
   ]
  },
  {
   "cell_type": "code",
   "execution_count": 8,
   "id": "9778f8ad",
   "metadata": {},
   "outputs": [],
   "source": [
    "# Create images folder\n",
    "if not os.path.exists(IMAGE_PATH):\n",
    "    os.mkdir(IMAGE_PATH)\n",
    "\n",
    "# Create folder for object\n",
    "if not os.path.exists(OBJECT_PATH):\n",
    "    os.mkdir(OBJECT_PATH)"
   ]
  },
  {
   "cell_type": "code",
   "execution_count": 4,
   "id": "a20218db",
   "metadata": {},
   "outputs": [],
   "source": [
    "cap = cv2.VideoCapture(0)\n",
    "\n",
    "while True:\n",
    "    _, frame = cap.read()\n",
    "    \n",
    "    cv2.imshow('Capture Images', frame)\n",
    "    \n",
    "    # Save an image if 'm' key is pressed\n",
    "    if cv2.waitKey(1) & 0xFF == ord('m'):\n",
    "        file_name = f'{str(uuid.uuid1())}.jpg'\n",
    "        img_name = os.path.join(IMAGE_PATH,OBJECT_CLASS, file_name)\n",
    "        cv2.imwrite(img_name, frame)\n",
    "\n",
    "    # Stop image capture if 'q' key is pressed\n",
    "    if cv2.waitKey(1) & 0xFF == ord('q'):\n",
    "        break\n",
    "        \n",
    "cap.release()\n",
    "cv2.destroyAllWindows()"
   ]
  }
 ],
 "metadata": {
  "kernelspec": {
   "display_name": "env",
   "language": "python",
   "name": "env"
  },
  "language_info": {
   "codemirror_mode": {
    "name": "ipython",
    "version": 3
   },
   "file_extension": ".py",
   "mimetype": "text/x-python",
   "name": "python",
   "nbconvert_exporter": "python",
   "pygments_lexer": "ipython3",
   "version": "3.10.6"
  }
 },
 "nbformat": 4,
 "nbformat_minor": 5
}
