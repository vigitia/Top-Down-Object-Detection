{
 "cells": [
  {
   "cell_type": "markdown",
   "id": "d0e58144",
   "metadata": {},
   "source": [
    "### Load packages"
   ]
  },
  {
   "cell_type": "code",
   "execution_count": 8,
   "id": "bc3ece9c",
   "metadata": {},
   "outputs": [],
   "source": [
    "import xml.etree.ElementTree as ET\n",
    "import os\n",
    "from sklearn.model_selection import train_test_split"
   ]
  },
  {
   "cell_type": "markdown",
   "id": "e7068790",
   "metadata": {},
   "source": [
    "### Setup"
   ]
  },
  {
   "cell_type": "code",
   "execution_count": 22,
   "id": "6e1ed1f0",
   "metadata": {},
   "outputs": [],
   "source": [
    "DATA_PATH = os.path.abspath(os.path.join(\"../../../..\", \"Seafile\", \"Detecting-Objects\", \"DataCollection\"))\n",
    "IMAGE_PATH = os.path.join(DATA_PATH, \"images\")\n",
    "LABEL_PATH = os.path.join(DATA_PATH, \"labels\")\n",
    "\n",
    "TRAIN_PATH = os.path.join(DATA_PATH, 'splits', 'train')\n",
    "VAL_PATH = os.path.join(DATA_PATH, 'splits', 'val')\n",
    "TEST_PATH = os.path.join(DATA_PATH, 'splits', 'test')\n",
    "\n",
    "TRAIN_SPLIT = 0.7\n",
    "VAL_SPLIT = 0.2\n",
    "TEST_SPLIT = 0.1"
   ]
  },
  {
   "cell_type": "markdown",
   "id": "edbec99e",
   "metadata": {},
   "source": [
    "### Split data"
   ]
  },
  {
   "cell_type": "code",
   "execution_count": 21,
   "id": "3fa52329",
   "metadata": {},
   "outputs": [],
   "source": [
    "# Create train, test, val partition from our 3 classes (rock, paper, scissors)\n",
    "def create_partition(image_path):\n",
    "    for folder in os.listdir(image_path):\n",
    "        if folder.startswith('.') or folder.startswith('_'):\n",
    "            continue\n",
    "        \n",
    "        # Read images and labels from directory\n",
    "        images = [image for image in os.listdir(os.path.join(IMAGE_PATH, folder, 'rgb')) if not image.startswith('.')]\n",
    "        labels = [label for label in os.listdir(os.path.join(IMAGE_PATH, folder, 'pascal_voc')) if not label.startswith('.')]\n",
    "        \n",
    "        # Split into train test validation set. From: https://datascience.stackexchange.com/a/53161\n",
    "        X_train, X_test, y_train, y_test = train_test_split(images, labels, test_size=1 - TRAIN_SPLIT, random_state=1337)\n",
    "        X_val, X_test, y_val, y_test = train_test_split(X_test, y_test, test_size=TEST_SPLIT / (TEST_SPLIT + VAL_SPLIT), random_state=1337)        \n",
    "        \n",
    "        # Create folder \n",
    "        for folder_path in [TRAIN_PATH, TEST_PATH, VAL_PATH]:            \n",
    "            if not os.path.exists(folder_path):\n",
    "                os.mkdir(folder_path)\n",
    "        \n",
    "        # Copy files and labels to train, test, val folders\n",
    "        for file_name in X_train:\n",
    "            shutil.copy(os.path.join(IMAGE_PATH, folder, 'rgb', file_name), TRAIN_PATH)\n",
    "            shutil.copy(os.path.join(IMAGE_PATH, folder, 'pascal_voc', f\"{file_name.split('.')[0]}.xml\"), TRAIN_PATH)\n",
    "            \n",
    "        for file_name in X_test:\n",
    "            shutil.copy(os.path.join(IMAGE_PATH, folder, 'rgb', file_name), TEST_PATH)\n",
    "            shutil.copy(os.path.join(IMAGE_PATH, folder, 'pascal_voc', f\"{file_name.split('.')[0]}.xml\"), TEST_PATH)\n",
    "            \n",
    "        for file_name in X_val:\n",
    "            shutil.copy(os.path.join(IMAGE_PATH, folder, 'rgb', file_name), VAL_PATH)\n",
    "            shutil.copy(os.path.join(IMAGE_PATH, folder, 'pascal_voc', f\"{file_name.split('.')[0]}.xml\"), VAL_PATH)\n",
    "            \n",
    "create_partition(IMAGE_PATH)"
   ]
  },
  {
   "cell_type": "code",
   "execution_count": null,
   "id": "c6e98c18",
   "metadata": {},
   "outputs": [],
   "source": []
  }
 ],
 "metadata": {
  "kernelspec": {
   "display_name": "env",
   "language": "python",
   "name": "env"
  },
  "language_info": {
   "codemirror_mode": {
    "name": "ipython",
    "version": 3
   },
   "file_extension": ".py",
   "mimetype": "text/x-python",
   "name": "python",
   "nbconvert_exporter": "python",
   "pygments_lexer": "ipython3",
   "version": "3.10.6"
  }
 },
 "nbformat": 4,
 "nbformat_minor": 5
}
