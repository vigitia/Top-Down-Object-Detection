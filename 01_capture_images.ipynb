{
 "cells": [
  {
   "cell_type": "code",
   "execution_count": null,
   "id": "a4a17783",
   "metadata": {},
   "outputs": [],
   "source": [
    "# !pip install opencv-python"
   ]
  },
  {
   "cell_type": "code",
   "execution_count": null,
   "id": "5346d19d",
   "metadata": {},
   "outputs": [],
   "source": [
    "import os\n",
    "import time\n",
    "import uuid\n",
    "import cv2"
   ]
  },
  {
   "cell_type": "code",
   "execution_count": null,
   "id": "4de0619d",
   "metadata": {},
   "outputs": [],
   "source": [
    "IMAGE_PATH = os.path.join(\"DataCollection\", \"images\")\n",
    "OBJECT_CLASS = \"test\"\n",
    "\n",
    "OBJECT_PATH = os.path.join(IMAGE_PATH, OBJECT_CLASS)"
   ]
  },
  {
   "cell_type": "code",
   "execution_count": null,
   "id": "1a25ed72",
   "metadata": {},
   "outputs": [],
   "source": [
    "# Create images folder\n",
    "if not os.path.exists(IMAGE_PATH):\n",
    "    os.mkdir(IMAGE_PATH)\n",
    "\n",
    "# Create folder for object\n",
    "if not os.path.exists(OBJECT_PATH):\n",
    "    os.mkdir(OBJECT_PATH)"
   ]
  },
  {
   "cell_type": "markdown",
   "id": "b1b2b937",
   "metadata": {},
   "source": [
    "## Capture Images from a single camera"
   ]
  },
  {
   "cell_type": "code",
   "execution_count": null,
   "id": "9562fd76",
   "metadata": {},
   "outputs": [],
   "source": [
    "cap = cv2.VideoCapture(0)\n",
    "\n",
    "while True:\n",
    "    _, frame = cap.read()\n",
    "    \n",
    "    frame = cv2.flip(frame,1)\n",
    "    cv2.imshow('Capture Images', frame)\n",
    "    \n",
    "    key = cv2.waitKey(1) & 0xFF\n",
    "    # Save an image if 'm' key is pressed\n",
    "    if key == ord('m'):\n",
    "        file_name = f'{str(uuid.uuid1())}.jpg'\n",
    "        img_name = os.path.join(OBJECT_PATH, file_name)\n",
    "        cv2.imwrite(img_name, frame)\n",
    "\n",
    "    # Stop image capture if 'q' key is pressed\n",
    "    if key == ord('q'):\n",
    "        break\n",
    "        \n",
    "cap.release()\n",
    "cv2.destroyAllWindows()"
   ]
  },
  {
   "cell_type": "markdown",
   "id": "2b1e8c23",
   "metadata": {},
   "source": [
    "## Capture Images from multiple cameras\n",
    "\n",
    "This is only needed if images from multiple cameras should be captured at the same time e.g. RGB Image and Depth Image"
   ]
  },
  {
   "cell_type": "code",
   "execution_count": null,
   "id": "fa9fa549",
   "metadata": {},
   "outputs": [],
   "source": [
    "# !pip install vidgear"
   ]
  },
  {
   "cell_type": "code",
   "execution_count": null,
   "id": "8810a89b",
   "metadata": {},
   "outputs": [],
   "source": [
    "RGB_IMAGE_PATH = os.path.join(OBJECT_PATH, \"rgb\")\n",
    "DEPTH_IMAGE_PATH = os.path.join(OBJECT_PATH, \"depth\")"
   ]
  },
  {
   "cell_type": "code",
   "execution_count": null,
   "id": "3a2dbff4",
   "metadata": {},
   "outputs": [],
   "source": [
    "# Create folder for rgb and depth images\n",
    "if not os.path.exists(RGB_IMAGE_PATH):\n",
    "    os.mkdir(RGB_IMAGE_PATH)\n",
    "    \n",
    "if not os.path.exists(DEPTH_IMAGE_PATH):\n",
    "    os.mkdir(DEPTH_IMAGE_PATH)"
   ]
  },
  {
   "cell_type": "code",
   "execution_count": null,
   "id": "5c5c2a63",
   "metadata": {},
   "outputs": [],
   "source": [
    "from vidgear.gears import VideoGear\n",
    "\n",
    "# Get multiple video streams\n",
    "stream1 = VideoGear(source=0, logging=True).start() \n",
    "stream2 = VideoGear(source=1, logging=True).start() \n",
    "\n",
    "while True:    \n",
    "    frame1 = stream1.read()\n",
    "    frame2 = stream2.read()\n",
    "\n",
    "    if frame1 is None or frame2 is None:\n",
    "        break\n",
    "    \n",
    "    cv2.imshow(\"Capture Frame1\", frame1)\n",
    "    cv2.imshow(\"Capture Frame2\", frame2)\n",
    "\n",
    "    key = cv2.waitKey(1) & 0xFF\n",
    "    # Save an image if 'm' key is pressed\n",
    "    if key == ord(\"m\"):\n",
    "        file_name = f'{str(uuid.uuid1())}.jpg'\n",
    "        rgb_img_name = os.path.join(RGB_IMAGE_PATH, file_name)\n",
    "        depth_img_name = os.path.join(DEPTH_IMAGE_PATH, file_name)\n",
    "        \n",
    "        cv2.imwrite(rgb_img_name, frame1)\n",
    "        cv2.imwrite(depth_img_name, frame2)\n",
    "        \n",
    "    # Stop image capture if 'q' key is pressed\n",
    "    if key == ord(\"q\"):\n",
    "        break\n",
    "\n",
    "cv2.destroyAllWindows()\n",
    "\n",
    "stream1.stop()\n",
    "stream2.stop()"
   ]
  }
 ],
 "metadata": {
  "kernelspec": {
   "display_name": "env",
   "language": "python",
   "name": "env"
  },
  "language_info": {
   "codemirror_mode": {
    "name": "ipython",
    "version": 3
   },
   "file_extension": ".py",
   "mimetype": "text/x-python",
   "name": "python",
   "nbconvert_exporter": "python",
   "pygments_lexer": "ipython3",
   "version": "3.10.6"
  }
 },
 "nbformat": 4,
 "nbformat_minor": 5
}
