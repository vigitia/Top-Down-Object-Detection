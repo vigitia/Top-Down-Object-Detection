{
 "cells": [
  {
   "cell_type": "code",
   "execution_count": null,
   "id": "549eaf10",
   "metadata": {},
   "outputs": [],
   "source": [
    "# !pip install opencv-python\n",
    "# !pip install k4a\n",
    "# !pip install open3d"
   ]
  },
  {
   "cell_type": "code",
   "execution_count": 1,
   "id": "355ff613",
   "metadata": {},
   "outputs": [],
   "source": [
    "import os\n",
    "import time\n",
    "import uuid\n",
    "import cv2\n",
    "import numpy as np\n",
    "# import k4a"
   ]
  },
  {
   "cell_type": "code",
   "execution_count": 2,
   "id": "a86f5544",
   "metadata": {},
   "outputs": [],
   "source": [
    "IMAGE_PATH = os.path.join(\"DataCollection\", \"images\")\n",
    "OBJECT_CLASS = \"test\"\n",
    "\n",
    "OBJECT_PATH = os.path.join(IMAGE_PATH, OBJECT_CLASS)"
   ]
  },
  {
   "cell_type": "code",
   "execution_count": 3,
   "id": "1c824b5a",
   "metadata": {},
   "outputs": [],
   "source": [
    "# Create images folder\n",
    "if not os.path.exists(IMAGE_PATH):\n",
    "    os.mkdir(IMAGE_PATH)\n",
    "\n",
    "# Create folder for object\n",
    "if not os.path.exists(OBJECT_PATH):\n",
    "    os.mkdir(OBJECT_PATH)"
   ]
  },
  {
   "cell_type": "markdown",
   "id": "bc59ddc9",
   "metadata": {},
   "source": [
    "## Capture Images from a single camera"
   ]
  },
  {
   "cell_type": "code",
   "execution_count": 6,
   "id": "d9ffd3a8",
   "metadata": {},
   "outputs": [],
   "source": [
    "# 0: RGB Azure Kinect\n",
    "# 2: Sony Alpha\n",
    "\n",
    "cap = cv2.VideoCapture(0)\n",
    "\n",
    "while True:\n",
    "    _, frame = cap.read()\n",
    "    \n",
    "    frame = cv2.flip(frame,1)\n",
    "    cv2.imshow('Capture Images', frame)\n",
    "    \n",
    "    key = cv2.waitKey(1) & 0xFF\n",
    "    # Save an image if 'm' key is pressed\n",
    "    if key == ord('m'):\n",
    "        file_name = f'{str(uuid.uuid1())}.jpg'\n",
    "        img_name = os.path.join(OBJECT_PATH, file_name)\n",
    "        cv2.imwrite(img_name, frame)\n",
    "\n",
    "    # Stop image capture if 'q' key is pressed\n",
    "    if key == ord('q'):\n",
    "        break\n",
    "        \n",
    "cap.release()\n",
    "cv2.destroyAllWindows()"
   ]
  },
  {
   "cell_type": "markdown",
   "id": "4e6398ab",
   "metadata": {},
   "source": [
    "## Capture Images from multiple cameras\n",
    "\n",
    "This is only needed if images from multiple cameras should be captured at the same time e.g. RGB Image and Depth Image"
   ]
  },
  {
   "cell_type": "code",
   "execution_count": null,
   "id": "a95e2ab0",
   "metadata": {},
   "outputs": [],
   "source": [
    "# !pip install vidgear"
   ]
  },
  {
   "cell_type": "code",
   "execution_count": null,
   "id": "6d68b48a",
   "metadata": {},
   "outputs": [],
   "source": [
    "RGB_IMAGE_PATH = os.path.join(OBJECT_PATH, \"rgb\")\n",
    "DEPTH_IMAGE_PATH = os.path.join(OBJECT_PATH, \"depth\")"
   ]
  },
  {
   "cell_type": "code",
   "execution_count": null,
   "id": "4cb435bc",
   "metadata": {},
   "outputs": [],
   "source": [
    "# Create folder for rgb and depth images\n",
    "if not os.path.exists(RGB_IMAGE_PATH):\n",
    "    os.mkdir(RGB_IMAGE_PATH)\n",
    "    \n",
    "if not os.path.exists(DEPTH_IMAGE_PATH):\n",
    "    os.mkdir(DEPTH_IMAGE_PATH)"
   ]
  },
  {
   "cell_type": "code",
   "execution_count": null,
   "id": "15bab91d",
   "metadata": {},
   "outputs": [],
   "source": [
    "# From https://stackoverflow.com/a/68342818; Last retrieved: 15.11.2022\n",
    "from vidgear.gears import VideoGear\n",
    "\n",
    "# Get multiple video streams\n",
    "stream1 = VideoGear(source=0, logging=True).start() \n",
    "stream2 = VideoGear(source=1, logging=True).start() \n",
    "\n",
    "while True:    \n",
    "    frame1 = stream1.read()\n",
    "    frame2 = stream2.read()\n",
    "\n",
    "    if frame1 is None or frame2 is None:\n",
    "        break\n",
    "    \n",
    "    cv2.imshow(\"Capture Frame1\", frame1)\n",
    "    cv2.imshow(\"Capture Frame2\", frame2)\n",
    "\n",
    "    key = cv2.waitKey(1) & 0xFF\n",
    "    # Save an image if 'm' key is pressed\n",
    "    if key == ord(\"m\"):\n",
    "        file_name = f'{str(uuid.uuid1())}.jpg'\n",
    "        rgb_img_name = os.path.join(RGB_IMAGE_PATH, file_name)\n",
    "        depth_img_name = os.path.join(DEPTH_IMAGE_PATH, file_name)\n",
    "        \n",
    "        cv2.imwrite(rgb_img_name, frame1)\n",
    "        cv2.imwrite(depth_img_name, frame2)\n",
    "        \n",
    "    # Stop image capture if 'q' key is pressed\n",
    "    if key == ord(\"q\"):\n",
    "        break\n",
    "\n",
    "cv2.destroyAllWindows()\n",
    "\n",
    "stream1.stop()\n",
    "stream2.stop()"
   ]
  },
  {
   "cell_type": "code",
   "execution_count": 7,
   "id": "34e91fa4",
   "metadata": {},
   "outputs": [],
   "source": [
    "# From https://github.com/UnaNancyOwen/AzureKinectSample/blob/master/sample/python/depth.py\n",
    "class kinect:\n",
    "    # Kinect\n",
    "    _device = None\n",
    "    _capture = None\n",
    "\n",
    "    # Depth\n",
    "    _depth_image = None\n",
    "    _depth = None\n",
    "\n",
    "    def __init__(self):\n",
    "        self.initialize()\n",
    "\n",
    "    def __del__(self):\n",
    "        self.finalize()\n",
    "\n",
    "    def initialize(self):\n",
    "        self.initialize_sensor()\n",
    "\n",
    "    def finalize(self):\n",
    "        self.finalize_sensor()\n",
    "\n",
    "    def initialize_sensor(self):\n",
    "        # Open Device\n",
    "        self._device = k4a.Device.open()\n",
    "\n",
    "        # Start Cameras\n",
    "        device_config = k4a.DeviceConfiguration(\n",
    "            color_format=k4a.EImageFormat.COLOR_BGRA32,\n",
    "            color_resolution=k4a.EColorResolution.RES_720P,\n",
    "            depth_mode=k4a.EDepthMode.NFOV_UNBINNED,\n",
    "            camera_fps=k4a.EFramesPerSecond.FPS_30,\n",
    "            synchronized_images_only=True\n",
    "        )\n",
    "        status = self._device.start_cameras(device_config)\n",
    "        if status != k4a.EStatus.SUCCEEDED:\n",
    "            raise IOError(\"failed start cameras!\")\n",
    "\n",
    "    def finalize_sensor(self):\n",
    "        # Stop Cameras\n",
    "        self._device.stop_cameras()\n",
    "\n",
    "    def run(self):\n",
    "        while True:\n",
    "            self.update()\n",
    "            self.draw()\n",
    "            self.show()\n",
    "\n",
    "            key = cv2.waitKey(10)\n",
    "            if key == ord('q'):\n",
    "                break\n",
    "\n",
    "    def update(self):\n",
    "        self.update_frame()\n",
    "        self.update_depth()\n",
    "\n",
    "    def update_frame(self):\n",
    "        # Capture Frame\n",
    "        self._capture = self._device.get_capture(-1)\n",
    "        if self._capture is None:\n",
    "            raise IOError(\"failed get capture!\")\n",
    "\n",
    "    def update_depth(self):\n",
    "        # Update Depth\n",
    "        self._depth_image = self._capture.depth\n",
    "\n",
    "    def draw(self):\n",
    "        self.draw_depth()\n",
    "\n",
    "    def draw_depth(self):\n",
    "        # Draw Depth\n",
    "        self._depth = self._depth_image.data\n",
    "\n",
    "    def show(self):\n",
    "        self.show_depth()\n",
    "\n",
    "    def show_depth(self):\n",
    "        # Scaling Depth\n",
    "        self._depth = self._depth * (-255.0 / 5000.0) + 255.0\n",
    "        self._depth = self._depth.astype(np.uint8)\n",
    "\n",
    "        # Show Depth\n",
    "        cv2.imshow(\"depth\", self._depth)"
   ]
  },
  {
   "cell_type": "code",
   "execution_count": null,
   "id": "319c3abe",
   "metadata": {},
   "outputs": [],
   "source": []
  }
 ],
 "metadata": {
  "kernelspec": {
   "display_name": "env",
   "language": "python",
   "name": "env"
  },
  "language_info": {
   "codemirror_mode": {
    "name": "ipython",
    "version": 3
   },
   "file_extension": ".py",
   "mimetype": "text/x-python",
   "name": "python",
   "nbconvert_exporter": "python",
   "pygments_lexer": "ipython3",
   "version": "3.8.10"
  }
 },
 "nbformat": 4,
 "nbformat_minor": 5
}
